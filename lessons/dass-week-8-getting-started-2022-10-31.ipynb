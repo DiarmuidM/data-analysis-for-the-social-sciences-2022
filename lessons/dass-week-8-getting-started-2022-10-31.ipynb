{
 "cells": [
  {
   "cell_type": "markdown",
   "id": "otherwise-cache",
   "metadata": {},
   "source": [
    "<p align=\"right\"><i>Data Analysis for the Social Sciences - Part II - 2022-10-31</i></p>"
   ]
  },
  {
   "cell_type": "markdown",
   "id": "dynamic-conjunction",
   "metadata": {},
   "source": [
    "# Week 8 - Getting Started"
   ]
  },
  {
   "cell_type": "markdown",
   "id": "exclusive-methodology",
   "metadata": {},
   "source": [
    "Welcome to Part II of Data Analysis for the Social Sciences. In this lab session we will get setup for conducting our first substantial piece of quantitative data analysis (Assessment 2).\n",
    "\n",
    "We will focus on the following:\n",
    "1. Installing R and RStudio\n",
    "2. Setting up a project folder\n",
    "3. Creating and executing a syntax file\n",
    "4. Formulating / choosing a research question\n",
    "5. Understanding the requirements for Assessment 2"
   ]
  },
  {
   "cell_type": "markdown",
   "id": "judicial-prediction",
   "metadata": {},
   "source": [
    "### Lesson details\n",
    "\n",
    "* **Level**: Introductory, for individuals with no prior knowledge or experience of quantitative data analysis.\n",
    "* **Duration**: 45-60 minutes.\n",
    "* **Pre-requisites**: None.\n",
    "* **Programming language**: R.\n",
    "* **Learning outcomes**:\n",
    "\t1. Understand how to setup your computing environment for conducting quantitative data analysis.\n",
    "\t2. Understand how to produce a robust, high-quality report for Assessment 2."
   ]
  },
  {
   "cell_type": "markdown",
   "id": "terminal-agenda",
   "metadata": {},
   "source": [
    "## Guide to using this notebook\n",
    "\n",
    "This learning resource was built using <a href=\"https://jupyter.org/\" target=_blank>Jupyter Notebook</a>, an open-source software application that allows you to mix code, results and narrative in a single document. As <a href=\"https://jupyter4edu.github.io/jupyter-edu-book/\" target=_blank>Barba et al. (2019)</a> espouse:\n",
    "> In a world where every subject matter can have a data-supported treatment, where computational devices are omnipresent and pervasive, the union of natural language and computation creates compelling communication and learning opportunities.\n",
    "\n",
    "If you are familiar with Jupyter notebooks then skip ahead to the main content (*Installing R and RStudio*). Otherwise, the following is a quick guide to navigating and interacting with the notebook."
   ]
  },
  {
   "cell_type": "markdown",
   "id": "interested-radar",
   "metadata": {},
   "source": [
    "### Interaction\n",
    "\n",
    "**You only need to execute the code that is contained in sections which are marked by `[]`.**\n",
    "\n",
    "To execute a cell, click or double-click the cell and press the `Play` button next to the cell or select the `Run` button on the top toolbar (*Runtime > Run the focused cell*); you can also use the keyboard shortcuts `Shift + Enter` or `Ctrl + Enter`).\n",
    "\n",
    "Try it for yourself:"
   ]
  },
  {
   "cell_type": "code",
   "execution_count": null,
   "id": "dominican-hardware",
   "metadata": {},
   "outputs": [],
   "source": [
    "name <- readline(prompt=\"Enter name: \")\n",
    "print(paste(\"Hi,\", name, \"enjoy learning more about R and exploring data!\"))"
   ]
  },
  {
   "cell_type": "markdown",
   "id": "through-storm",
   "metadata": {},
   "source": [
    "Notebooks are sequential, meaning code should be executed in order (top to bottom). For example, the following code won't work:"
   ]
  },
  {
   "cell_type": "code",
   "execution_count": null,
   "id": "outstanding-bulgaria",
   "metadata": {},
   "outputs": [],
   "source": [
    "x * 5"
   ]
  },
  {
   "cell_type": "markdown",
   "id": "handmade-madagascar",
   "metadata": {},
   "source": [
    "As the error message suggests, there is no object (variable) called `x`, therefore we cannot do any calculations with it. \n",
    "\n",
    "Let's try a sequential approach:"
   ]
  },
  {
   "cell_type": "code",
   "execution_count": null,
   "id": "addressed-assumption",
   "metadata": {},
   "outputs": [],
   "source": [
    "x <- 10 # create an object called 'x' and give it the value '10'"
   ]
  },
  {
   "cell_type": "code",
   "execution_count": null,
   "id": "crucial-implement",
   "metadata": {},
   "outputs": [],
   "source": [
    "x * 5 # multiply 'x' by 5"
   ]
  },
  {
   "cell_type": "markdown",
   "id": "covered-round",
   "metadata": {},
   "source": [
    "### Learn more\n",
    "\n",
    "Jupyter notebooks provide rich, flexible features for conducting and documenting your data analysis workflow. To learn more about additional notebook features, we recommend working through some of the <a href=\"https://github.com/darribas/gds19/blob/master/content/labs/lab_00.ipynb\" target=_blank>materials</a> provided by Dani Arribas-Bel at the University of Liverpool. "
   ]
  },
  {
   "cell_type": "markdown",
   "id": "floppy-escape",
   "metadata": {},
   "source": [
    "### Learner input\n",
    "\n",
    "Throughout the lessons there times when you need to do the following activities:\n",
    "* **TASK:** A coding task for you to complete (e.g. create new variables).\n",
    "* **QUESTION:** A question regarding your interpretation of some code or a technique (e.g. what is the piece of code doing?).\n",
    "* **EXERCISE:** A data analysis challenge for you to complete."
   ]
  },
  {
   "cell_type": "markdown",
   "id": "6a83e487",
   "metadata": {},
   "source": [
    "## Installing R and RStudio"
   ]
  },
  {
   "cell_type": "markdown",
   "id": "6eae16d2",
   "metadata": {},
   "source": [
    "To conduct your own quantitative data analysis you will need two pieces of free software installed on your machine:\n",
    "1. **R** - this is a programming language that has been customised for statistical analysis.\n",
    "2. **RStudio** - this is a programming environment that provides a user-friendly interface for running R code."
   ]
  },
  {
   "cell_type": "markdown",
   "id": "6ad82b69",
   "metadata": {},
   "source": [
    "### Installing R"
   ]
  },
  {
   "cell_type": "markdown",
   "id": "99f2db67",
   "metadata": {},
   "source": [
    "This is, thankfully, a much simplified task these days. Simply head to https://www.stats.bris.ac.uk/R/ and select the correct link for your operating system. \n",
    "\n",
    "For example, if you are using a Windows machine select the [Download R for Windows](https://www.stats.bris.ac.uk/R/) option.\n",
    "\n",
    "Follow the download instructions and *R* should be installed in no time."
   ]
  },
  {
   "cell_type": "markdown",
   "id": "7f88dab2",
   "metadata": {},
   "source": [
    "### Installing RStudio"
   ]
  },
  {
   "cell_type": "markdown",
   "id": "5729a07b",
   "metadata": {},
   "source": [
    "Head to https://www.rstudio.com/products/rstudio/download/ and select the **RStudio Desktop (Free)** option.\n",
    "\n",
    "Select the correct link for your operating system. Often this appears at the top of the page as a large, blue button.\n",
    "\n",
    "For example, if you are using a Windows machine you should see a [DOWNLOAD RSTUDIO FOR WINDOWS](https://download1.rstudio.org/desktop/windows/RStudio-2022.07.2-576.exe) option.\n",
    "\n",
    "Follow the download instructions and *RStudio* should be installed in no time."
   ]
  },
  {
   "cell_type": "markdown",
   "id": "cbe1188e",
   "metadata": {},
   "source": [
    "## Setting up a project folder"
   ]
  },
  {
   "cell_type": "code",
   "execution_count": 1,
   "id": "b30049ac",
   "metadata": {},
   "outputs": [],
   "source": [
    "# VIDEO TBA"
   ]
  },
  {
   "cell_type": "markdown",
   "id": "c8a57797",
   "metadata": {},
   "source": [
    "## Opening and exploring RStudio"
   ]
  },
  {
   "cell_type": "markdown",
   "id": "ff755bc0",
   "metadata": {},
   "source": [
    "Please see the excellent advice below for getting started with RStudio."
   ]
  },
  {
   "cell_type": "markdown",
   "id": "4067bbac",
   "metadata": {},
   "source": [
    "https://crimebythenumbers.com/intro-to-r.html#using-rstudio"
   ]
  },
  {
   "cell_type": "markdown",
   "id": "18563207",
   "metadata": {},
   "source": [
    "## Creating and executing a syntax file"
   ]
  },
  {
   "cell_type": "code",
   "execution_count": 1,
   "id": "aef0c20a",
   "metadata": {},
   "outputs": [],
   "source": [
    "# VIDEO TBA"
   ]
  },
  {
   "cell_type": "markdown",
   "id": "democratic-office",
   "metadata": {},
   "source": [
    "## Research questions"
   ]
  },
  {
   "cell_type": "markdown",
   "id": "respected-comedy",
   "metadata": {},
   "source": [
    "A smart piece of quantitative data analysis needs a focus: many secondary datasets of interest contain 100s of variables and 10,000s of obervations. As social researchers we are not interested in going on a \"fishing expedition\", conducting meandering, unfocused analyses. Specifying a well-defined research question provides a focus and framework for our analysis.\n",
    "\n",
    "Therefore you need to formulate or select a research question to answer for Assessment 2. There are two ways you can do this:\n",
    "1. Select one of the [questions suggested by the UK Data Service](./research-questions/8735_natsal_suggestions_for_research_questions.pdf).\n",
    "2. Explore the [*Natsal* codebook](./codebook/8735_natsal_teaching_codebook_v1.pdf) for a list of variables that may of interest."
   ]
  },
  {
   "cell_type": "markdown",
   "id": "ac099ee1",
   "metadata": {},
   "source": [
    "The only research question you cannot choose is the example we have been using throughout this module:"
   ]
  },
  {
   "cell_type": "markdown",
   "id": "53e96118",
   "metadata": {},
   "source": [
    "<p><center><i>Is religion associated with differences in sexual attitudes and behaviours among British people?</i></center></p>"
   ]
  },
  {
   "cell_type": "markdown",
   "id": "2eeb911c",
   "metadata": {},
   "source": [
    "## Assessment 2 requirements"
   ]
  },
  {
   "cell_type": "markdown",
   "id": "13d9a453",
   "metadata": {},
   "source": [
    "Assessment 2 requires you to complete a 3000-word report based on a piece of quantitative data analysis (Scenario A).\n",
    "\n",
    "To successfully complete this assessment, follow this framework:\n",
    "1. Choose a research question.\n",
    "2. Using the codebook, select 5-7 variables that help you answer this research question. One or two of these variables should be designated your **dependent variable(s)** and the others should be designated your **independent variables**.\n",
    "3. Ensure R and RStudio are setup on your machine, and you have a sensible project folder created that contains the dataset, documentation, syntax files etc.\n",
    "4. Conduct your data analysis using a syntax file (i.e., no drop-down menus); specifically we are looking for three types of analysis:\n",
    "    * Univariate analysis\n",
    "    * Bivariate analysis\n",
    "    * Multivariate analysis\n",
    "5. Write your report by following the structure and guidance provided in Week 12. You should also consult the [example report]() for inspiration."
   ]
  },
  {
   "cell_type": "markdown",
   "id": "53af423d",
   "metadata": {},
   "source": [
    "### Data resources"
   ]
  },
  {
   "cell_type": "markdown",
   "id": "51586e48",
   "metadata": {},
   "source": [
    "You can find the dataset needed for your assessment on the *Quantitative Data* page under the Journey tab on [Aula](https://uws.aula.education/?#/dashboard/66f737f1-69c9-4e50-90aa-037f35c2d6ce/journey/materials/671e0a11-9b6f-4d5e-89c6-14c04045c883)."
   ]
  }
 ],
 "metadata": {
  "kernelspec": {
   "display_name": "R",
   "language": "R",
   "name": "ir"
  },
  "language_info": {
   "codemirror_mode": "r",
   "file_extension": ".r",
   "mimetype": "text/x-r-source",
   "name": "R",
   "pygments_lexer": "r",
   "version": "4.2.1"
  }
 },
 "nbformat": 4,
 "nbformat_minor": 5
}
