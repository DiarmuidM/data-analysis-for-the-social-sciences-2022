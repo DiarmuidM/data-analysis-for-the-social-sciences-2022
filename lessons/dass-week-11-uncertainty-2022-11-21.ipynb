{
 "cells": [
  {
   "cell_type": "markdown",
   "id": "otherwise-cache",
   "metadata": {},
   "source": [
    "<p align=\"right\"><i>Data Analysis for the Social Sciences - Part II - 2021-11-29</i></p>"
   ]
  },
  {
   "cell_type": "markdown",
   "id": "dynamic-conjunction",
   "metadata": {},
   "source": [
    "# Quantitative Data Analysis"
   ]
  },
  {
   "cell_type": "markdown",
   "id": "exclusive-methodology",
   "metadata": {},
   "source": [
    "Welcome to Part II of Data Analysis for the Social Sciences. In this stream - Quantitative Data Analysis - we will conduct a range of statistical analyses in order to answer the following research question:"
   ]
  },
  {
   "cell_type": "markdown",
   "id": "bibliographic-stranger",
   "metadata": {},
   "source": [
    "<p><center><i>Is religion associated with differences in sexual attitudes and behaviours among British people?</i></center></p>"
   ]
  },
  {
   "cell_type": "markdown",
   "id": "scenic-silly",
   "metadata": {},
   "source": [
    "### Aims\n",
    "\n",
    "This lesson - **Expressing Uncertainty** - has two aims:\n",
    "1. Demonstrate how to calculate and communicate measures of uncertainty relating to your quantitative findings.\n",
    "2. Cultivate your computational skills through the use of the statistical programming langauge *R*. For example, there are a number of opportunities for you to amend or write R syntax (code)."
   ]
  },
  {
   "cell_type": "markdown",
   "id": "judicial-prediction",
   "metadata": {},
   "source": [
    "### Lesson details\n",
    "\n",
    "* **Level**: Introductory, for individuals with some prior knowledge or experience of quantitative data analysis.\n",
    "* **Duration**: 30-45 minutes.\n",
    "* **Pre-requisites**: None.\n",
    "* **Programming language**: R.\n",
    "* **Learning outcomes**:\n",
    "\t1. Understand how to use R for quantitative data analysis.\n",
    "\t2. Understand how to select and apply common measures of uncertainty relating to quantitative findings."
   ]
  },
  {
   "cell_type": "markdown",
   "id": "terminal-agenda",
   "metadata": {},
   "source": [
    "## Guide to using this resource\n",
    "\n",
    "This learning resource was built using <a href=\"https://jupyter.org/\" target=_blank>Jupyter Notebook</a>, an open-source software application that allows you to mix code, results and narrative in a single document. As <a href=\"https://jupyter4edu.github.io/jupyter-edu-book/\" target=_blank>Barba et al. (2019)</a> espouse:\n",
    "> In a world where every subject matter can have a data-supported treatment, where computational devices are omnipresent and pervasive, the union of natural language and computation creates compelling communication and learning opportunities.\n",
    "\n",
    "If you are familiar with Jupyter notebooks then skip ahead to the main content (*Introduction to uncertainty*). Otherwise, the following is a quick guide to navigating and interacting with the notebook."
   ]
  },
  {
   "cell_type": "markdown",
   "id": "interested-radar",
   "metadata": {},
   "source": [
    "### Interaction\n",
    "\n",
    "**You only need to execute the code that is contained in sections which are marked by `In []`.**\n",
    "\n",
    "To execute a cell, click or double-click the cell and press the `Run` button on the top toolbar (you can also use the keyboard shortcut `Shift + Enter`).\n",
    "\n",
    "Try it for yourself:"
   ]
  },
  {
   "cell_type": "code",
   "execution_count": 1,
   "id": "dominican-hardware",
   "metadata": {},
   "outputs": [
    {
     "name": "stdout",
     "output_type": "stream",
     "text": [
      "Enter name: Diarmuid McDonnell\n",
      "[1] \"Hi, Diarmuid McDonnell enjoy learning more about R and measures of uncertainty!\"\n"
     ]
    }
   ],
   "source": [
    "name <- readline(prompt=\"Enter name: \")\n",
    "print(paste(\"Hi,\", name, \"enjoy learning more about R and measures of uncertainty!\"))"
   ]
  },
  {
   "cell_type": "markdown",
   "id": "through-storm",
   "metadata": {},
   "source": [
    "Notebooks are sequential, meaning code should be executed in order (top to bottom). For example, the following code won't work:"
   ]
  },
  {
   "cell_type": "code",
   "execution_count": 106,
   "id": "outstanding-bulgaria",
   "metadata": {},
   "outputs": [
    {
     "data": {
      "text/html": [
       "50"
      ],
      "text/latex": [
       "50"
      ],
      "text/markdown": [
       "50"
      ],
      "text/plain": [
       "[1] 50"
      ]
     },
     "metadata": {},
     "output_type": "display_data"
    }
   ],
   "source": [
    "x * 5"
   ]
  },
  {
   "cell_type": "markdown",
   "id": "handmade-madagascar",
   "metadata": {},
   "source": [
    "As the error message suggests, there is no object (variable) called `x`, therefore we cannot do any calculations with it. \n",
    "\n",
    "Let's try a sequential approach:"
   ]
  },
  {
   "cell_type": "code",
   "execution_count": 145,
   "id": "addressed-assumption",
   "metadata": {},
   "outputs": [],
   "source": [
    "x <- 10 # create an object called 'x' and give it the value '10'"
   ]
  },
  {
   "cell_type": "code",
   "execution_count": 146,
   "id": "crucial-implement",
   "metadata": {},
   "outputs": [
    {
     "data": {
      "text/html": [
       "50"
      ],
      "text/latex": [
       "50"
      ],
      "text/markdown": [
       "50"
      ],
      "text/plain": [
       "[1] 50"
      ]
     },
     "metadata": {},
     "output_type": "display_data"
    }
   ],
   "source": [
    "x * 5 # multiply 'x' by 5"
   ]
  },
  {
   "cell_type": "markdown",
   "id": "covered-round",
   "metadata": {},
   "source": [
    "### Learn more\n",
    "\n",
    "Jupyter notebooks provide rich, flexible features for conducting and documenting your data analysis workflow. To learn more about additional notebook features, we recommend working through some of the <a href=\"https://github.com/darribas/gds19/blob/master/content/labs/lab_00.ipynb\" target=_blank>materials</a> provided by Dani Arribas-Bel at the University of Liverpool. "
   ]
  },
  {
   "cell_type": "markdown",
   "id": "floppy-escape",
   "metadata": {},
   "source": [
    "### Learner input\n",
    "\n",
    "Throughout the lessons there times when you need to do the following activities:\n",
    "* **TASK:** A coding task for you to complete (e.g. analyse different variables).\n",
    "* **QUESTION:** A question regarding your interpretation of some code or a technique (e.g. what is the piece of code doing?).\n",
    "* **EXERCISE:** A data analysis challenge for you to complete."
   ]
  },
  {
   "cell_type": "markdown",
   "id": "democratic-office",
   "metadata": {},
   "source": [
    "## Introduction to multivariate data analysis"
   ]
  },
  {
   "cell_type": "markdown",
   "id": "respected-comedy",
   "metadata": {},
   "source": [
    "In the [**previous lessons**](https://github.com/DiarmuidM/data-analysis-for-the-social-sciences-2021/blob/main/lessons), we learned how to conduct a range of univariate, bivariate and multivariate analyses. The results of these analyses are often quite precise and accurate:\n",
    "* The exact proportion of respondents who claim that religion is 'Very important' to them (14%).\n",
    "* The average conservative attitude score for different age groups (16-24 year olds = -0.14817995).\n",
    "\n",
    "However the ability to produce such exact summaries ignores the great deal of **uncertainty** associated with any piece of quantitative data analysis. For example, how confident are we that 14% of all British adults would claim that religion is very important to them? If it isn't 14%, then how much larger or smaller is the 'true' percentage? \n",
    "\n",
    "Remember, our estimate of 14% comes from the **sample** of people who happened to participate in the *Natsal* wave 3 survey (2010-12). Is this group perfectly representative of the wider **population** from which it was drawn (16-74 year olds in Britain)?\n",
    "\n",
    "Have a look at the lecture and materials from Week 3 (*Principles of Quantitative Data Analysis I*) but the short answer is this:"
   ]
  },
  {
   "cell_type": "markdown",
   "id": "signal-expert",
   "metadata": {},
   "source": [
    "<p><center><i>Samples will always differ from their population due to random chance</i></center></p>"
   ]
  },
  {
   "cell_type": "markdown",
   "id": "agricultural-virtue",
   "metadata": {},
   "source": [
    "Thus in this lesson we will focus on expressing the inherent uncertainty in our quantitative analyses. There are a variety of measures of uncertainty but all are united by trying to answer the following question:\n",
    "* Can we generalise our result to the wider population from which we drew our sample?"
   ]
  },
  {
   "cell_type": "markdown",
   "id": "standing-welding",
   "metadata": {},
   "source": [
    "## Multivariate data analysis in action"
   ]
  },
  {
   "cell_type": "markdown",
   "id": "coordinate-jonathan",
   "metadata": {},
   "source": [
    "### Preliminaries"
   ]
  },
  {
   "cell_type": "markdown",
   "id": "square-knife",
   "metadata": {},
   "source": [
    "Let's import the *Natsal* dataset and label the values some of our key variables:"
   ]
  },
  {
   "cell_type": "code",
   "execution_count": 2,
   "id": "agreed-future",
   "metadata": {},
   "outputs": [],
   "source": [
    "natsal <- read.table(\"./data/natsal_3_teaching_open.tab\", header=TRUE, na=\"NA\", sep=\"\\t\")"
   ]
  },
  {
   "cell_type": "code",
   "execution_count": 3,
   "id": "studied-transcript",
   "metadata": {},
   "outputs": [],
   "source": [
    "natsal$agrp <- factor(natsal$agrp, levels = c(1,2,3,4,5,6), labels = c(\"16-24\", \"25-34\", \"35-44\", \n",
    "                                                                       \"45-54\", \"55-64\", \"65-74\"))"
   ]
  },
  {
   "cell_type": "code",
   "execution_count": 4,
   "id": "jewish-apartment",
   "metadata": {},
   "outputs": [],
   "source": [
    "natsal$religimp <- factor(natsal$religimp, levels = c(1,2,3,4,9), labels = c(\"Very important\", \"Fairly important\", \n",
    "                                                                             \"Not very important\", \"Not important at all\", \"Not answered\"))"
   ]
  },
  {
   "cell_type": "code",
   "execution_count": 5,
   "id": "romance-black",
   "metadata": {},
   "outputs": [],
   "source": [
    "natsal$rsex <- factor(natsal$rsex, levels = c(1,2), labels = c(\"Male\", \"Female\"))"
   ]
  },
  {
   "cell_type": "code",
   "execution_count": 6,
   "id": "neural-shark",
   "metadata": {},
   "outputs": [],
   "source": [
    "natsal$ethnicgrp <- factor(natsal$ethnicgrp, levels = c(1,2,9), labels = c(\"White\", \"Non-white\", \"Not answered\"))"
   ]
  },
  {
   "cell_type": "markdown",
   "id": "wired-found",
   "metadata": {},
   "source": [
    "### Uncertainty in univariate analysis"
   ]
  },
  {
   "cell_type": "markdown",
   "id": "complicated-ebony",
   "metadata": {},
   "source": [
    "Univariate analysis produces statistical summaries of numeric and categorical variables e.g., average attitude to sex; proportion of respondents in the 16-24 age group etc. However these single numbers give an inflated sense of accuracy and precision. Thus we need some way of expressing the **range** of plausible values for a given statistical summary. You may have heard of this range referred to as **confidence intervals**, **margins of error**, **polling error** etc."
   ]
  },
  {
   "cell_type": "markdown",
   "id": "streaming-ticket",
   "metadata": {},
   "source": [
    "#### Numeric variables"
   ]
  },
  {
   "cell_type": "markdown",
   "id": "sensitive-victory",
   "metadata": {},
   "source": [
    "Let's look at an example for our measure of attitude to sex (`attconservative`)."
   ]
  },
  {
   "cell_type": "code",
   "execution_count": 7,
   "id": "equal-shuttle",
   "metadata": {},
   "outputs": [
    {
     "data": {
      "text/plain": [
       "    Min.  1st Qu.   Median     Mean  3rd Qu.     Max.     NA's \n",
       "-3.88938 -0.67900 -0.02177 -0.01728  0.71396  2.59516      299 "
      ]
     },
     "metadata": {},
     "output_type": "display_data"
    }
   ],
   "source": [
    "summary(natsal$attconservative)"
   ]
  },
  {
   "cell_type": "markdown",
   "id": "junior-recognition",
   "metadata": {},
   "source": [
    "We see that the average attitude is slightly liberal (less than zero). However this finding was generated by using data on our current sample of randomly selected respondents. What if we had a different sample of respondents? Would we also expect the average score for this variable to be '-0.01728'? And if we had a different sample again?\n",
    "\n",
    "Thanks to sampling theory, we can produce a range or interval of plausible values for average attitude (or any average of a numeric variable)."
   ]
  },
  {
   "cell_type": "code",
   "execution_count": 8,
   "id": "convinced-landscape",
   "metadata": {},
   "outputs": [
    {
     "data": {
      "text/plain": [
       "\n",
       "\tOne Sample t-test\n",
       "\n",
       "data:  natsal$attconservative\n",
       "t = -1.0147, df = 3499, p-value = 0.3103\n",
       "alternative hypothesis: true mean is not equal to 0\n",
       "95 percent confidence interval:\n",
       " -0.05066760  0.01610798\n",
       "sample estimates:\n",
       "  mean of x \n",
       "-0.01727981 \n"
      ]
     },
     "metadata": {},
     "output_type": "display_data"
    }
   ],
   "source": [
    "t.test(natsal$attconservative, na.rm = TRUE) # calculate 95% confidence intervals for the mean of `attconservative`"
   ]
  },
  {
   "cell_type": "markdown",
   "id": "abstract-religious",
   "metadata": {},
   "source": [
    "We get lots of information returned but all we need for our interpretation is the following:\n",
    "> 95 percent confidence interval:\n",
    "> -0.05066760     0.01610798"
   ]
  },
  {
   "cell_type": "markdown",
   "id": "convinced-telephone",
   "metadata": {},
   "source": [
    "The one-line summary is this: the mean attitude score is very probably between '-0.05066760' and '0.01610798' in the population of British adults from which the sample was drawn. The figure of '-0.01727981' remains our best estimate but we now acknowledge that the score in the population could actually be between '-0.05066760' and '0.01610798'."
   ]
  },
  {
   "cell_type": "markdown",
   "id": "developing-emphasis",
   "metadata": {},
   "source": [
    "This can be tricky to get your head around, so let's look at another example: age at birth of first child (`dage1ch`)."
   ]
  },
  {
   "cell_type": "code",
   "execution_count": 9,
   "id": "equipped-albert",
   "metadata": {},
   "outputs": [
    {
     "data": {
      "text/plain": [
       "   Min. 1st Qu.  Median    Mean 3rd Qu.    Max. \n",
       "  15.00   21.00   24.00   24.84   28.00   40.00 "
      ]
     },
     "metadata": {},
     "output_type": "display_data"
    }
   ],
   "source": [
    "dage1ch_valid <- subset(natsal, dage1ch > -1 & dage1ch < 99) # drop invalid values of this variable\n",
    "summary(dage1ch_valid$dage1ch)"
   ]
  },
  {
   "cell_type": "code",
   "execution_count": 10,
   "id": "superb-vegetation",
   "metadata": {},
   "outputs": [
    {
     "data": {
      "text/plain": [
       "\n",
       "\tOne Sample t-test\n",
       "\n",
       "data:  dage1ch_valid$dage1ch\n",
       "t = 206.53, df = 1924, p-value < 2.2e-16\n",
       "alternative hypothesis: true mean is not equal to 0\n",
       "95 percent confidence interval:\n",
       " 24.60567 25.07745\n",
       "sample estimates:\n",
       "mean of x \n",
       " 24.84156 \n"
      ]
     },
     "metadata": {},
     "output_type": "display_data"
    }
   ],
   "source": [
    "t.test(dage1ch_valid$dage1ch, na.rm = TRUE) # calculate 95% confidence intervals for the mean of `dage1ch`"
   ]
  },
  {
   "cell_type": "markdown",
   "id": "greater-tactics",
   "metadata": {},
   "source": [
    "The mean age at which our respondents have their first child is '24.8' years old, but we acknowledge that the mean age in the population could actually be between '24.6' and '25.1'. Therefore the range of the confidence interval is very tight around the mean, providing confidence that '24.8' is a good estimate of the average age at which adults in Britain have their first child.\n",
    "\n",
    "Imagine our mean was still '24.8' but the confidence interval ranged from '19.5' to '31.2'. Now the mean does not look like a good estimate of the average age at which adults in Britain have their first child.\n",
    "\n",
    "Calculating a confidence interval does not invalidate your estimate of the mean of a numeric variable, it simply provides some caution when making claims about a **population** based on a **sample**."
   ]
  },
  {
   "cell_type": "markdown",
   "id": "compressed-steps",
   "metadata": {},
   "source": [
    "#### Categorical variables"
   ]
  },
  {
   "cell_type": "markdown",
   "id": "logical-sherman",
   "metadata": {},
   "source": [
    "We can also calculate a range of uncertainty for categories of a categorical variable."
   ]
  },
  {
   "cell_type": "code",
   "execution_count": 12,
   "id": "changing-librarian",
   "metadata": {},
   "outputs": [
    {
     "data": {
      "text/plain": [
       "\n",
       "      Very important     Fairly important   Not very important \n",
       "         0.144774941          0.246117399          0.290076336 \n",
       "Not important at all         Not answered \n",
       "         0.314293235          0.004738089 "
      ]
     },
     "metadata": {},
     "output_type": "display_data"
    }
   ],
   "source": [
    "prop.table(table(natsal$religimp))"
   ]
  },
  {
   "cell_type": "markdown",
   "id": "banned-austria",
   "metadata": {},
   "source": [
    "(Multiply the proportions by 100 to convert them to percentages)\n",
    "\n",
    "We observe that 14% of respondents claim that religion is very important to them, 25% that it is fairly important etc. Are these good estimates of how the population of adults in Britain feel about religion?"
   ]
  },
  {
   "cell_type": "code",
   "execution_count": 19,
   "id": "hearing-netscape",
   "metadata": {},
   "outputs": [
    {
     "data": {
      "text/html": [
       "<table class=\"dataframe\">\n",
       "<caption>A matrix: 5 × 3 of type dbl</caption>\n",
       "<thead>\n",
       "\t<tr><th></th><th scope=col>est</th><th scope=col>lwr.ci</th><th scope=col>upr.ci</th></tr>\n",
       "</thead>\n",
       "<tbody>\n",
       "\t<tr><th scope=row>Very important</th><td>0.144774941</td><td>0.1276652</td><td>0.16209090</td></tr>\n",
       "\t<tr><th scope=row>Fairly important</th><td>0.246117399</td><td>0.2290076</td><td>0.26343336</td></tr>\n",
       "\t<tr><th scope=row>Not very important</th><td>0.290076336</td><td>0.2729666</td><td>0.30739230</td></tr>\n",
       "\t<tr><th scope=row>Not important at all</th><td>0.314293235</td><td>0.2971835</td><td>0.33160920</td></tr>\n",
       "\t<tr><th scope=row>Not answered</th><td>0.004738089</td><td>0.0000000</td><td>0.02205405</td></tr>\n",
       "</tbody>\n",
       "</table>\n"
      ],
      "text/latex": [
       "A matrix: 5 × 3 of type dbl\n",
       "\\begin{tabular}{r|lll}\n",
       "  & est & lwr.ci & upr.ci\\\\\n",
       "\\hline\n",
       "\tVery important & 0.144774941 & 0.1276652 & 0.16209090\\\\\n",
       "\tFairly important & 0.246117399 & 0.2290076 & 0.26343336\\\\\n",
       "\tNot very important & 0.290076336 & 0.2729666 & 0.30739230\\\\\n",
       "\tNot important at all & 0.314293235 & 0.2971835 & 0.33160920\\\\\n",
       "\tNot answered & 0.004738089 & 0.0000000 & 0.02205405\\\\\n",
       "\\end{tabular}\n"
      ],
      "text/markdown": [
       "\n",
       "A matrix: 5 × 3 of type dbl\n",
       "\n",
       "| <!--/--> | est | lwr.ci | upr.ci |\n",
       "|---|---|---|---|\n",
       "| Very important | 0.144774941 | 0.1276652 | 0.16209090 |\n",
       "| Fairly important | 0.246117399 | 0.2290076 | 0.26343336 |\n",
       "| Not very important | 0.290076336 | 0.2729666 | 0.30739230 |\n",
       "| Not important at all | 0.314293235 | 0.2971835 | 0.33160920 |\n",
       "| Not answered | 0.004738089 | 0.0000000 | 0.02205405 |\n",
       "\n"
      ],
      "text/plain": [
       "                     est         lwr.ci    upr.ci    \n",
       "Very important       0.144774941 0.1276652 0.16209090\n",
       "Fairly important     0.246117399 0.2290076 0.26343336\n",
       "Not very important   0.290076336 0.2729666 0.30739230\n",
       "Not important at all 0.314293235 0.2971835 0.33160920\n",
       "Not answered         0.004738089 0.0000000 0.02205405"
      ]
     },
     "metadata": {},
     "output_type": "display_data"
    }
   ],
   "source": [
    "library(DescTools) # specific package for calculating confidence intervals for categorical variables\n",
    "\n",
    "MultinomCI(table(natsal$religimp)) # 95% confidence interval is the default"
   ]
  },
  {
   "cell_type": "markdown",
   "id": "brilliant-genealogy",
   "metadata": {},
   "source": [
    "We are 95% confident that the true proportion of adults in Britain who claim religion is very important is between 13% and 16% (lwr.ci = lower end of the interval, upr.ci = upper end of the interval)."
   ]
  },
  {
   "cell_type": "markdown",
   "id": "lonely-certificate",
   "metadata": {},
   "source": [
    "**TASK**: Calculate confidence intervals for the `snearly` variable. Look at the [codebook](./codebook/8786_natsal_open_codebook_feb21.pdf) to see what this variable measures."
   ]
  },
  {
   "cell_type": "code",
   "execution_count": 22,
   "id": "bound-endorsement",
   "metadata": {},
   "outputs": [],
   "source": [
    "# INSERT CODE HERE"
   ]
  },
  {
   "cell_type": "markdown",
   "id": "vietnamese-tongue",
   "metadata": {},
   "source": [
    "#### A note on confidence"
   ]
  },
  {
   "cell_type": "markdown",
   "id": "retired-bunny",
   "metadata": {},
   "source": [
    "You'll have seen reference to '95% confidence interval' and rightly wondered what it meant.\n",
    "\n",
    "Let's imagine that the *Natsal* survey was completed by 100 different samples of respondents (obviously this would be wildly expensive, impractical and unnecessary). The sampling procedure is the same (i.e., random sampling) and the sample sizes are the same (i.e., 15,000). And for each sample we calculate the mean of some numeric variable - let's say age at birth of first child.\n",
    "\n",
    "In such a scenario, a 95% confidence interval represents the following:\n",
    "* 95 of the 100 samples have a mean that falls into the range between '24.6' and 25.1'\n",
    "* 5 of the 100 samples have a mean that falls outside of the range between '24.6' and 25.1'\n",
    "\n",
    "The intractable problem is that we have no way telling whether the **actual** sample we observed (i.e., the people who completed the *Natsal* survey) is one of the 95 or one of the 5. \n",
    "\n",
    "All we know is that 95 times out of 100 the mean falls between a given range of values."
   ]
  },
  {
   "cell_type": "markdown",
   "id": "breathing-france",
   "metadata": {},
   "source": [
    "### Uncertainty in bivariate analysis"
   ]
  },
  {
   "cell_type": "markdown",
   "id": "reliable-lemon",
   "metadata": {},
   "source": [
    "A key aspect of bivariate analysis is producing a **measure of association** that summarises the strength / direction of a relationship between two variables. In this instance our uncertainty is not related to exact figure of a measure of association, but in how confident we are that the relationship is present in the population from which the sample was drawn.\n",
    "\n",
    "For example, we found a weak association between sex and importance of religion:"
   ]
  },
  {
   "cell_type": "code",
   "execution_count": 23,
   "id": "stainless-drove",
   "metadata": {},
   "outputs": [
    {
     "data": {
      "text/html": [
       "0.110551674622205"
      ],
      "text/latex": [
       "0.110551674622205"
      ],
      "text/markdown": [
       "0.110551674622205"
      ],
      "text/plain": [
       "[1] 0.1105517"
      ]
     },
     "metadata": {},
     "output_type": "display_data"
    }
   ],
   "source": [
    "CramerV(natsal$religimp, natsal$rsex)"
   ]
  },
  {
   "cell_type": "markdown",
   "id": "boolean-dialogue",
   "metadata": {},
   "source": [
    "How confident are we that this association exists in the population of British adults and not just in our sample? We can answer this question by calculating what are known as measures of **statistical significance**. \n",
    "\n",
    "A common measure of statistical significance is a **p-value**. This can be interpreted as a proportion, ranging from 0 to 1. In contrast to measures of association, we are interested in values close to 0, as these indicate a low chance of your association **NOT** being found in the population from which your sample was drawn. Put another way:\n",
    "* a p-value < 0.05 indicates a high probability that the association is found in the wider population and not just in the sample.\n",
    "* an association with a p-value < 0.05 is therefore said to be **statistically significant**. \n",
    "\n",
    "Therefore a p-value &mdash; and other measures of statistical significance &mdash; provides a summary of our confidence in the **generalisability** of the association / pattern we observe in the data."
   ]
  },
  {
   "cell_type": "markdown",
   "id": "valued-league",
   "metadata": {},
   "source": [
    "#### Categorical vs Categorical"
   ]
  },
  {
   "cell_type": "markdown",
   "id": "golden-devil",
   "metadata": {},
   "source": [
    "Let's return to the association between importance of religion and respondent's sex:"
   ]
  },
  {
   "cell_type": "code",
   "execution_count": 24,
   "id": "coordinated-fireplace",
   "metadata": {},
   "outputs": [
    {
     "data": {
      "text/html": [
       "0.110551674622205"
      ],
      "text/latex": [
       "0.110551674622205"
      ],
      "text/markdown": [
       "0.110551674622205"
      ],
      "text/plain": [
       "[1] 0.1105517"
      ]
     },
     "metadata": {},
     "output_type": "display_data"
    }
   ],
   "source": [
    "CramerV(natsal$religimp, natsal$rsex)"
   ]
  },
  {
   "cell_type": "code",
   "execution_count": 26,
   "id": "addressed-creek",
   "metadata": {},
   "outputs": [
    {
     "data": {
      "text/plain": [
       "\n",
       "\tPearson's Chi-squared test\n",
       "\n",
       "data:  natsal$religimp and natsal$rsex\n",
       "X-squared = 46.43, df = 4, p-value = 0.000000002004\n"
      ]
     },
     "metadata": {},
     "output_type": "display_data"
    }
   ],
   "source": [
    "options(scipen = 999) # surpress display of scientific notation\n",
    "\n",
    "chisq.test(natsal$religimp, natsal$rsex)"
   ]
  },
  {
   "cell_type": "markdown",
   "id": "administrative-providence",
   "metadata": {},
   "source": [
    "We observe that the p-value is well below the 0.05 threshold, therefore we conclude that the association is statistically significant. That is, the association is very likely present in the population from which the sample was drawn."
   ]
  },
  {
   "cell_type": "markdown",
   "id": "hungry-insert",
   "metadata": {},
   "source": [
    "Let's look at one more example, this time for two ordinal categorical variables:"
   ]
  },
  {
   "cell_type": "code",
   "execution_count": 30,
   "id": "lightweight-alabama",
   "metadata": {},
   "outputs": [
    {
     "data": {
      "text/html": [
       "-0.169600840492811"
      ],
      "text/latex": [
       "-0.169600840492811"
      ],
      "text/markdown": [
       "-0.169600840492811"
      ],
      "text/plain": [
       "[1] -0.1696008"
      ]
     },
     "metadata": {},
     "output_type": "display_data"
    }
   ],
   "source": [
    "library(DescTools) # import the package containing the `GoodmanKruskalGamma()` command\n",
    "\n",
    "GoodmanKruskalGamma(natsal$religimp, natsal$agrp)"
   ]
  },
  {
   "cell_type": "code",
   "execution_count": 33,
   "id": "variable-lighting",
   "metadata": {},
   "outputs": [
    {
     "name": "stderr",
     "output_type": "stream",
     "text": [
      "Warning message in chisq.test(natsal$religimp, natsal$agrp):\n",
      "\"Chi-squared approximation may be incorrect\"\n"
     ]
    },
    {
     "data": {
      "text/plain": [
       "\n",
       "\tPearson's Chi-squared test\n",
       "\n",
       "data:  natsal$religimp and natsal$agrp\n",
       "X-squared = 153.37, df = 20, p-value < 0.00000000000000022\n"
      ]
     },
     "metadata": {},
     "output_type": "display_data"
    }
   ],
   "source": [
    "chisq.test(natsal$religimp, natsal$agrp)"
   ]
  },
  {
   "cell_type": "markdown",
   "id": "restricted-medicine",
   "metadata": {},
   "source": [
    "**QUESTION**: Is the association between importance of religion and age group statistically significant?"
   ]
  },
  {
   "cell_type": "markdown",
   "id": "existing-wildlife",
   "metadata": {},
   "source": [
    "#### Categorical vs Numeric"
   ]
  },
  {
   "cell_type": "markdown",
   "id": "tracked-clinton",
   "metadata": {},
   "source": [
    "Recall that the appropriate summary statistic for a bivariate analysis of one categorical and one numeric variable is:\n",
    "* *Eta squared*\n",
    "\n",
    "This tells us the strength of the association but not the direction (we need to infer this from the summary tables above). *Eta squared* coefficient ranges from 0 to 1, with higher values representing stronger associations."
   ]
  },
  {
   "cell_type": "code",
   "execution_count": 34,
   "id": "maritime-hybrid",
   "metadata": {},
   "outputs": [
    {
     "data": {
      "text/html": [
       "<table class=\"dataframe\">\n",
       "<caption>A matrix: 1 × 2 of type dbl</caption>\n",
       "<thead>\n",
       "\t<tr><th></th><th scope=col>eta.sq</th><th scope=col>eta.sq.part</th></tr>\n",
       "</thead>\n",
       "<tbody>\n",
       "\t<tr><th scope=row>agrp</th><td>0.04232259</td><td>0.04232259</td></tr>\n",
       "</tbody>\n",
       "</table>\n"
      ],
      "text/latex": [
       "A matrix: 1 × 2 of type dbl\n",
       "\\begin{tabular}{r|ll}\n",
       "  & eta.sq & eta.sq.part\\\\\n",
       "\\hline\n",
       "\tagrp & 0.04232259 & 0.04232259\\\\\n",
       "\\end{tabular}\n"
      ],
      "text/markdown": [
       "\n",
       "A matrix: 1 × 2 of type dbl\n",
       "\n",
       "| <!--/--> | eta.sq | eta.sq.part |\n",
       "|---|---|---|\n",
       "| agrp | 0.04232259 | 0.04232259 |\n",
       "\n"
      ],
      "text/plain": [
       "     eta.sq     eta.sq.part\n",
       "agrp 0.04232259 0.04232259 "
      ]
     },
     "metadata": {},
     "output_type": "display_data"
    }
   ],
   "source": [
    "library(lsr)\n",
    "\n",
    "model <- aov(attconservative ~ agrp, data = natsal)\n",
    "etaSquared(model)"
   ]
  },
  {
   "cell_type": "markdown",
   "id": "endangered-contractor",
   "metadata": {},
   "source": [
    "We can recover the p-value for this association by summarising the results of the `aov(attconservative ~ agrp, data = natsal)` command:"
   ]
  },
  {
   "cell_type": "code",
   "execution_count": 39,
   "id": "immune-teacher",
   "metadata": {},
   "outputs": [
    {
     "data": {
      "text/plain": [
       "              Df Sum Sq Mean Sq F value              Pr(>F)    \n",
       "agrp           5    150  30.060   30.88 <0.0000000000000002 ***\n",
       "Residuals   3494   3401   0.973                                \n",
       "---\n",
       "Signif. codes:  0 '***' 0.001 '**' 0.01 '*' 0.05 '.' 0.1 ' ' 1\n",
       "299 observations deleted due to missingness"
      ]
     },
     "metadata": {},
     "output_type": "display_data"
    }
   ],
   "source": [
    "summary(model)"
   ]
  },
  {
   "cell_type": "markdown",
   "id": "usual-transparency",
   "metadata": {},
   "source": [
    "In this instance we are looking at the `Pr(>F)` statistic, which is another way of describing a p-value.\n",
    "\n",
    "Again this is considerably lower than the '0.05' threshold and this we would conclude that the very weak association is very likely to be present in the population from which the sample was drawn."
   ]
  },
  {
   "cell_type": "markdown",
   "id": "young-torture",
   "metadata": {},
   "source": [
    "#### Numeric vs Numeric"
   ]
  },
  {
   "cell_type": "markdown",
   "id": "essential-oliver",
   "metadata": {},
   "source": [
    "Recall that the appropriate measure of association for two numeric variables is:\n",
    "* *Pearson's correlation coefficient (r)*\n",
    "\n",
    "Similar to other measures of association, it tells us the strength and direction of the association between two variables. The coefficient ranges between -1 and 1, with negative values representing negative associations, and positive values positive associations. Values closer to -1 or 1 indicate stronger associations than those closer to 0."
   ]
  },
  {
   "cell_type": "code",
   "execution_count": 40,
   "id": "pediatric-effect",
   "metadata": {},
   "outputs": [
    {
     "data": {
      "text/html": [
       "<table class=\"dataframe\">\n",
       "<caption>A data.frame: 6 × 4</caption>\n",
       "<thead>\n",
       "\t<tr><th></th><th scope=col>Entity</th><th scope=col>Code</th><th scope=col>Year</th><th scope=col>Age</th></tr>\n",
       "\t<tr><th></th><th scope=col>&lt;chr&gt;</th><th scope=col>&lt;chr&gt;</th><th scope=col>&lt;int&gt;</th><th scope=col>&lt;dbl&gt;</th></tr>\n",
       "</thead>\n",
       "<tbody>\n",
       "\t<tr><th scope=row>1</th><td>Afghanistan</td><td>AFG</td><td>1950</td><td>19.4</td></tr>\n",
       "\t<tr><th scope=row>2</th><td>Afghanistan</td><td>AFG</td><td>1955</td><td>19.2</td></tr>\n",
       "\t<tr><th scope=row>3</th><td>Afghanistan</td><td>AFG</td><td>1960</td><td>18.8</td></tr>\n",
       "\t<tr><th scope=row>4</th><td>Afghanistan</td><td>AFG</td><td>1965</td><td>18.4</td></tr>\n",
       "\t<tr><th scope=row>5</th><td>Afghanistan</td><td>AFG</td><td>1970</td><td>17.9</td></tr>\n",
       "\t<tr><th scope=row>6</th><td>Afghanistan</td><td>AFG</td><td>1975</td><td>17.4</td></tr>\n",
       "</tbody>\n",
       "</table>\n"
      ],
      "text/latex": [
       "A data.frame: 6 × 4\n",
       "\\begin{tabular}{r|llll}\n",
       "  & Entity & Code & Year & Age\\\\\n",
       "  & <chr> & <chr> & <int> & <dbl>\\\\\n",
       "\\hline\n",
       "\t1 & Afghanistan & AFG & 1950 & 19.4\\\\\n",
       "\t2 & Afghanistan & AFG & 1955 & 19.2\\\\\n",
       "\t3 & Afghanistan & AFG & 1960 & 18.8\\\\\n",
       "\t4 & Afghanistan & AFG & 1965 & 18.4\\\\\n",
       "\t5 & Afghanistan & AFG & 1970 & 17.9\\\\\n",
       "\t6 & Afghanistan & AFG & 1975 & 17.4\\\\\n",
       "\\end{tabular}\n"
      ],
      "text/markdown": [
       "\n",
       "A data.frame: 6 × 4\n",
       "\n",
       "| <!--/--> | Entity &lt;chr&gt; | Code &lt;chr&gt; | Year &lt;int&gt; | Age &lt;dbl&gt; |\n",
       "|---|---|---|---|---|\n",
       "| 1 | Afghanistan | AFG | 1950 | 19.4 |\n",
       "| 2 | Afghanistan | AFG | 1955 | 19.2 |\n",
       "| 3 | Afghanistan | AFG | 1960 | 18.8 |\n",
       "| 4 | Afghanistan | AFG | 1965 | 18.4 |\n",
       "| 5 | Afghanistan | AFG | 1970 | 17.9 |\n",
       "| 6 | Afghanistan | AFG | 1975 | 17.4 |\n",
       "\n"
      ],
      "text/plain": [
       "  Entity      Code Year Age \n",
       "1 Afghanistan AFG  1950 19.4\n",
       "2 Afghanistan AFG  1955 19.2\n",
       "3 Afghanistan AFG  1960 18.8\n",
       "4 Afghanistan AFG  1965 18.4\n",
       "5 Afghanistan AFG  1970 17.9\n",
       "6 Afghanistan AFG  1975 17.4"
      ]
     },
     "metadata": {},
     "output_type": "display_data"
    }
   ],
   "source": [
    "country_ages <- read.csv(\"./data/median-age-our-world-in-data.csv\", header=TRUE, na=\"NA\")\n",
    "head(country_ages)"
   ]
  },
  {
   "cell_type": "code",
   "execution_count": 44,
   "id": "infinite-attack",
   "metadata": {},
   "outputs": [
    {
     "data": {
      "text/html": [
       "0.732414166982574"
      ],
      "text/latex": [
       "0.732414166982574"
      ],
      "text/markdown": [
       "0.732414166982574"
      ],
      "text/plain": [
       "[1] 0.7324142"
      ]
     },
     "metadata": {},
     "output_type": "display_data"
    }
   ],
   "source": [
    "cor(country_ages$Year, country_ages$Age, use = \"complete.obs\")"
   ]
  },
  {
   "cell_type": "markdown",
   "id": "going-thursday",
   "metadata": {},
   "source": [
    "No surprise there: the correlation coefficient indicates a strong, positive association between time and median age.\n",
    "\n",
    "To produce the p-value calculated for this association, we use the `cor.test()` command:"
   ]
  },
  {
   "cell_type": "code",
   "execution_count": 45,
   "id": "single-timothy",
   "metadata": {},
   "outputs": [
    {
     "data": {
      "text/plain": [
       "\n",
       "\tPearson's product-moment correlation\n",
       "\n",
       "data:  country_ages$Year and country_ages$Age\n",
       "t = 92.967, df = 7469, p-value < 0.00000000000000022\n",
       "alternative hypothesis: true correlation is not equal to 0\n",
       "95 percent confidence interval:\n",
       " 0.7217246 0.7427545\n",
       "sample estimates:\n",
       "      cor \n",
       "0.7324142 \n"
      ]
     },
     "metadata": {},
     "output_type": "display_data"
    }
   ],
   "source": [
    "cor.test(country_ages$Year, country_ages$Age, use = \"complete.obs\")"
   ]
  },
  {
   "cell_type": "markdown",
   "id": "certain-apartment",
   "metadata": {},
   "source": [
    "And once more, the p-value is below the '0.05' threshold and we conclude that the strong association between median age and year is very likely present in the population from which the sample of countries and years were drawn."
   ]
  },
  {
   "cell_type": "markdown",
   "id": "obvious-scale",
   "metadata": {},
   "source": [
    "#### A note on statistical significance"
   ]
  },
  {
   "cell_type": "markdown",
   "id": "radio-floor",
   "metadata": {},
   "source": [
    "Statistically significant **does not** mean a finding is important or of practical significance. The term comes from an older use of English (significant = signals). Therefore, statistically significant signals that a finding may be important and worth investigating further (MacInnes, 2019).\n",
    "\n",
    "To claim that a finding is of practical significance, we look at the **magnitude** of a statistic:\n",
    "* Whether an association is strong or not\n",
    "* Whether a proportion for one group is considerably different to a proportion for another group (e.g., differences between men and women in terms of importance of religion)\n",
    "* And so on\n",
    "\n",
    "Put simply:\n",
    "> Statistical significance tells us what we can infer about a target population from what we find in a sample. (MacInnes, 2019: 10)"
   ]
  },
  {
   "cell_type": "markdown",
   "id": "colored-plate",
   "metadata": {},
   "source": [
    "## Conclusion"
   ]
  },
  {
   "cell_type": "markdown",
   "id": "southeast-giving",
   "metadata": {},
   "source": [
    "In this lesson we encountered a range of techniques for expressing the uncertainty inherent in our quantitative analyses.\n",
    "\n",
    "In Week 12, we bring all over our learning together to write a report based on a piece of quantitative data analysis."
   ]
  }
 ],
 "metadata": {
  "kernelspec": {
   "display_name": "R",
   "language": "R",
   "name": "ir"
  },
  "language_info": {
   "codemirror_mode": "r",
   "file_extension": ".r",
   "mimetype": "text/x-r-source",
   "name": "R",
   "pygments_lexer": "r",
   "version": "4.1.1"
  }
 },
 "nbformat": 4,
 "nbformat_minor": 5
}
