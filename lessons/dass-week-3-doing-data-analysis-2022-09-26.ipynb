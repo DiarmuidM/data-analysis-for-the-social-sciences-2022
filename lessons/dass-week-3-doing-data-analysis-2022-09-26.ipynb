{
 "cells": [
  {
   "cell_type": "markdown",
   "id": "otherwise-cache",
   "metadata": {},
   "source": [
    "<p align=\"right\"><i>Data Analysis for the Social Sciences - Part I - 2022-09-26</i></p>"
   ]
  },
  {
   "cell_type": "markdown",
   "id": "dynamic-conjunction",
   "metadata": {},
   "source": [
    "# Week 3 - Doing Quantitative Data Analysis"
   ]
  },
  {
   "cell_type": "markdown",
   "id": "exclusive-methodology",
   "metadata": {},
   "source": [
    "Welcome to Part I of Data Analysis for the Social Sciences. In this lab session we will introduce you to doing quantitative data analysis. \n",
    "\n",
    "We will use real data from the *National Survey of Sexual Attitudes and Lifestyles, 2010-2012 (Natsal-3)* and we will conduct a range of simple statistical analyses of some variables relating to respondent age, sex at birth, and sexual attitudes."
   ]
  },
  {
   "cell_type": "markdown",
   "id": "scenic-silly",
   "metadata": {},
   "source": [
    "### Aims\n",
    "\n",
    "This lesson - **Doing Quantitative Data Analysis** - has two aims:\n",
    "1. Demonstrate how to import and explore a secondary dataset.\n",
    "2. Cultivate your computational skills through the use of the statistical programming langauge *R*. For example, there are a number of opportunities for you to amend or write R syntax (code)."
   ]
  },
  {
   "cell_type": "markdown",
   "id": "judicial-prediction",
   "metadata": {},
   "source": [
    "### Lesson details\n",
    "\n",
    "* **Level**: Introductory, for individuals with no prior knowledge or experience of quantitative data analysis.\n",
    "* **Duration**: 30-45 minutes.\n",
    "* **Pre-requisites**: None.\n",
    "* **Programming language**: R.\n",
    "* **Learning outcomes**:\n",
    "\t1. Understand how to use R for conducting common data exploration tasks.\n",
    "\t2. Understand how to describe and explore a secondary dataset containing quantitative data."
   ]
  },
  {
   "cell_type": "markdown",
   "id": "terminal-agenda",
   "metadata": {},
   "source": [
    "## Guide to using this notebook\n",
    "\n",
    "This learning resource was built using <a href=\"https://jupyter.org/\" target=_blank>Jupyter Notebook</a>, an open-source software application that allows you to mix code, results and narrative in a single document. As <a href=\"https://jupyter4edu.github.io/jupyter-edu-book/\" target=_blank>Barba et al. (2019)</a> espouse:\n",
    "> In a world where every subject matter can have a data-supported treatment, where computational devices are omnipresent and pervasive, the union of natural language and computation creates compelling communication and learning opportunities.\n",
    "\n",
    "If you are familiar with Jupyter notebooks then skip ahead to the main content (*Exploring Data*). Otherwise, the following is a quick guide to navigating and interacting with the notebook."
   ]
  },
  {
   "cell_type": "markdown",
   "id": "interested-radar",
   "metadata": {},
   "source": [
    "### Interaction\n",
    "\n",
    "**You only need to execute the code that is contained in sections which are marked by `[]`.**\n",
    "\n",
    "To execute a cell, click or double-click the cell and press the `Run` button on the top toolbar (you can also use the keyboard shortcut `Shift + Enter`).\n",
    "\n",
    "Try it for yourself:"
   ]
  },
  {
   "cell_type": "code",
   "execution_count": null,
   "id": "dominican-hardware",
   "metadata": {},
   "outputs": [],
   "source": [
    "name <- readline(prompt=\"Enter name: \")\n",
    "print(paste(\"Hi,\", name, \"enjoy learning more about R and exploring data!\"))"
   ]
  },
  {
   "cell_type": "markdown",
   "id": "through-storm",
   "metadata": {},
   "source": [
    "Notebooks are sequential, meaning code should be executed in order (top to bottom). For example, the following code won't work:"
   ]
  },
  {
   "cell_type": "code",
   "execution_count": null,
   "id": "outstanding-bulgaria",
   "metadata": {},
   "outputs": [],
   "source": [
    "x * 5"
   ]
  },
  {
   "cell_type": "markdown",
   "id": "handmade-madagascar",
   "metadata": {},
   "source": [
    "As the error message suggests, there is no object (variable) called `x`, therefore we cannot do any calculations with it. \n",
    "\n",
    "Let's try a sequential approach:"
   ]
  },
  {
   "cell_type": "code",
   "execution_count": null,
   "id": "addressed-assumption",
   "metadata": {},
   "outputs": [],
   "source": [
    "x <- 10 # create an object called 'x' and give it the value '10'"
   ]
  },
  {
   "cell_type": "code",
   "execution_count": null,
   "id": "crucial-implement",
   "metadata": {},
   "outputs": [],
   "source": [
    "x * 5 # multiply 'x' by 5"
   ]
  },
  {
   "cell_type": "markdown",
   "id": "covered-round",
   "metadata": {},
   "source": [
    "### Learn more\n",
    "\n",
    "Jupyter notebooks provide rich, flexible features for conducting and documenting your data analysis workflow. To learn more about additional notebook features, we recommend working through some of the <a href=\"https://github.com/darribas/gds19/blob/master/content/labs/lab_00.ipynb\" target=_blank>materials</a> provided by Dani Arribas-Bel at the University of Liverpool. "
   ]
  },
  {
   "cell_type": "markdown",
   "id": "floppy-escape",
   "metadata": {},
   "source": [
    "### Learner input\n",
    "\n",
    "Throughout the lessons there times when you need to do the following activities:\n",
    "* **TASK:** A coding task for you to complete (e.g. create new variables).\n",
    "* **QUESTION:** A question regarding your interpretation of some code or a technique (e.g. what is the piece of code doing?).\n",
    "* **EXERCISE:** A data analysis challenge for you to complete."
   ]
  },
  {
   "cell_type": "markdown",
   "id": "democratic-office",
   "metadata": {},
   "source": [
    "## Exploring Data"
   ]
  },
  {
   "cell_type": "markdown",
   "id": "respected-comedy",
   "metadata": {},
   "source": [
    "Data exploration is an important first-step in the quantitative data analysis process. It involves a mix of functional and analytical tasks that in sum provide you with a keen sense of the data. For example, it is important to know how many variables are relevant for our analysis, how many observations are in the sample, whether there is missing data for some of our variables, whether the dataset \"looks right\" or there were problems downloading and importing the data etc."
   ]
  },
  {
   "cell_type": "markdown",
   "id": "rural-progress",
   "metadata": {},
   "source": [
    "### Secondary data"
   ]
  },
  {
   "cell_type": "markdown",
   "id": "caroline-province",
   "metadata": {},
   "source": [
    "For the quantitative data analysis stream we will use the open access version of the *National Survey of Sexual Attitudes and Lifestyles, 2010-2012 (Natsal-3)* dataset: [available here](https://beta.ukdataservice.ac.uk/datacatalogue/studies/study?id=8786)\n",
    "\n",
    "This provides a limited number of variables and observations from the original, larger study.\n",
    "\n",
    "For Assessment 2, you will have access to a richer version of the *Natsal-3* dataset, one that has been prepared for use in teaching settings. The dataset will be available through the module Aula site once Part II begins."
   ]
  },
  {
   "cell_type": "markdown",
   "id": "framed-privacy",
   "metadata": {},
   "source": [
    "### Importing data"
   ]
  },
  {
   "cell_type": "markdown",
   "id": "stone-qatar",
   "metadata": {},
   "source": [
    "Importing data - also known as loading or reading in data - is the natural first step in a piece of quantitative data analysis. It requires two pieces of information:\n",
    "1. The location of the dataset on your machine\n",
    "2. The file type which the dataset is saved in\n",
    "\n",
    "The first refers to the specific folder / directory on your machine where the dataset resides (e.g., \"C:\\Users\\mcdonndz-local\\data\\\"); the second to the type of file (e.g., MS Excel (.xlsx)).\n",
    "\n",
    "Don't worry if the file management aspects are unfamiliar / daunting just now: we will get plenty of practice importing and saving files to different locations on our machine."
   ]
  },
  {
   "cell_type": "markdown",
   "id": "female-string",
   "metadata": {},
   "source": [
    "OK, let's import a dataset into *R* for the first time!"
   ]
  },
  {
   "cell_type": "code",
   "execution_count": null,
   "id": "agreed-future",
   "metadata": {},
   "outputs": [],
   "source": [
    "natsal <- read.table(\"https://raw.githubusercontent.com/DiarmuidM/data-analysis-for-the-social-sciences-2022/main/lessons/data/natsal_3_teaching_open.tab\", header=TRUE, na=\"NA\", sep=\"\\t\")"
   ]
  },
  {
   "cell_type": "markdown",
   "id": "played-quilt",
   "metadata": {},
   "source": [
    "There were no error messages, so our *R* command must have worked (it did). Here is what the above command does:\n",
    "* imports a file using the `read.table()` command\n",
    "* recognises that the first line of the file contains the variable names (`header=TRUE`)\n",
    "* recognises missng values for variables (`na=\"NA\"`)\n",
    "* recognises the file type so that the dataset can be read in correctly (`sep=\"\\t\"`)\n",
    "\n",
    "Finally, we need an object name for the imported dataset so that we can reference it in future commands (`natsal`). The `<-` is the assignment operator i.e., import the dataset and assign it to the object `natsal`. "
   ]
  },
  {
   "cell_type": "markdown",
   "id": "thermal-valve",
   "metadata": {},
   "source": [
    "#### Viewing the dataset"
   ]
  },
  {
   "cell_type": "markdown",
   "id": "faced-dietary",
   "metadata": {},
   "source": [
    "One of the most common ways of exploring a dataset is by visually inspecting its contents. We can do so by referencing the name we gave the dataset:"
   ]
  },
  {
   "cell_type": "code",
   "execution_count": null,
   "id": "sweet-vertex",
   "metadata": {},
   "outputs": [],
   "source": [
    "natsal"
   ]
  },
  {
   "cell_type": "markdown",
   "id": "solid-jenny",
   "metadata": {},
   "source": [
    "Doing so returns some useful output:\n",
    "* A description of the dataset (`data.frame` containing 3799 observations and 20 variables).\n",
    "* A truncated list of the observations in the dataset - by default *R* and other languages do not display the full dataset."
   ]
  },
  {
   "cell_type": "code",
   "execution_count": null,
   "id": "postal-apparel",
   "metadata": {},
   "outputs": [],
   "source": [
    "head(natsal)"
   ]
  },
  {
   "cell_type": "code",
   "execution_count": null,
   "id": "flexible-blues",
   "metadata": {},
   "outputs": [],
   "source": [
    "tail(natsal)"
   ]
  },
  {
   "cell_type": "markdown",
   "id": "confidential-negative",
   "metadata": {},
   "source": [
    "**QUESTION:** What do you think the `head()` and `tail()` commands do?"
   ]
  },
  {
   "cell_type": "markdown",
   "id": "sexual-gates",
   "metadata": {},
   "source": [
    "We can view a list of all of the variables in the dataset:"
   ]
  },
  {
   "cell_type": "code",
   "execution_count": null,
   "id": "wrapped-final",
   "metadata": {},
   "outputs": [],
   "source": [
    "names(natsal)"
   ]
  },
  {
   "cell_type": "markdown",
   "id": "broken-coupon",
   "metadata": {},
   "source": [
    "And get a sense of each variable's contents like so:"
   ]
  },
  {
   "cell_type": "code",
   "execution_count": null,
   "id": "breathing-liberal",
   "metadata": {},
   "outputs": [],
   "source": [
    "str(natsal)"
   ]
  },
  {
   "cell_type": "markdown",
   "id": "supposed-generation",
   "metadata": {},
   "source": [
    "We can see that each variable contains numeric values, however this does not mean there are no categorical variables in the dataset. Slightly confusing, I know: but remember that all quantitative data must be represented numerically, otherwise we have no way of counting or performing calculations. Therefore we need to know what the numbers **represent**. Let's do this using some obvious examples:\n",
    "* `rsex` is a binary measure of whether a respondent is male or female. As is common in quantitative social science, the male category is coded \"1\" and the female category \"2\". Therefore this is a categorical variable, specifically a nominal variable.\n",
    "* `agrp` is measure of which age group a respondent belongs to e.g., 16-24, 25-34. The youngest age group is coded \"1\" and subsequent groups are coded sequentially. Therefore this is a categorical variable, specifically an ordinal variable.\n",
    "* `attconservative` is a measure of how conservative a respondent's attitudes to sex are: higher scores indicate more conservative attitudes. Therefore this is a numeric variable, specifically an interval variable.\n",
    "\n",
    "How do we know what the numeric values represent? Helpfully, the UK Data Service has provided a description of each variable and its contents (known as a *codebook*): [Natsal Open Data Codebook](./codebook/8786_natsal_open_codebook_feb21.pdf)"
   ]
  },
  {
   "cell_type": "markdown",
   "id": "lucky-simon",
   "metadata": {},
   "source": [
    "#### Summarising variables"
   ]
  },
  {
   "cell_type": "markdown",
   "id": "handled-liverpool",
   "metadata": {},
   "source": [
    "Once we have an understanding of the data at a macro level (i.e., number of observations and variables, variable names and types), we can start to explore specific variables in more detail. Let's do this for three variables of interest:\n",
    "* `rsex`\n",
    "* `agrp`\n",
    "* `attconservative`"
   ]
  },
  {
   "cell_type": "code",
   "execution_count": null,
   "id": "ongoing-sewing",
   "metadata": {},
   "outputs": [],
   "source": [
    "summary(natsal$rsex)"
   ]
  },
  {
   "cell_type": "code",
   "execution_count": null,
   "id": "constant-cookie",
   "metadata": {},
   "outputs": [],
   "source": [
    "summary(natsal$agrp)"
   ]
  },
  {
   "cell_type": "code",
   "execution_count": null,
   "id": "treated-answer",
   "metadata": {},
   "outputs": [],
   "source": [
    "summary(natsal$attconservative)"
   ]
  },
  {
   "cell_type": "markdown",
   "id": "downtown-authority",
   "metadata": {},
   "source": [
    "The `summary()` command produces a range of summary statistics for numeric variables, including the mean, median and some measures of the range of values (e.g., minimum and maximum). Note how we refer to the variables by listing the dataset first (`natsal$rsex`). This is because we may have multiple datasets loaded in to R at one time and there may be variables in different datasets with the same name.\n",
    "\n",
    "As we learned earlier however, some of our variables are categorical and thus are not well described using these summary statistics: for example, what does it mean to say a respondent's average sex is 1.596? We know this is a binary measure of whether somebody is male or female and thus it would be better to know how many respondents fall into each category.\n",
    "\n",
    "In Part II of the module we will learn how to select and apply the correct statistical summaries."
   ]
  },
  {
   "cell_type": "markdown",
   "id": "posted-impact",
   "metadata": {},
   "source": [
    "**TASK:** Produce a summary of the `ethnicgrpr` (ethnic group) and `dage1ch` (age at having first child) variables. Can you learn anything useful about the values of these variables using the `summary()` command? Consult the codebook if you need help understanding the values of these variables.\n",
    "\n",
    "Use the cell below to insert your code."
   ]
  },
  {
   "cell_type": "code",
   "execution_count": null,
   "id": "underlying-monitor",
   "metadata": {},
   "outputs": [],
   "source": [
    "# INSERT CODE HERE"
   ]
  },
  {
   "cell_type": "markdown",
   "id": "indian-constitution",
   "metadata": {},
   "source": [
    "## Analysing Data"
   ]
  },
  {
   "cell_type": "markdown",
   "id": "covered-assistant",
   "metadata": {},
   "source": [
    "In Part II we will learn how to conduct a range of insightful, accurate analyses of the *Natsal* dataset. To whet your appetite, here is a mini-analysis of the following research question:\n",
    "\n",
    "<p><center><i>Is a person's attitude towards sex associated with the age at which they have their first child?</i></center></p>"
   ]
  },
  {
   "cell_type": "markdown",
   "id": "interesting-tiffany",
   "metadata": {},
   "source": [
    "### Import the data"
   ]
  },
  {
   "cell_type": "code",
   "execution_count": null,
   "id": "shared-painting",
   "metadata": {},
   "outputs": [],
   "source": [
    "natsal <- read.table(\"https://raw.githubusercontent.com/DiarmuidM/data-analysis-for-the-social-sciences-2022/main/lessons/data/natsal_3_teaching_open.tab\", header=TRUE, na=\"NA\", sep=\"\\t\")"
   ]
  },
  {
   "cell_type": "markdown",
   "id": "interracial-belfast",
   "metadata": {},
   "source": [
    "### View the data"
   ]
  },
  {
   "cell_type": "code",
   "execution_count": null,
   "id": "incoming-elite",
   "metadata": {},
   "outputs": [],
   "source": [
    "head(natsal)"
   ]
  },
  {
   "cell_type": "markdown",
   "id": "naval-delivery",
   "metadata": {},
   "source": [
    "### Data cleaning"
   ]
  },
  {
   "cell_type": "markdown",
   "id": "comparative-architecture",
   "metadata": {},
   "source": [
    "As per our research question, we are only interested in respondents who have had at least one child. Therefore we need to drop observations for whom we do not have information on their age at birth of first child. "
   ]
  },
  {
   "cell_type": "code",
   "execution_count": null,
   "id": "suspected-costume",
   "metadata": {},
   "outputs": [],
   "source": [
    "summary(natsal$dage1ch)"
   ]
  },
  {
   "cell_type": "markdown",
   "id": "current-citation",
   "metadata": {},
   "source": [
    "Having consulted the codebook, we know that the value \"-1\" indicates that that this question was not relevant to a respondent, and \"99\" that a respondent did not answer the question even though it was relevant. Therefore let's drop observations where `dage1ch` equals \"-1\" or \"99\"."
   ]
  },
  {
   "cell_type": "code",
   "execution_count": null,
   "id": "neural-sunrise",
   "metadata": {},
   "outputs": [],
   "source": [
    "natsal_analysis <- subset(natsal, dage1ch > -1 & dage1ch < 99)"
   ]
  },
  {
   "cell_type": "code",
   "execution_count": null,
   "id": "greatest-norwegian",
   "metadata": {},
   "outputs": [],
   "source": [
    "nrow(natsal_analysis)"
   ]
  },
  {
   "cell_type": "code",
   "execution_count": null,
   "id": "closed-ecuador",
   "metadata": {},
   "outputs": [],
   "source": [
    "nrow(natsal)"
   ]
  },
  {
   "cell_type": "markdown",
   "id": "unexpected-tutorial",
   "metadata": {},
   "source": [
    "Note how we created a new dataset after we dropped the observations (`natsal_analysis`). It is always good practice to leave the original / raw dataset unaltered.\n",
    "\n",
    "Great, now we can continue with the analysis."
   ]
  },
  {
   "cell_type": "markdown",
   "id": "built-number",
   "metadata": {},
   "source": [
    "### Univariate analysis"
   ]
  },
  {
   "cell_type": "markdown",
   "id": "classified-capacity",
   "metadata": {},
   "source": [
    "Every analysis begins with a summary of individual variables."
   ]
  },
  {
   "cell_type": "code",
   "execution_count": null,
   "id": "essential-software",
   "metadata": {},
   "outputs": [],
   "source": [
    "summary(natsal_analysis$dage1ch)\n",
    "hist(natsal_analysis$dage1ch)"
   ]
  },
  {
   "cell_type": "markdown",
   "id": "ranging-holiday",
   "metadata": {},
   "source": [
    "We see that the average age at birth of first child is 24 years old, and that some respondents have their first child relatively young (15) or old (40), though most are between 18 and 26 according to the histogram."
   ]
  },
  {
   "cell_type": "code",
   "execution_count": null,
   "id": "interested-remove",
   "metadata": {},
   "outputs": [],
   "source": [
    "summary(natsal_analysis$attconservative)\n",
    "hist(natsal_analysis$attconservative)"
   ]
  },
  {
   "cell_type": "markdown",
   "id": "copyrighted-victor",
   "metadata": {},
   "source": [
    "Postive values of this variable indicate conservative attitudes to sex, negative values liberal attitudes. The average respondent is slightly conservative in their attitudes to sex, though most respondents have a score slightly below or above 0."
   ]
  },
  {
   "cell_type": "markdown",
   "id": "aerial-smith",
   "metadata": {},
   "source": [
    "### Bivariate analysis"
   ]
  },
  {
   "cell_type": "markdown",
   "id": "painful-tracker",
   "metadata": {},
   "source": [
    "The next step in our analysis is to see if our two variables are associated or not. That is, does knowing somebody's attitude towards sex help us predict what age they had their first child at? Or vice versa: does knowing the age at which somebody had their first child tell you something about their attitude to sex?\n",
    "\n",
    "We have two numeric (interval) variables, therefore we can calculate the Pearson correlation coefficient (r) to measure the strength and direction of the association. However the first step is to visualise the joint distribution of two variables."
   ]
  },
  {
   "cell_type": "code",
   "execution_count": null,
   "id": "endless-glance",
   "metadata": {},
   "outputs": [],
   "source": [
    "plot(natsal_analysis$attconservative,natsal_analysis$dage1ch)"
   ]
  },
  {
   "cell_type": "markdown",
   "id": "parallel-least",
   "metadata": {},
   "source": [
    "There does not appear to be any association between attitude to sex and age at birth of first child: there is no diagonal pattern in the joint distribution e.g., as sexual attitude becomes more conservative (move along the x / horizontal axis), age at birth of first child does not increase (move up the y / vertical axis).\n",
    "\n",
    "We can confirm this using the Pearson correlation coefficient, which is close to 0 in value:"
   ]
  },
  {
   "cell_type": "code",
   "execution_count": null,
   "id": "professional-fitness",
   "metadata": {},
   "outputs": [],
   "source": [
    "cor(natsal_analysis$attconservative, natsal_analysis$dage1ch, use = \"complete.obs\")"
   ]
  },
  {
   "cell_type": "markdown",
   "id": "soviet-michael",
   "metadata": {},
   "source": [
    "### Multivariate analysis"
   ]
  },
  {
   "cell_type": "markdown",
   "id": "junior-mapping",
   "metadata": {},
   "source": [
    "There may be no apparant association between attitude to sex and age at birth of first child, however is this true for males and females alike? What about different ethnic groups?\n",
    "\n",
    "Multivariate analysis allows us to see if the patterns we find are consistent across values of other variables."
   ]
  },
  {
   "cell_type": "markdown",
   "id": "vietnamese-shooting",
   "metadata": {},
   "source": [
    "### By sex"
   ]
  },
  {
   "cell_type": "code",
   "execution_count": null,
   "id": "altered-class",
   "metadata": {},
   "outputs": [],
   "source": [
    "natsal_males <- subset(natsal_analysis, rsex==1) # create a subset of observations containing only male respondents\n",
    "cor(natsal_males$attconservative, natsal_males$dage1ch, use = \"complete.obs\")"
   ]
  },
  {
   "cell_type": "code",
   "execution_count": null,
   "id": "intellectual-advertiser",
   "metadata": {},
   "outputs": [],
   "source": [
    "natsal_females <- subset(natsal_analysis, rsex==2) # create a subset of observations containing only female respondents\n",
    "cor(natsal_females$attconservative, natsal_females$dage1ch, use = \"complete.obs\")"
   ]
  },
  {
   "cell_type": "markdown",
   "id": "executive-medicaid",
   "metadata": {},
   "source": [
    "The correlation coefficient is effectively the same for males and females, suggesting that the association between attitude to sex and age at birth of first child does not vary by natal sex."
   ]
  },
  {
   "cell_type": "markdown",
   "id": "smaller-carry",
   "metadata": {},
   "source": [
    "### By ethnic group"
   ]
  },
  {
   "cell_type": "code",
   "execution_count": null,
   "id": "introductory-leadership",
   "metadata": {},
   "outputs": [],
   "source": [
    "natsal_white <- subset(natsal_analysis, ethnicgrpr==1) # create a subset of observations containing only white respondents\n",
    "cor(natsal_white$attconservative, natsal_white$dage1ch, use = \"complete.obs\")"
   ]
  },
  {
   "cell_type": "code",
   "execution_count": null,
   "id": "favorite-return",
   "metadata": {},
   "outputs": [],
   "source": [
    "natsal_nonwhite <- subset(natsal_analysis, ethnicgrpr==2) # create a subset of observations containing only non-white respondents\n",
    "cor(natsal_nonwhite$attconservative, natsal_nonwhite$dage1ch, use = \"complete.obs\")"
   ]
  },
  {
   "cell_type": "markdown",
   "id": "identical-complex",
   "metadata": {},
   "source": [
    "The correlation coefficient does vary by ethnic group: though the association remains small, for white respondents there is a negative association, and for non-whites there is a positive association. For non-white respondents, this can be interpreted as follows: more conservative sexual attitudes are correlated with being older when first child is born."
   ]
  },
  {
   "cell_type": "markdown",
   "id": "colored-plate",
   "metadata": {},
   "source": [
    "## Conclusion"
   ]
  },
  {
   "cell_type": "markdown",
   "id": "corresponding-cowboy",
   "metadata": {},
   "source": [
    "Hopefully this notebook has given you a sense of what quantitative data analysis entails:\n",
    "* Importing datasets\n",
    "* Exploring observations\n",
    "* Summarising variables\n",
    "* Writing syntax"
   ]
  }
 ],
 "metadata": {
  "kernelspec": {
   "display_name": "R",
   "language": "R",
   "name": "ir"
  },
  "language_info": {
   "codemirror_mode": "r",
   "file_extension": ".r",
   "mimetype": "text/x-r-source",
   "name": "R",
   "pygments_lexer": "r",
   "version": "4.2.1"
  }
 },
 "nbformat": 4,
 "nbformat_minor": 5
}
