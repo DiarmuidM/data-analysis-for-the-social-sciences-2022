{
 "cells": [
  {
   "cell_type": "markdown",
   "id": "otherwise-cache",
   "metadata": {},
   "source": [
    "<p align=\"right\"><i>Data Analysis for the Social Sciences - Part II - 2021-11-08</i></p>"
   ]
  },
  {
   "cell_type": "markdown",
   "id": "dynamic-conjunction",
   "metadata": {},
   "source": [
    "# Quantitative Data Analysis"
   ]
  },
  {
   "cell_type": "markdown",
   "id": "exclusive-methodology",
   "metadata": {},
   "source": [
    "Welcome to Part II of Data Analysis for the Social Sciences. In this stream - Quantitative Data Analysis - we will conduct a range of statistical analyses in order to answer the following research question:"
   ]
  },
  {
   "cell_type": "markdown",
   "id": "bibliographic-stranger",
   "metadata": {},
   "source": [
    "<p><center><i>Is religion associated with differences in sexual attitudes and behaviours among British people?</i></center></p>"
   ]
  },
  {
   "cell_type": "markdown",
   "id": "scenic-silly",
   "metadata": {},
   "source": [
    "### Aims\n",
    "\n",
    "This lesson - **Exploring Data** - has two aims:\n",
    "1. Demonstrate how to import and explore a secondary dataset.\n",
    "2. Cultivate your computational skills through the use of the statistical programming langauge *R*. For example, there are a number of opportunities for you to amend or write R syntax (code)."
   ]
  },
  {
   "cell_type": "markdown",
   "id": "judicial-prediction",
   "metadata": {},
   "source": [
    "### Lesson details\n",
    "\n",
    "* **Level**: Introductory, for individuals with no prior knowledge or experience of quantitative data analysis.\n",
    "* **Duration**: 30-45 minutes.\n",
    "* **Pre-requisites**: None.\n",
    "* **Programming language**: R.\n",
    "* **Learning outcomes**:\n",
    "\t1. Understand how to use R for conducting common data exploration tasks.\n",
    "\t2. Understand how to describe and explore a secondary dataset containing quantitative data."
   ]
  },
  {
   "cell_type": "markdown",
   "id": "terminal-agenda",
   "metadata": {},
   "source": [
    "## Guide to using this resource\n",
    "\n",
    "This learning resource was built using <a href=\"https://jupyter.org/\" target=_blank>Jupyter Notebook</a>, an open-source software application that allows you to mix code, results and narrative in a single document. As <a href=\"https://jupyter4edu.github.io/jupyter-edu-book/\" target=_blank>Barba et al. (2019)</a> espouse:\n",
    "> In a world where every subject matter can have a data-supported treatment, where computational devices are omnipresent and pervasive, the union of natural language and computation creates compelling communication and learning opportunities.\n",
    "\n",
    "If you are familiar with Jupyter notebooks then skip ahead to the main content (*Exploring Data*). Otherwise, the following is a quick guide to navigating and interacting with the notebook."
   ]
  },
  {
   "cell_type": "markdown",
   "id": "interested-radar",
   "metadata": {},
   "source": [
    "### Interaction\n",
    "\n",
    "**You only need to execute the code that is contained in sections which are marked by `In []`.**\n",
    "\n",
    "To execute a cell, click or double-click the cell and press the `Run` button on the top toolbar (you can also use the keyboard shortcut `Shift + Enter`).\n",
    "\n",
    "Try it for yourself:"
   ]
  },
  {
   "cell_type": "code",
   "execution_count": 1,
   "id": "dominican-hardware",
   "metadata": {},
   "outputs": [
    {
     "name": "stdout",
     "output_type": "stream",
     "text": [
      "Enter name: Diarmuid\n",
      "[1] \"Hi, Diarmuid enjoy learning more about R and exploring data!\"\n"
     ]
    }
   ],
   "source": [
    "name <- readline(prompt=\"Enter name: \")\n",
    "print(paste(\"Hi,\", name, \"enjoy learning more about R and exploring data!\"))"
   ]
  },
  {
   "cell_type": "markdown",
   "id": "through-storm",
   "metadata": {},
   "source": [
    "Notebooks are sequential, meaning code should be executed in order (top to bottom). For example, the following code won't work:"
   ]
  },
  {
   "cell_type": "code",
   "execution_count": 2,
   "id": "outstanding-bulgaria",
   "metadata": {},
   "outputs": [
    {
     "ename": "ERROR",
     "evalue": "Error in eval(expr, envir, enclos): object 'x' not found\n",
     "output_type": "error",
     "traceback": [
      "Error in eval(expr, envir, enclos): object 'x' not found\nTraceback:\n"
     ]
    }
   ],
   "source": [
    "x * 5"
   ]
  },
  {
   "cell_type": "markdown",
   "id": "handmade-madagascar",
   "metadata": {},
   "source": [
    "As the error message suggests, there is no object (variable) called `x`, therefore we cannot do any calculations with it. \n",
    "\n",
    "Let's try a sequential approach:"
   ]
  },
  {
   "cell_type": "code",
   "execution_count": 3,
   "id": "addressed-assumption",
   "metadata": {},
   "outputs": [],
   "source": [
    "x <- 10 # create an object called 'x' and give it the value '10'"
   ]
  },
  {
   "cell_type": "code",
   "execution_count": 4,
   "id": "crucial-implement",
   "metadata": {},
   "outputs": [
    {
     "data": {
      "text/html": [
       "50"
      ],
      "text/latex": [
       "50"
      ],
      "text/markdown": [
       "50"
      ],
      "text/plain": [
       "[1] 50"
      ]
     },
     "metadata": {},
     "output_type": "display_data"
    }
   ],
   "source": [
    "x * 5 # multiply 'x' by 5"
   ]
  },
  {
   "cell_type": "markdown",
   "id": "covered-round",
   "metadata": {},
   "source": [
    "### Learn more\n",
    "\n",
    "Jupyter notebooks provide rich, flexible features for conducting and documenting your data analysis workflow. To learn more about additional notebook features, we recommend working through some of the <a href=\"https://github.com/darribas/gds19/blob/master/content/labs/lab_00.ipynb\" target=_blank>materials</a> provided by Dani Arribas-Bel at the University of Liverpool. "
   ]
  },
  {
   "cell_type": "markdown",
   "id": "floppy-escape",
   "metadata": {},
   "source": [
    "### Learner input\n",
    "\n",
    "Throughout the lessons there times when you need to do the following activities:\n",
    "* **TASK:** A coding task for you to complete (e.g. create new variables).\n",
    "* **QUESTION:** A question regarding your interpretation of some code or a technique (e.g. what is the piece of code doing?).\n",
    "* **EXERCISE:** A data analysis challenge for you to complete."
   ]
  },
  {
   "cell_type": "markdown",
   "id": "democratic-office",
   "metadata": {},
   "source": [
    "## Exploring Data"
   ]
  },
  {
   "cell_type": "markdown",
   "id": "respected-comedy",
   "metadata": {},
   "source": [
    "Data exploration is an important first-step in the quantitative data analysis process. It involves a mix of functional and analytical tasks that in sum provide you with a keen sense of the data. For example, it is important to know how many variables are relevant for our analysis, how many observations are in the sample, whether there is missing data for some of our variables, whether the dataset \"looks right\" or there were problems downloading and importing the data etc."
   ]
  },
  {
   "cell_type": "markdown",
   "id": "rural-progress",
   "metadata": {},
   "source": [
    "### Secondary data"
   ]
  },
  {
   "cell_type": "markdown",
   "id": "caroline-province",
   "metadata": {},
   "source": [
    "In Weeks 9-12 we will use the open access version of the *National Survey of Sexual Attitudes and Lifestyles, 2010-2012 (Natsal-3)* dataset: [available here](https://beta.ukdataservice.ac.uk/datacatalogue/studies/study?id=8786)\n",
    "\n",
    "This provides a limited number of variables and observations, and there are no restrictions around the downloading and use of the data. However it contains the information we need to answer our research question.\n",
    "\n",
    "For your assignment, you will have access to a richer version of the *Natsal-3* dataset, one that has been prepared for use in teaching settings. The dataset is available through the module Moodle site under the **Week 8 toggle**."
   ]
  },
  {
   "cell_type": "markdown",
   "id": "framed-privacy",
   "metadata": {},
   "source": [
    "### Importing data"
   ]
  },
  {
   "cell_type": "markdown",
   "id": "stone-qatar",
   "metadata": {},
   "source": [
    "Importing data - also known as loading or reading in data - is the natural first step in a piece of quantitative data analysis. It requires two pieces of information:\n",
    "1. The location of the dataset on your machine\n",
    "2. The file type which the dataset is saved in\n",
    "\n",
    "The first refers to the specific folder / directory on your machine where the dataset resides (e.g., \"C:\\Users\\mcdonndz-local\\data\\\"); the second to the type of file (e.g., MS Excel (.xlsx)).\n",
    "\n",
    "Don't worry if the file management aspects are unfamiliar / daunting just now: we will get plenty of practice importing and saving files to different locations on our machine."
   ]
  },
  {
   "cell_type": "markdown",
   "id": "female-string",
   "metadata": {},
   "source": [
    "OK, let's import a dataset into *R* for the first time!"
   ]
  },
  {
   "cell_type": "code",
   "execution_count": 5,
   "id": "agreed-future",
   "metadata": {},
   "outputs": [],
   "source": [
    "natsal <- read.table(\"./data/natsal_3_teaching_open.tab\", header=TRUE, na=\"NA\", sep=\"\\t\")"
   ]
  },
  {
   "cell_type": "markdown",
   "id": "played-quilt",
   "metadata": {},
   "source": [
    "There were no error messages, so our *R* command must have worked (it did). Here is what the above command does:\n",
    "* imports a file using the `read.csv()` command\n",
    "* recognises that the first line of the file contains the variable names (`header=TRUE`)\n",
    "* recognises missng values for variables (`na=\"NA\"`)\n",
    "* recognises the file type so that the dataset can be read in correctly (`sep=\"\\t\"`)\n",
    "\n",
    "Finally, we need an object name for the imported dataset so that we can reference it in future commands (`natsal`). The `<-` is the assignment operator i.e., import the dataset and assign it to the object `natsal`. "
   ]
  },
  {
   "cell_type": "markdown",
   "id": "thermal-valve",
   "metadata": {},
   "source": [
    "#### Viewing the dataset"
   ]
  },
  {
   "cell_type": "markdown",
   "id": "faced-dietary",
   "metadata": {},
   "source": [
    "One of the most common ways of exploring a dataset is by visually inspecting its contents. We can do so by referencing the name we gave the dataset:"
   ]
  },
  {
   "cell_type": "code",
   "execution_count": 6,
   "id": "sweet-vertex",
   "metadata": {},
   "outputs": [
    {
     "data": {
      "text/html": [
       "<table class=\"dataframe\">\n",
       "<caption>A data.frame: 3799 × 20</caption>\n",
       "<thead>\n",
       "\t<tr><th scope=col>agrp</th><th scope=col>rsex</th><th scope=col>ethnicgrpr</th><th scope=col>sexidr</th><th scope=col>rnssecgp_6</th><th scope=col>adj_imd_quintile</th><th scope=col>rwcasual</th><th scope=col>snnolov</th><th scope=col>snpres</th><th scope=col>snold</th><th scope=col>snsexdrv</th><th scope=col>snmedia</th><th scope=col>snearly</th><th scope=col>attconservative</th><th scope=col>dage1ch</th><th scope=col>disabil2</th><th scope=col>depscr</th><th scope=col>religimp</th><th scope=col>relstatr</th><th scope=col>total_wt</th></tr>\n",
       "\t<tr><th scope=col>&lt;int&gt;</th><th scope=col>&lt;int&gt;</th><th scope=col>&lt;int&gt;</th><th scope=col>&lt;int&gt;</th><th scope=col>&lt;int&gt;</th><th scope=col>&lt;int&gt;</th><th scope=col>&lt;int&gt;</th><th scope=col>&lt;int&gt;</th><th scope=col>&lt;int&gt;</th><th scope=col>&lt;int&gt;</th><th scope=col>&lt;int&gt;</th><th scope=col>&lt;int&gt;</th><th scope=col>&lt;int&gt;</th><th scope=col>&lt;dbl&gt;</th><th scope=col>&lt;int&gt;</th><th scope=col>&lt;int&gt;</th><th scope=col>&lt;int&gt;</th><th scope=col>&lt;int&gt;</th><th scope=col>&lt;int&gt;</th><th scope=col>&lt;dbl&gt;</th></tr>\n",
       "</thead>\n",
       "<tbody>\n",
       "\t<tr><td>2</td><td>1</td><td>1</td><td>1</td><td>4</td><td>3</td><td>1</td><td>4</td><td>2</td><td>2</td><td>2</td><td>2</td><td>1</td><td> 1.36654460</td><td>-1</td><td>1</td><td> 0</td><td>2</td><td> 7</td><td>0.4605145</td></tr>\n",
       "\t<tr><td>3</td><td>2</td><td>1</td><td>1</td><td>5</td><td>3</td><td>5</td><td>2</td><td>3</td><td>4</td><td>4</td><td>4</td><td>3</td><td>-2.38964933</td><td>-1</td><td>1</td><td> 0</td><td>4</td><td> 2</td><td>1.9239441</td></tr>\n",
       "\t<tr><td>1</td><td>2</td><td>1</td><td>1</td><td>8</td><td>4</td><td>3</td><td>2</td><td>4</td><td>4</td><td>2</td><td>2</td><td>2</td><td>-0.75150431</td><td>-1</td><td>1</td><td> 0</td><td>3</td><td> 3</td><td>1.0208558</td></tr>\n",
       "\t<tr><td>4</td><td>2</td><td>2</td><td>2</td><td>5</td><td>5</td><td>1</td><td>5</td><td>4</td><td>8</td><td>3</td><td>1</td><td>1</td><td>         NA</td><td>28</td><td>1</td><td> 1</td><td>1</td><td>NA</td><td>0.8074293</td></tr>\n",
       "\t<tr><td>2</td><td>1</td><td>2</td><td>2</td><td>1</td><td>5</td><td>1</td><td>5</td><td>8</td><td>8</td><td>4</td><td>8</td><td>1</td><td>         NA</td><td>23</td><td>1</td><td> 0</td><td>1</td><td> 1</td><td>1.0390816</td></tr>\n",
       "\t<tr><td>1</td><td>2</td><td>2</td><td>1</td><td>8</td><td>4</td><td>1</td><td>5</td><td>1</td><td>4</td><td>2</td><td>2</td><td>2</td><td> 0.99449801</td><td>-1</td><td>1</td><td>-1</td><td>1</td><td> 7</td><td>0.5381795</td></tr>\n",
       "\t<tr><td>2</td><td>2</td><td>2</td><td>1</td><td>4</td><td>5</td><td>1</td><td>5</td><td>2</td><td>2</td><td>3</td><td>1</td><td>1</td><td> 1.79615332</td><td>-1</td><td>1</td><td> 0</td><td>1</td><td> 7</td><td>0.6600991</td></tr>\n",
       "\t<tr><td>1</td><td>2</td><td>1</td><td>1</td><td>5</td><td>5</td><td>2</td><td>2</td><td>2</td><td>3</td><td>1</td><td>1</td><td>2</td><td> 0.61900994</td><td>-1</td><td>3</td><td> 0</td><td>3</td><td> 3</td><td>0.2707254</td></tr>\n",
       "\t<tr><td>2</td><td>2</td><td>1</td><td>1</td><td>2</td><td>5</td><td>2</td><td>3</td><td>2</td><td>3</td><td>3</td><td>3</td><td>2</td><td>-0.23222617</td><td>25</td><td>1</td><td> 0</td><td>2</td><td> 1</td><td>0.5255896</td></tr>\n",
       "\t<tr><td>3</td><td>2</td><td>1</td><td>1</td><td>5</td><td>3</td><td>1</td><td>2</td><td>4</td><td>2</td><td>2</td><td>2</td><td>1</td><td> 0.42734418</td><td>25</td><td>1</td><td> 0</td><td>2</td><td> 5</td><td>0.6261719</td></tr>\n",
       "\t<tr><td>5</td><td>1</td><td>1</td><td>1</td><td>7</td><td>5</td><td>1</td><td>2</td><td>4</td><td>2</td><td>4</td><td>3</td><td>2</td><td>-0.72947381</td><td>17</td><td>3</td><td> 0</td><td>3</td><td> 1</td><td>2.2711294</td></tr>\n",
       "\t<tr><td>2</td><td>2</td><td>1</td><td>1</td><td>2</td><td>2</td><td>3</td><td>2</td><td>2</td><td>3</td><td>4</td><td>2</td><td>2</td><td>-0.46751734</td><td>25</td><td>1</td><td> 0</td><td>4</td><td> 3</td><td>0.2627948</td></tr>\n",
       "\t<tr><td>1</td><td>2</td><td>1</td><td>1</td><td>6</td><td>2</td><td>3</td><td>3</td><td>3</td><td>3</td><td>2</td><td>2</td><td>2</td><td>-0.07258490</td><td>-1</td><td>1</td><td> 1</td><td>2</td><td> 7</td><td>0.3553329</td></tr>\n",
       "\t<tr><td>4</td><td>1</td><td>1</td><td>1</td><td>3</td><td>4</td><td>2</td><td>2</td><td>2</td><td>2</td><td>4</td><td>4</td><td>3</td><td>-1.24375767</td><td>24</td><td>3</td><td> 1</td><td>3</td><td> 5</td><td>1.5793088</td></tr>\n",
       "\t<tr><td>1</td><td>2</td><td>1</td><td>1</td><td>5</td><td>5</td><td>1</td><td>5</td><td>4</td><td>4</td><td>4</td><td>1</td><td>1</td><td> 0.75049672</td><td>17</td><td>1</td><td> 0</td><td>3</td><td> 3</td><td>0.3294124</td></tr>\n",
       "\t<tr><td>1</td><td>2</td><td>1</td><td>1</td><td>8</td><td>5</td><td>2</td><td>3</td><td>1</td><td>8</td><td>1</td><td>2</td><td>2</td><td>         NA</td><td>18</td><td>3</td><td> 1</td><td>2</td><td> 2</td><td>0.6588249</td></tr>\n",
       "\t<tr><td>1</td><td>2</td><td>1</td><td>1</td><td>1</td><td>2</td><td>3</td><td>2</td><td>1</td><td>4</td><td>2</td><td>2</td><td>1</td><td> 0.33585612</td><td>-1</td><td>1</td><td> 0</td><td>3</td><td> 7</td><td>0.8336976</td></tr>\n",
       "\t<tr><td>2</td><td>1</td><td>1</td><td>1</td><td>5</td><td>2</td><td>3</td><td>2</td><td>2</td><td>3</td><td>1</td><td>3</td><td>2</td><td>-0.28074293</td><td>25</td><td>3</td><td> 0</td><td>3</td><td> 7</td><td>0.5605258</td></tr>\n",
       "\t<tr><td>3</td><td>2</td><td>1</td><td>1</td><td>2</td><td>3</td><td>3</td><td>3</td><td>4</td><td>4</td><td>1</td><td>2</td><td>1</td><td> 0.10377038</td><td>-1</td><td>1</td><td> 1</td><td>1</td><td> 7</td><td>1.3666587</td></tr>\n",
       "\t<tr><td>1</td><td>2</td><td>1</td><td>1</td><td>5</td><td>2</td><td>2</td><td>3</td><td>1</td><td>3</td><td>2</td><td>2</td><td>1</td><td> 0.96192570</td><td>-1</td><td>1</td><td> 0</td><td>3</td><td> 7</td><td>0.4828903</td></tr>\n",
       "\t<tr><td>2</td><td>1</td><td>1</td><td>1</td><td>5</td><td>3</td><td>3</td><td>3</td><td>2</td><td>2</td><td>3</td><td>2</td><td>2</td><td> 0.17406820</td><td>-1</td><td>1</td><td> 0</td><td>4</td><td> 1</td><td>0.5944510</td></tr>\n",
       "\t<tr><td>3</td><td>2</td><td>1</td><td>1</td><td>4</td><td>1</td><td>2</td><td>3</td><td>2</td><td>4</td><td>5</td><td>3</td><td>1</td><td>-0.38677063</td><td>24</td><td>1</td><td> 0</td><td>4</td><td> 2</td><td>1.2085095</td></tr>\n",
       "\t<tr><td>2</td><td>2</td><td>1</td><td>1</td><td>5</td><td>5</td><td>1</td><td>3</td><td>1</td><td>3</td><td>1</td><td>1</td><td>1</td><td> 1.68021937</td><td>27</td><td>3</td><td> 0</td><td>4</td><td> 1</td><td>0.5883367</td></tr>\n",
       "\t<tr><td>3</td><td>2</td><td>1</td><td>1</td><td>1</td><td>1</td><td>3</td><td>2</td><td>1</td><td>4</td><td>5</td><td>3</td><td>1</td><td>-0.58207031</td><td>23</td><td>3</td><td> 0</td><td>4</td><td> 1</td><td>2.3937372</td></tr>\n",
       "\t<tr><td>1</td><td>2</td><td>1</td><td>1</td><td>8</td><td>2</td><td>3</td><td>2</td><td>1</td><td>4</td><td>2</td><td>2</td><td>2</td><td>-0.08715225</td><td>-1</td><td>1</td><td> 0</td><td>3</td><td> 7</td><td>0.6838787</td></tr>\n",
       "\t<tr><td>1</td><td>1</td><td>1</td><td>1</td><td>8</td><td>3</td><td>4</td><td>2</td><td>4</td><td>4</td><td>4</td><td>2</td><td>2</td><td>-1.28833878</td><td>-1</td><td>1</td><td> 0</td><td>4</td><td> 7</td><td>0.3601234</td></tr>\n",
       "\t<tr><td>4</td><td>1</td><td>2</td><td>1</td><td>4</td><td>5</td><td>5</td><td>2</td><td>2</td><td>2</td><td>3</td><td>2</td><td>2</td><td>-0.41128303</td><td>-1</td><td>1</td><td> 0</td><td>1</td><td> 7</td><td>2.2808898</td></tr>\n",
       "\t<tr><td>3</td><td>2</td><td>2</td><td>1</td><td>6</td><td>5</td><td>1</td><td>4</td><td>1</td><td>3</td><td>1</td><td>1</td><td>1</td><td> 1.92836889</td><td>18</td><td>3</td><td> 1</td><td>1</td><td> 1</td><td>2.0981660</td></tr>\n",
       "\t<tr><td>2</td><td>2</td><td>1</td><td>1</td><td>5</td><td>5</td><td>3</td><td>1</td><td>2</td><td>4</td><td>5</td><td>1</td><td>4</td><td>-1.58954360</td><td>-1</td><td>2</td><td> 0</td><td>2</td><td> 2</td><td>0.5094311</td></tr>\n",
       "\t<tr><td>5</td><td>2</td><td>1</td><td>1</td><td>5</td><td>3</td><td>1</td><td>3</td><td>1</td><td>4</td><td>4</td><td>1</td><td>1</td><td> 0.91854975</td><td>19</td><td>2</td><td> 0</td><td>4</td><td> 4</td><td>0.6828188</td></tr>\n",
       "\t<tr><td>...</td><td>...</td><td>...</td><td>...</td><td>...</td><td>...</td><td>...</td><td>...</td><td>...</td><td>...</td><td>...</td><td>...</td><td>...</td><td>...</td><td>...</td><td>...</td><td>...</td><td>...</td><td>...</td><td>...</td></tr>\n",
       "\t<tr><td>2</td><td>1</td><td>1</td><td>1</td><td> 5</td><td>4</td><td>2</td><td>4</td><td>2</td><td>3</td><td>2</td><td>3</td><td>3</td><td>-0.22296822</td><td>-1</td><td>3</td><td> 1</td><td>4</td><td> 7</td><td>0.5265444</td></tr>\n",
       "\t<tr><td>1</td><td>1</td><td>1</td><td>1</td><td> 6</td><td>5</td><td>5</td><td>1</td><td>3</td><td>3</td><td>8</td><td>3</td><td>3</td><td>         NA</td><td>-1</td><td>1</td><td> 0</td><td>3</td><td> 7</td><td>0.9760806</td></tr>\n",
       "\t<tr><td>2</td><td>1</td><td>1</td><td>1</td><td> 1</td><td>3</td><td>4</td><td>2</td><td>3</td><td>4</td><td>1</td><td>2</td><td>1</td><td>-0.09152930</td><td>-1</td><td>1</td><td> 0</td><td>1</td><td> 2</td><td>0.9887621</td></tr>\n",
       "\t<tr><td>1</td><td>2</td><td>1</td><td>1</td><td> 8</td><td>4</td><td>2</td><td>3</td><td>4</td><td>3</td><td>2</td><td>2</td><td>2</td><td>-0.12543473</td><td>-1</td><td>1</td><td> 0</td><td>4</td><td> 3</td><td>0.3553329</td></tr>\n",
       "\t<tr><td>2</td><td>2</td><td>1</td><td>1</td><td> 5</td><td>4</td><td>5</td><td>2</td><td>4</td><td>3</td><td>2</td><td>1</td><td>1</td><td>-0.09080243</td><td>19</td><td>1</td><td> 1</td><td>4</td><td> 1</td><td>0.6939590</td></tr>\n",
       "\t<tr><td>4</td><td>2</td><td>1</td><td>1</td><td> 1</td><td>1</td><td>3</td><td>4</td><td>1</td><td>4</td><td>2</td><td>2</td><td>1</td><td> 0.83215516</td><td>-1</td><td>1</td><td> 0</td><td>1</td><td> 7</td><td>0.5083501</td></tr>\n",
       "\t<tr><td>6</td><td>1</td><td>9</td><td>9</td><td>99</td><td>1</td><td>9</td><td>9</td><td>9</td><td>9</td><td>9</td><td>9</td><td>9</td><td>         NA</td><td>99</td><td>1</td><td> 9</td><td>9</td><td>NA</td><td>0.7418323</td></tr>\n",
       "\t<tr><td>3</td><td>1</td><td>1</td><td>1</td><td> 3</td><td>1</td><td>5</td><td>1</td><td>4</td><td>4</td><td>2</td><td>3</td><td>2</td><td>-1.70243155</td><td>26</td><td>1</td><td> 0</td><td>4</td><td> 2</td><td>1.5279322</td></tr>\n",
       "\t<tr><td>5</td><td>2</td><td>2</td><td>1</td><td> 1</td><td>1</td><td>1</td><td>8</td><td>1</td><td>1</td><td>5</td><td>4</td><td>1</td><td>         NA</td><td>-1</td><td>1</td><td> 1</td><td>2</td><td> 1</td><td>1.3606155</td></tr>\n",
       "\t<tr><td>3</td><td>2</td><td>1</td><td>1</td><td> 2</td><td>5</td><td>3</td><td>2</td><td>2</td><td>4</td><td>4</td><td>3</td><td>2</td><td>-1.04241256</td><td>24</td><td>1</td><td> 0</td><td>3</td><td> 5</td><td>0.5992544</td></tr>\n",
       "\t<tr><td>3</td><td>1</td><td>1</td><td>2</td><td> 5</td><td>4</td><td>1</td><td>4</td><td>3</td><td>3</td><td>8</td><td>3</td><td>3</td><td>         NA</td><td>-1</td><td>1</td><td> 0</td><td>3</td><td> 6</td><td>2.0948214</td></tr>\n",
       "\t<tr><td>2</td><td>2</td><td>1</td><td>1</td><td> 2</td><td>4</td><td>3</td><td>1</td><td>2</td><td>4</td><td>4</td><td>2</td><td>2</td><td>-0.92498607</td><td>-1</td><td>1</td><td> 0</td><td>3</td><td> 7</td><td>0.2941683</td></tr>\n",
       "\t<tr><td>2</td><td>2</td><td>1</td><td>1</td><td> 1</td><td>2</td><td>3</td><td>2</td><td>3</td><td>4</td><td>2</td><td>3</td><td>1</td><td>-0.47262127</td><td>-1</td><td>2</td><td> 0</td><td>4</td><td> 7</td><td>0.5883367</td></tr>\n",
       "\t<tr><td>3</td><td>1</td><td>2</td><td>1</td><td> 1</td><td>5</td><td>3</td><td>3</td><td>3</td><td>2</td><td>2</td><td>3</td><td>2</td><td>-0.22884170</td><td>32</td><td>1</td><td> 0</td><td>1</td><td> 6</td><td>0.9325413</td></tr>\n",
       "\t<tr><td>3</td><td>2</td><td>1</td><td>1</td><td> 1</td><td>3</td><td>2</td><td>4</td><td>1</td><td>3</td><td>4</td><td>2</td><td>1</td><td> 0.84184161</td><td>-1</td><td>3</td><td> 1</td><td>4</td><td> 3</td><td>0.5874917</td></tr>\n",
       "\t<tr><td>5</td><td>1</td><td>1</td><td>2</td><td> 7</td><td>4</td><td>1</td><td>2</td><td>2</td><td>4</td><td>4</td><td>8</td><td>2</td><td>         NA</td><td>-1</td><td>1</td><td>-1</td><td>1</td><td> 7</td><td>0.9342192</td></tr>\n",
       "\t<tr><td>1</td><td>1</td><td>1</td><td>1</td><td> 8</td><td>4</td><td>2</td><td>4</td><td>3</td><td>4</td><td>1</td><td>2</td><td>1</td><td> 0.74197144</td><td>-1</td><td>1</td><td> 0</td><td>4</td><td> 7</td><td>0.3950788</td></tr>\n",
       "\t<tr><td>4</td><td>2</td><td>1</td><td>1</td><td> 7</td><td>5</td><td>5</td><td>3</td><td>3</td><td>3</td><td>3</td><td>3</td><td>2</td><td>-0.95947942</td><td>20</td><td>3</td><td> 1</td><td>3</td><td> 3</td><td>0.6663694</td></tr>\n",
       "\t<tr><td>3</td><td>1</td><td>1</td><td>1</td><td> 1</td><td>4</td><td>3</td><td>3</td><td>2</td><td>2</td><td>2</td><td>2</td><td>2</td><td> 0.35818500</td><td>-1</td><td>1</td><td> 0</td><td>2</td><td> 7</td><td>0.8117174</td></tr>\n",
       "\t<tr><td>4</td><td>2</td><td>2</td><td>1</td><td>99</td><td>4</td><td>1</td><td>4</td><td>3</td><td>3</td><td>3</td><td>3</td><td>2</td><td>-0.03692649</td><td>-1</td><td>1</td><td> 0</td><td>1</td><td> 3</td><td>0.8074293</td></tr>\n",
       "\t<tr><td>4</td><td>2</td><td>1</td><td>2</td><td> 3</td><td>1</td><td>8</td><td>8</td><td>2</td><td>4</td><td>4</td><td>2</td><td>2</td><td>         NA</td><td>-1</td><td>3</td><td> 0</td><td>3</td><td> 2</td><td>1.2589507</td></tr>\n",
       "\t<tr><td>4</td><td>1</td><td>1</td><td>1</td><td> 1</td><td>1</td><td>1</td><td>4</td><td>1</td><td>2</td><td>4</td><td>2</td><td>2</td><td> 0.79675330</td><td>23</td><td>1</td><td> 1</td><td>1</td><td> 3</td><td>0.8623893</td></tr>\n",
       "\t<tr><td>1</td><td>2</td><td>1</td><td>1</td><td> 8</td><td>5</td><td>3</td><td>3</td><td>2</td><td>3</td><td>4</td><td>2</td><td>1</td><td> 0.20364055</td><td>-1</td><td>1</td><td> 0</td><td>2</td><td> 7</td><td>0.6703258</td></tr>\n",
       "\t<tr><td>2</td><td>2</td><td>1</td><td>1</td><td> 5</td><td>2</td><td>5</td><td>1</td><td>3</td><td>5</td><td>5</td><td>4</td><td>1</td><td>-2.18521813</td><td>-1</td><td>1</td><td> 0</td><td>4</td><td> 2</td><td>0.5913510</td></tr>\n",
       "\t<tr><td>4</td><td>2</td><td>2</td><td>1</td><td> 1</td><td>3</td><td>3</td><td>3</td><td>3</td><td>2</td><td>4</td><td>1</td><td>1</td><td> 0.55708508</td><td>28</td><td>2</td><td> 0</td><td>2</td><td> 3</td><td>0.8074293</td></tr>\n",
       "\t<tr><td>2</td><td>2</td><td>1</td><td>1</td><td> 3</td><td>3</td><td>2</td><td>4</td><td>3</td><td>2</td><td>2</td><td>3</td><td>2</td><td> 0.18790867</td><td>19</td><td>1</td><td> 0</td><td>2</td><td> 1</td><td>0.4868764</td></tr>\n",
       "\t<tr><td>1</td><td>2</td><td>1</td><td>1</td><td> 6</td><td>5</td><td>5</td><td>2</td><td>2</td><td>4</td><td>1</td><td>3</td><td>2</td><td>-0.82726385</td><td>17</td><td>1</td><td> 1</td><td>3</td><td> 6</td><td>0.3080621</td></tr>\n",
       "\t<tr><td>1</td><td>2</td><td>1</td><td>1</td><td> 5</td><td>1</td><td>1</td><td>3</td><td>1</td><td>3</td><td>3</td><td>3</td><td>3</td><td>-0.26518300</td><td>-1</td><td>1</td><td> 0</td><td>2</td><td> 7</td><td>0.4455148</td></tr>\n",
       "\t<tr><td>2</td><td>1</td><td>1</td><td>1</td><td> 1</td><td>1</td><td>5</td><td>2</td><td>1</td><td>1</td><td>3</td><td>1</td><td>1</td><td> 0.80807125</td><td>-1</td><td>1</td><td> 1</td><td>4</td><td> 6</td><td>0.5265444</td></tr>\n",
       "\t<tr><td>6</td><td>1</td><td>1</td><td>1</td><td> 5</td><td>5</td><td>5</td><td>2</td><td>2</td><td>4</td><td>3</td><td>5</td><td>3</td><td>-2.34965785</td><td>25</td><td>3</td><td> 1</td><td>4</td><td> 5</td><td>0.6619873</td></tr>\n",
       "</tbody>\n",
       "</table>\n"
      ],
      "text/latex": [
       "A data.frame: 3799 × 20\n",
       "\\begin{tabular}{llllllllllllllllllll}\n",
       " agrp & rsex & ethnicgrpr & sexidr & rnssecgp\\_6 & adj\\_imd\\_quintile & rwcasual & snnolov & snpres & snold & snsexdrv & snmedia & snearly & attconservative & dage1ch & disabil2 & depscr & religimp & relstatr & total\\_wt\\\\\n",
       " <int> & <int> & <int> & <int> & <int> & <int> & <int> & <int> & <int> & <int> & <int> & <int> & <int> & <dbl> & <int> & <int> & <int> & <int> & <int> & <dbl>\\\\\n",
       "\\hline\n",
       "\t 2 & 1 & 1 & 1 & 4 & 3 & 1 & 4 & 2 & 2 & 2 & 2 & 1 &  1.36654460 & -1 & 1 &  0 & 2 &  7 & 0.4605145\\\\\n",
       "\t 3 & 2 & 1 & 1 & 5 & 3 & 5 & 2 & 3 & 4 & 4 & 4 & 3 & -2.38964933 & -1 & 1 &  0 & 4 &  2 & 1.9239441\\\\\n",
       "\t 1 & 2 & 1 & 1 & 8 & 4 & 3 & 2 & 4 & 4 & 2 & 2 & 2 & -0.75150431 & -1 & 1 &  0 & 3 &  3 & 1.0208558\\\\\n",
       "\t 4 & 2 & 2 & 2 & 5 & 5 & 1 & 5 & 4 & 8 & 3 & 1 & 1 &          NA & 28 & 1 &  1 & 1 & NA & 0.8074293\\\\\n",
       "\t 2 & 1 & 2 & 2 & 1 & 5 & 1 & 5 & 8 & 8 & 4 & 8 & 1 &          NA & 23 & 1 &  0 & 1 &  1 & 1.0390816\\\\\n",
       "\t 1 & 2 & 2 & 1 & 8 & 4 & 1 & 5 & 1 & 4 & 2 & 2 & 2 &  0.99449801 & -1 & 1 & -1 & 1 &  7 & 0.5381795\\\\\n",
       "\t 2 & 2 & 2 & 1 & 4 & 5 & 1 & 5 & 2 & 2 & 3 & 1 & 1 &  1.79615332 & -1 & 1 &  0 & 1 &  7 & 0.6600991\\\\\n",
       "\t 1 & 2 & 1 & 1 & 5 & 5 & 2 & 2 & 2 & 3 & 1 & 1 & 2 &  0.61900994 & -1 & 3 &  0 & 3 &  3 & 0.2707254\\\\\n",
       "\t 2 & 2 & 1 & 1 & 2 & 5 & 2 & 3 & 2 & 3 & 3 & 3 & 2 & -0.23222617 & 25 & 1 &  0 & 2 &  1 & 0.5255896\\\\\n",
       "\t 3 & 2 & 1 & 1 & 5 & 3 & 1 & 2 & 4 & 2 & 2 & 2 & 1 &  0.42734418 & 25 & 1 &  0 & 2 &  5 & 0.6261719\\\\\n",
       "\t 5 & 1 & 1 & 1 & 7 & 5 & 1 & 2 & 4 & 2 & 4 & 3 & 2 & -0.72947381 & 17 & 3 &  0 & 3 &  1 & 2.2711294\\\\\n",
       "\t 2 & 2 & 1 & 1 & 2 & 2 & 3 & 2 & 2 & 3 & 4 & 2 & 2 & -0.46751734 & 25 & 1 &  0 & 4 &  3 & 0.2627948\\\\\n",
       "\t 1 & 2 & 1 & 1 & 6 & 2 & 3 & 3 & 3 & 3 & 2 & 2 & 2 & -0.07258490 & -1 & 1 &  1 & 2 &  7 & 0.3553329\\\\\n",
       "\t 4 & 1 & 1 & 1 & 3 & 4 & 2 & 2 & 2 & 2 & 4 & 4 & 3 & -1.24375767 & 24 & 3 &  1 & 3 &  5 & 1.5793088\\\\\n",
       "\t 1 & 2 & 1 & 1 & 5 & 5 & 1 & 5 & 4 & 4 & 4 & 1 & 1 &  0.75049672 & 17 & 1 &  0 & 3 &  3 & 0.3294124\\\\\n",
       "\t 1 & 2 & 1 & 1 & 8 & 5 & 2 & 3 & 1 & 8 & 1 & 2 & 2 &          NA & 18 & 3 &  1 & 2 &  2 & 0.6588249\\\\\n",
       "\t 1 & 2 & 1 & 1 & 1 & 2 & 3 & 2 & 1 & 4 & 2 & 2 & 1 &  0.33585612 & -1 & 1 &  0 & 3 &  7 & 0.8336976\\\\\n",
       "\t 2 & 1 & 1 & 1 & 5 & 2 & 3 & 2 & 2 & 3 & 1 & 3 & 2 & -0.28074293 & 25 & 3 &  0 & 3 &  7 & 0.5605258\\\\\n",
       "\t 3 & 2 & 1 & 1 & 2 & 3 & 3 & 3 & 4 & 4 & 1 & 2 & 1 &  0.10377038 & -1 & 1 &  1 & 1 &  7 & 1.3666587\\\\\n",
       "\t 1 & 2 & 1 & 1 & 5 & 2 & 2 & 3 & 1 & 3 & 2 & 2 & 1 &  0.96192570 & -1 & 1 &  0 & 3 &  7 & 0.4828903\\\\\n",
       "\t 2 & 1 & 1 & 1 & 5 & 3 & 3 & 3 & 2 & 2 & 3 & 2 & 2 &  0.17406820 & -1 & 1 &  0 & 4 &  1 & 0.5944510\\\\\n",
       "\t 3 & 2 & 1 & 1 & 4 & 1 & 2 & 3 & 2 & 4 & 5 & 3 & 1 & -0.38677063 & 24 & 1 &  0 & 4 &  2 & 1.2085095\\\\\n",
       "\t 2 & 2 & 1 & 1 & 5 & 5 & 1 & 3 & 1 & 3 & 1 & 1 & 1 &  1.68021937 & 27 & 3 &  0 & 4 &  1 & 0.5883367\\\\\n",
       "\t 3 & 2 & 1 & 1 & 1 & 1 & 3 & 2 & 1 & 4 & 5 & 3 & 1 & -0.58207031 & 23 & 3 &  0 & 4 &  1 & 2.3937372\\\\\n",
       "\t 1 & 2 & 1 & 1 & 8 & 2 & 3 & 2 & 1 & 4 & 2 & 2 & 2 & -0.08715225 & -1 & 1 &  0 & 3 &  7 & 0.6838787\\\\\n",
       "\t 1 & 1 & 1 & 1 & 8 & 3 & 4 & 2 & 4 & 4 & 4 & 2 & 2 & -1.28833878 & -1 & 1 &  0 & 4 &  7 & 0.3601234\\\\\n",
       "\t 4 & 1 & 2 & 1 & 4 & 5 & 5 & 2 & 2 & 2 & 3 & 2 & 2 & -0.41128303 & -1 & 1 &  0 & 1 &  7 & 2.2808898\\\\\n",
       "\t 3 & 2 & 2 & 1 & 6 & 5 & 1 & 4 & 1 & 3 & 1 & 1 & 1 &  1.92836889 & 18 & 3 &  1 & 1 &  1 & 2.0981660\\\\\n",
       "\t 2 & 2 & 1 & 1 & 5 & 5 & 3 & 1 & 2 & 4 & 5 & 1 & 4 & -1.58954360 & -1 & 2 &  0 & 2 &  2 & 0.5094311\\\\\n",
       "\t 5 & 2 & 1 & 1 & 5 & 3 & 1 & 3 & 1 & 4 & 4 & 1 & 1 &  0.91854975 & 19 & 2 &  0 & 4 &  4 & 0.6828188\\\\\n",
       "\t ... & ... & ... & ... & ... & ... & ... & ... & ... & ... & ... & ... & ... & ... & ... & ... & ... & ... & ... & ...\\\\\n",
       "\t 2 & 1 & 1 & 1 &  5 & 4 & 2 & 4 & 2 & 3 & 2 & 3 & 3 & -0.22296822 & -1 & 3 &  1 & 4 &  7 & 0.5265444\\\\\n",
       "\t 1 & 1 & 1 & 1 &  6 & 5 & 5 & 1 & 3 & 3 & 8 & 3 & 3 &          NA & -1 & 1 &  0 & 3 &  7 & 0.9760806\\\\\n",
       "\t 2 & 1 & 1 & 1 &  1 & 3 & 4 & 2 & 3 & 4 & 1 & 2 & 1 & -0.09152930 & -1 & 1 &  0 & 1 &  2 & 0.9887621\\\\\n",
       "\t 1 & 2 & 1 & 1 &  8 & 4 & 2 & 3 & 4 & 3 & 2 & 2 & 2 & -0.12543473 & -1 & 1 &  0 & 4 &  3 & 0.3553329\\\\\n",
       "\t 2 & 2 & 1 & 1 &  5 & 4 & 5 & 2 & 4 & 3 & 2 & 1 & 1 & -0.09080243 & 19 & 1 &  1 & 4 &  1 & 0.6939590\\\\\n",
       "\t 4 & 2 & 1 & 1 &  1 & 1 & 3 & 4 & 1 & 4 & 2 & 2 & 1 &  0.83215516 & -1 & 1 &  0 & 1 &  7 & 0.5083501\\\\\n",
       "\t 6 & 1 & 9 & 9 & 99 & 1 & 9 & 9 & 9 & 9 & 9 & 9 & 9 &          NA & 99 & 1 &  9 & 9 & NA & 0.7418323\\\\\n",
       "\t 3 & 1 & 1 & 1 &  3 & 1 & 5 & 1 & 4 & 4 & 2 & 3 & 2 & -1.70243155 & 26 & 1 &  0 & 4 &  2 & 1.5279322\\\\\n",
       "\t 5 & 2 & 2 & 1 &  1 & 1 & 1 & 8 & 1 & 1 & 5 & 4 & 1 &          NA & -1 & 1 &  1 & 2 &  1 & 1.3606155\\\\\n",
       "\t 3 & 2 & 1 & 1 &  2 & 5 & 3 & 2 & 2 & 4 & 4 & 3 & 2 & -1.04241256 & 24 & 1 &  0 & 3 &  5 & 0.5992544\\\\\n",
       "\t 3 & 1 & 1 & 2 &  5 & 4 & 1 & 4 & 3 & 3 & 8 & 3 & 3 &          NA & -1 & 1 &  0 & 3 &  6 & 2.0948214\\\\\n",
       "\t 2 & 2 & 1 & 1 &  2 & 4 & 3 & 1 & 2 & 4 & 4 & 2 & 2 & -0.92498607 & -1 & 1 &  0 & 3 &  7 & 0.2941683\\\\\n",
       "\t 2 & 2 & 1 & 1 &  1 & 2 & 3 & 2 & 3 & 4 & 2 & 3 & 1 & -0.47262127 & -1 & 2 &  0 & 4 &  7 & 0.5883367\\\\\n",
       "\t 3 & 1 & 2 & 1 &  1 & 5 & 3 & 3 & 3 & 2 & 2 & 3 & 2 & -0.22884170 & 32 & 1 &  0 & 1 &  6 & 0.9325413\\\\\n",
       "\t 3 & 2 & 1 & 1 &  1 & 3 & 2 & 4 & 1 & 3 & 4 & 2 & 1 &  0.84184161 & -1 & 3 &  1 & 4 &  3 & 0.5874917\\\\\n",
       "\t 5 & 1 & 1 & 2 &  7 & 4 & 1 & 2 & 2 & 4 & 4 & 8 & 2 &          NA & -1 & 1 & -1 & 1 &  7 & 0.9342192\\\\\n",
       "\t 1 & 1 & 1 & 1 &  8 & 4 & 2 & 4 & 3 & 4 & 1 & 2 & 1 &  0.74197144 & -1 & 1 &  0 & 4 &  7 & 0.3950788\\\\\n",
       "\t 4 & 2 & 1 & 1 &  7 & 5 & 5 & 3 & 3 & 3 & 3 & 3 & 2 & -0.95947942 & 20 & 3 &  1 & 3 &  3 & 0.6663694\\\\\n",
       "\t 3 & 1 & 1 & 1 &  1 & 4 & 3 & 3 & 2 & 2 & 2 & 2 & 2 &  0.35818500 & -1 & 1 &  0 & 2 &  7 & 0.8117174\\\\\n",
       "\t 4 & 2 & 2 & 1 & 99 & 4 & 1 & 4 & 3 & 3 & 3 & 3 & 2 & -0.03692649 & -1 & 1 &  0 & 1 &  3 & 0.8074293\\\\\n",
       "\t 4 & 2 & 1 & 2 &  3 & 1 & 8 & 8 & 2 & 4 & 4 & 2 & 2 &          NA & -1 & 3 &  0 & 3 &  2 & 1.2589507\\\\\n",
       "\t 4 & 1 & 1 & 1 &  1 & 1 & 1 & 4 & 1 & 2 & 4 & 2 & 2 &  0.79675330 & 23 & 1 &  1 & 1 &  3 & 0.8623893\\\\\n",
       "\t 1 & 2 & 1 & 1 &  8 & 5 & 3 & 3 & 2 & 3 & 4 & 2 & 1 &  0.20364055 & -1 & 1 &  0 & 2 &  7 & 0.6703258\\\\\n",
       "\t 2 & 2 & 1 & 1 &  5 & 2 & 5 & 1 & 3 & 5 & 5 & 4 & 1 & -2.18521813 & -1 & 1 &  0 & 4 &  2 & 0.5913510\\\\\n",
       "\t 4 & 2 & 2 & 1 &  1 & 3 & 3 & 3 & 3 & 2 & 4 & 1 & 1 &  0.55708508 & 28 & 2 &  0 & 2 &  3 & 0.8074293\\\\\n",
       "\t 2 & 2 & 1 & 1 &  3 & 3 & 2 & 4 & 3 & 2 & 2 & 3 & 2 &  0.18790867 & 19 & 1 &  0 & 2 &  1 & 0.4868764\\\\\n",
       "\t 1 & 2 & 1 & 1 &  6 & 5 & 5 & 2 & 2 & 4 & 1 & 3 & 2 & -0.82726385 & 17 & 1 &  1 & 3 &  6 & 0.3080621\\\\\n",
       "\t 1 & 2 & 1 & 1 &  5 & 1 & 1 & 3 & 1 & 3 & 3 & 3 & 3 & -0.26518300 & -1 & 1 &  0 & 2 &  7 & 0.4455148\\\\\n",
       "\t 2 & 1 & 1 & 1 &  1 & 1 & 5 & 2 & 1 & 1 & 3 & 1 & 1 &  0.80807125 & -1 & 1 &  1 & 4 &  6 & 0.5265444\\\\\n",
       "\t 6 & 1 & 1 & 1 &  5 & 5 & 5 & 2 & 2 & 4 & 3 & 5 & 3 & -2.34965785 & 25 & 3 &  1 & 4 &  5 & 0.6619873\\\\\n",
       "\\end{tabular}\n"
      ],
      "text/markdown": [
       "\n",
       "A data.frame: 3799 × 20\n",
       "\n",
       "| agrp &lt;int&gt; | rsex &lt;int&gt; | ethnicgrpr &lt;int&gt; | sexidr &lt;int&gt; | rnssecgp_6 &lt;int&gt; | adj_imd_quintile &lt;int&gt; | rwcasual &lt;int&gt; | snnolov &lt;int&gt; | snpres &lt;int&gt; | snold &lt;int&gt; | snsexdrv &lt;int&gt; | snmedia &lt;int&gt; | snearly &lt;int&gt; | attconservative &lt;dbl&gt; | dage1ch &lt;int&gt; | disabil2 &lt;int&gt; | depscr &lt;int&gt; | religimp &lt;int&gt; | relstatr &lt;int&gt; | total_wt &lt;dbl&gt; |\n",
       "|---|---|---|---|---|---|---|---|---|---|---|---|---|---|---|---|---|---|---|---|\n",
       "| 2 | 1 | 1 | 1 | 4 | 3 | 1 | 4 | 2 | 2 | 2 | 2 | 1 |  1.36654460 | -1 | 1 |  0 | 2 |  7 | 0.4605145 |\n",
       "| 3 | 2 | 1 | 1 | 5 | 3 | 5 | 2 | 3 | 4 | 4 | 4 | 3 | -2.38964933 | -1 | 1 |  0 | 4 |  2 | 1.9239441 |\n",
       "| 1 | 2 | 1 | 1 | 8 | 4 | 3 | 2 | 4 | 4 | 2 | 2 | 2 | -0.75150431 | -1 | 1 |  0 | 3 |  3 | 1.0208558 |\n",
       "| 4 | 2 | 2 | 2 | 5 | 5 | 1 | 5 | 4 | 8 | 3 | 1 | 1 |          NA | 28 | 1 |  1 | 1 | NA | 0.8074293 |\n",
       "| 2 | 1 | 2 | 2 | 1 | 5 | 1 | 5 | 8 | 8 | 4 | 8 | 1 |          NA | 23 | 1 |  0 | 1 |  1 | 1.0390816 |\n",
       "| 1 | 2 | 2 | 1 | 8 | 4 | 1 | 5 | 1 | 4 | 2 | 2 | 2 |  0.99449801 | -1 | 1 | -1 | 1 |  7 | 0.5381795 |\n",
       "| 2 | 2 | 2 | 1 | 4 | 5 | 1 | 5 | 2 | 2 | 3 | 1 | 1 |  1.79615332 | -1 | 1 |  0 | 1 |  7 | 0.6600991 |\n",
       "| 1 | 2 | 1 | 1 | 5 | 5 | 2 | 2 | 2 | 3 | 1 | 1 | 2 |  0.61900994 | -1 | 3 |  0 | 3 |  3 | 0.2707254 |\n",
       "| 2 | 2 | 1 | 1 | 2 | 5 | 2 | 3 | 2 | 3 | 3 | 3 | 2 | -0.23222617 | 25 | 1 |  0 | 2 |  1 | 0.5255896 |\n",
       "| 3 | 2 | 1 | 1 | 5 | 3 | 1 | 2 | 4 | 2 | 2 | 2 | 1 |  0.42734418 | 25 | 1 |  0 | 2 |  5 | 0.6261719 |\n",
       "| 5 | 1 | 1 | 1 | 7 | 5 | 1 | 2 | 4 | 2 | 4 | 3 | 2 | -0.72947381 | 17 | 3 |  0 | 3 |  1 | 2.2711294 |\n",
       "| 2 | 2 | 1 | 1 | 2 | 2 | 3 | 2 | 2 | 3 | 4 | 2 | 2 | -0.46751734 | 25 | 1 |  0 | 4 |  3 | 0.2627948 |\n",
       "| 1 | 2 | 1 | 1 | 6 | 2 | 3 | 3 | 3 | 3 | 2 | 2 | 2 | -0.07258490 | -1 | 1 |  1 | 2 |  7 | 0.3553329 |\n",
       "| 4 | 1 | 1 | 1 | 3 | 4 | 2 | 2 | 2 | 2 | 4 | 4 | 3 | -1.24375767 | 24 | 3 |  1 | 3 |  5 | 1.5793088 |\n",
       "| 1 | 2 | 1 | 1 | 5 | 5 | 1 | 5 | 4 | 4 | 4 | 1 | 1 |  0.75049672 | 17 | 1 |  0 | 3 |  3 | 0.3294124 |\n",
       "| 1 | 2 | 1 | 1 | 8 | 5 | 2 | 3 | 1 | 8 | 1 | 2 | 2 |          NA | 18 | 3 |  1 | 2 |  2 | 0.6588249 |\n",
       "| 1 | 2 | 1 | 1 | 1 | 2 | 3 | 2 | 1 | 4 | 2 | 2 | 1 |  0.33585612 | -1 | 1 |  0 | 3 |  7 | 0.8336976 |\n",
       "| 2 | 1 | 1 | 1 | 5 | 2 | 3 | 2 | 2 | 3 | 1 | 3 | 2 | -0.28074293 | 25 | 3 |  0 | 3 |  7 | 0.5605258 |\n",
       "| 3 | 2 | 1 | 1 | 2 | 3 | 3 | 3 | 4 | 4 | 1 | 2 | 1 |  0.10377038 | -1 | 1 |  1 | 1 |  7 | 1.3666587 |\n",
       "| 1 | 2 | 1 | 1 | 5 | 2 | 2 | 3 | 1 | 3 | 2 | 2 | 1 |  0.96192570 | -1 | 1 |  0 | 3 |  7 | 0.4828903 |\n",
       "| 2 | 1 | 1 | 1 | 5 | 3 | 3 | 3 | 2 | 2 | 3 | 2 | 2 |  0.17406820 | -1 | 1 |  0 | 4 |  1 | 0.5944510 |\n",
       "| 3 | 2 | 1 | 1 | 4 | 1 | 2 | 3 | 2 | 4 | 5 | 3 | 1 | -0.38677063 | 24 | 1 |  0 | 4 |  2 | 1.2085095 |\n",
       "| 2 | 2 | 1 | 1 | 5 | 5 | 1 | 3 | 1 | 3 | 1 | 1 | 1 |  1.68021937 | 27 | 3 |  0 | 4 |  1 | 0.5883367 |\n",
       "| 3 | 2 | 1 | 1 | 1 | 1 | 3 | 2 | 1 | 4 | 5 | 3 | 1 | -0.58207031 | 23 | 3 |  0 | 4 |  1 | 2.3937372 |\n",
       "| 1 | 2 | 1 | 1 | 8 | 2 | 3 | 2 | 1 | 4 | 2 | 2 | 2 | -0.08715225 | -1 | 1 |  0 | 3 |  7 | 0.6838787 |\n",
       "| 1 | 1 | 1 | 1 | 8 | 3 | 4 | 2 | 4 | 4 | 4 | 2 | 2 | -1.28833878 | -1 | 1 |  0 | 4 |  7 | 0.3601234 |\n",
       "| 4 | 1 | 2 | 1 | 4 | 5 | 5 | 2 | 2 | 2 | 3 | 2 | 2 | -0.41128303 | -1 | 1 |  0 | 1 |  7 | 2.2808898 |\n",
       "| 3 | 2 | 2 | 1 | 6 | 5 | 1 | 4 | 1 | 3 | 1 | 1 | 1 |  1.92836889 | 18 | 3 |  1 | 1 |  1 | 2.0981660 |\n",
       "| 2 | 2 | 1 | 1 | 5 | 5 | 3 | 1 | 2 | 4 | 5 | 1 | 4 | -1.58954360 | -1 | 2 |  0 | 2 |  2 | 0.5094311 |\n",
       "| 5 | 2 | 1 | 1 | 5 | 3 | 1 | 3 | 1 | 4 | 4 | 1 | 1 |  0.91854975 | 19 | 2 |  0 | 4 |  4 | 0.6828188 |\n",
       "| ... | ... | ... | ... | ... | ... | ... | ... | ... | ... | ... | ... | ... | ... | ... | ... | ... | ... | ... | ... |\n",
       "| 2 | 1 | 1 | 1 |  5 | 4 | 2 | 4 | 2 | 3 | 2 | 3 | 3 | -0.22296822 | -1 | 3 |  1 | 4 |  7 | 0.5265444 |\n",
       "| 1 | 1 | 1 | 1 |  6 | 5 | 5 | 1 | 3 | 3 | 8 | 3 | 3 |          NA | -1 | 1 |  0 | 3 |  7 | 0.9760806 |\n",
       "| 2 | 1 | 1 | 1 |  1 | 3 | 4 | 2 | 3 | 4 | 1 | 2 | 1 | -0.09152930 | -1 | 1 |  0 | 1 |  2 | 0.9887621 |\n",
       "| 1 | 2 | 1 | 1 |  8 | 4 | 2 | 3 | 4 | 3 | 2 | 2 | 2 | -0.12543473 | -1 | 1 |  0 | 4 |  3 | 0.3553329 |\n",
       "| 2 | 2 | 1 | 1 |  5 | 4 | 5 | 2 | 4 | 3 | 2 | 1 | 1 | -0.09080243 | 19 | 1 |  1 | 4 |  1 | 0.6939590 |\n",
       "| 4 | 2 | 1 | 1 |  1 | 1 | 3 | 4 | 1 | 4 | 2 | 2 | 1 |  0.83215516 | -1 | 1 |  0 | 1 |  7 | 0.5083501 |\n",
       "| 6 | 1 | 9 | 9 | 99 | 1 | 9 | 9 | 9 | 9 | 9 | 9 | 9 |          NA | 99 | 1 |  9 | 9 | NA | 0.7418323 |\n",
       "| 3 | 1 | 1 | 1 |  3 | 1 | 5 | 1 | 4 | 4 | 2 | 3 | 2 | -1.70243155 | 26 | 1 |  0 | 4 |  2 | 1.5279322 |\n",
       "| 5 | 2 | 2 | 1 |  1 | 1 | 1 | 8 | 1 | 1 | 5 | 4 | 1 |          NA | -1 | 1 |  1 | 2 |  1 | 1.3606155 |\n",
       "| 3 | 2 | 1 | 1 |  2 | 5 | 3 | 2 | 2 | 4 | 4 | 3 | 2 | -1.04241256 | 24 | 1 |  0 | 3 |  5 | 0.5992544 |\n",
       "| 3 | 1 | 1 | 2 |  5 | 4 | 1 | 4 | 3 | 3 | 8 | 3 | 3 |          NA | -1 | 1 |  0 | 3 |  6 | 2.0948214 |\n",
       "| 2 | 2 | 1 | 1 |  2 | 4 | 3 | 1 | 2 | 4 | 4 | 2 | 2 | -0.92498607 | -1 | 1 |  0 | 3 |  7 | 0.2941683 |\n",
       "| 2 | 2 | 1 | 1 |  1 | 2 | 3 | 2 | 3 | 4 | 2 | 3 | 1 | -0.47262127 | -1 | 2 |  0 | 4 |  7 | 0.5883367 |\n",
       "| 3 | 1 | 2 | 1 |  1 | 5 | 3 | 3 | 3 | 2 | 2 | 3 | 2 | -0.22884170 | 32 | 1 |  0 | 1 |  6 | 0.9325413 |\n",
       "| 3 | 2 | 1 | 1 |  1 | 3 | 2 | 4 | 1 | 3 | 4 | 2 | 1 |  0.84184161 | -1 | 3 |  1 | 4 |  3 | 0.5874917 |\n",
       "| 5 | 1 | 1 | 2 |  7 | 4 | 1 | 2 | 2 | 4 | 4 | 8 | 2 |          NA | -1 | 1 | -1 | 1 |  7 | 0.9342192 |\n",
       "| 1 | 1 | 1 | 1 |  8 | 4 | 2 | 4 | 3 | 4 | 1 | 2 | 1 |  0.74197144 | -1 | 1 |  0 | 4 |  7 | 0.3950788 |\n",
       "| 4 | 2 | 1 | 1 |  7 | 5 | 5 | 3 | 3 | 3 | 3 | 3 | 2 | -0.95947942 | 20 | 3 |  1 | 3 |  3 | 0.6663694 |\n",
       "| 3 | 1 | 1 | 1 |  1 | 4 | 3 | 3 | 2 | 2 | 2 | 2 | 2 |  0.35818500 | -1 | 1 |  0 | 2 |  7 | 0.8117174 |\n",
       "| 4 | 2 | 2 | 1 | 99 | 4 | 1 | 4 | 3 | 3 | 3 | 3 | 2 | -0.03692649 | -1 | 1 |  0 | 1 |  3 | 0.8074293 |\n",
       "| 4 | 2 | 1 | 2 |  3 | 1 | 8 | 8 | 2 | 4 | 4 | 2 | 2 |          NA | -1 | 3 |  0 | 3 |  2 | 1.2589507 |\n",
       "| 4 | 1 | 1 | 1 |  1 | 1 | 1 | 4 | 1 | 2 | 4 | 2 | 2 |  0.79675330 | 23 | 1 |  1 | 1 |  3 | 0.8623893 |\n",
       "| 1 | 2 | 1 | 1 |  8 | 5 | 3 | 3 | 2 | 3 | 4 | 2 | 1 |  0.20364055 | -1 | 1 |  0 | 2 |  7 | 0.6703258 |\n",
       "| 2 | 2 | 1 | 1 |  5 | 2 | 5 | 1 | 3 | 5 | 5 | 4 | 1 | -2.18521813 | -1 | 1 |  0 | 4 |  2 | 0.5913510 |\n",
       "| 4 | 2 | 2 | 1 |  1 | 3 | 3 | 3 | 3 | 2 | 4 | 1 | 1 |  0.55708508 | 28 | 2 |  0 | 2 |  3 | 0.8074293 |\n",
       "| 2 | 2 | 1 | 1 |  3 | 3 | 2 | 4 | 3 | 2 | 2 | 3 | 2 |  0.18790867 | 19 | 1 |  0 | 2 |  1 | 0.4868764 |\n",
       "| 1 | 2 | 1 | 1 |  6 | 5 | 5 | 2 | 2 | 4 | 1 | 3 | 2 | -0.82726385 | 17 | 1 |  1 | 3 |  6 | 0.3080621 |\n",
       "| 1 | 2 | 1 | 1 |  5 | 1 | 1 | 3 | 1 | 3 | 3 | 3 | 3 | -0.26518300 | -1 | 1 |  0 | 2 |  7 | 0.4455148 |\n",
       "| 2 | 1 | 1 | 1 |  1 | 1 | 5 | 2 | 1 | 1 | 3 | 1 | 1 |  0.80807125 | -1 | 1 |  1 | 4 |  6 | 0.5265444 |\n",
       "| 6 | 1 | 1 | 1 |  5 | 5 | 5 | 2 | 2 | 4 | 3 | 5 | 3 | -2.34965785 | 25 | 3 |  1 | 4 |  5 | 0.6619873 |\n",
       "\n"
      ],
      "text/plain": [
       "     agrp rsex ethnicgrpr sexidr rnssecgp_6 adj_imd_quintile rwcasual snnolov\n",
       "1    2    1    1          1      4          3                1        4      \n",
       "2    3    2    1          1      5          3                5        2      \n",
       "3    1    2    1          1      8          4                3        2      \n",
       "4    4    2    2          2      5          5                1        5      \n",
       "5    2    1    2          2      1          5                1        5      \n",
       "6    1    2    2          1      8          4                1        5      \n",
       "7    2    2    2          1      4          5                1        5      \n",
       "8    1    2    1          1      5          5                2        2      \n",
       "9    2    2    1          1      2          5                2        3      \n",
       "10   3    2    1          1      5          3                1        2      \n",
       "11   5    1    1          1      7          5                1        2      \n",
       "12   2    2    1          1      2          2                3        2      \n",
       "13   1    2    1          1      6          2                3        3      \n",
       "14   4    1    1          1      3          4                2        2      \n",
       "15   1    2    1          1      5          5                1        5      \n",
       "16   1    2    1          1      8          5                2        3      \n",
       "17   1    2    1          1      1          2                3        2      \n",
       "18   2    1    1          1      5          2                3        2      \n",
       "19   3    2    1          1      2          3                3        3      \n",
       "20   1    2    1          1      5          2                2        3      \n",
       "21   2    1    1          1      5          3                3        3      \n",
       "22   3    2    1          1      4          1                2        3      \n",
       "23   2    2    1          1      5          5                1        3      \n",
       "24   3    2    1          1      1          1                3        2      \n",
       "25   1    2    1          1      8          2                3        2      \n",
       "26   1    1    1          1      8          3                4        2      \n",
       "27   4    1    2          1      4          5                5        2      \n",
       "28   3    2    2          1      6          5                1        4      \n",
       "29   2    2    1          1      5          5                3        1      \n",
       "30   5    2    1          1      5          3                1        3      \n",
       "...  ...  ...  ...        ...    ...        ...              ...      ...    \n",
       "3770 2    1    1          1       5         4                2        4      \n",
       "3771 1    1    1          1       6         5                5        1      \n",
       "3772 2    1    1          1       1         3                4        2      \n",
       "3773 1    2    1          1       8         4                2        3      \n",
       "3774 2    2    1          1       5         4                5        2      \n",
       "3775 4    2    1          1       1         1                3        4      \n",
       "3776 6    1    9          9      99         1                9        9      \n",
       "3777 3    1    1          1       3         1                5        1      \n",
       "3778 5    2    2          1       1         1                1        8      \n",
       "3779 3    2    1          1       2         5                3        2      \n",
       "3780 3    1    1          2       5         4                1        4      \n",
       "3781 2    2    1          1       2         4                3        1      \n",
       "3782 2    2    1          1       1         2                3        2      \n",
       "3783 3    1    2          1       1         5                3        3      \n",
       "3784 3    2    1          1       1         3                2        4      \n",
       "3785 5    1    1          2       7         4                1        2      \n",
       "3786 1    1    1          1       8         4                2        4      \n",
       "3787 4    2    1          1       7         5                5        3      \n",
       "3788 3    1    1          1       1         4                3        3      \n",
       "3789 4    2    2          1      99         4                1        4      \n",
       "3790 4    2    1          2       3         1                8        8      \n",
       "3791 4    1    1          1       1         1                1        4      \n",
       "3792 1    2    1          1       8         5                3        3      \n",
       "3793 2    2    1          1       5         2                5        1      \n",
       "3794 4    2    2          1       1         3                3        3      \n",
       "3795 2    2    1          1       3         3                2        4      \n",
       "3796 1    2    1          1       6         5                5        2      \n",
       "3797 1    2    1          1       5         1                1        3      \n",
       "3798 2    1    1          1       1         1                5        2      \n",
       "3799 6    1    1          1       5         5                5        2      \n",
       "     snpres snold snsexdrv snmedia snearly attconservative dage1ch disabil2\n",
       "1    2      2     2        2       1        1.36654460     -1      1       \n",
       "2    3      4     4        4       3       -2.38964933     -1      1       \n",
       "3    4      4     2        2       2       -0.75150431     -1      1       \n",
       "4    4      8     3        1       1                NA     28      1       \n",
       "5    8      8     4        8       1                NA     23      1       \n",
       "6    1      4     2        2       2        0.99449801     -1      1       \n",
       "7    2      2     3        1       1        1.79615332     -1      1       \n",
       "8    2      3     1        1       2        0.61900994     -1      3       \n",
       "9    2      3     3        3       2       -0.23222617     25      1       \n",
       "10   4      2     2        2       1        0.42734418     25      1       \n",
       "11   4      2     4        3       2       -0.72947381     17      3       \n",
       "12   2      3     4        2       2       -0.46751734     25      1       \n",
       "13   3      3     2        2       2       -0.07258490     -1      1       \n",
       "14   2      2     4        4       3       -1.24375767     24      3       \n",
       "15   4      4     4        1       1        0.75049672     17      1       \n",
       "16   1      8     1        2       2                NA     18      3       \n",
       "17   1      4     2        2       1        0.33585612     -1      1       \n",
       "18   2      3     1        3       2       -0.28074293     25      3       \n",
       "19   4      4     1        2       1        0.10377038     -1      1       \n",
       "20   1      3     2        2       1        0.96192570     -1      1       \n",
       "21   2      2     3        2       2        0.17406820     -1      1       \n",
       "22   2      4     5        3       1       -0.38677063     24      1       \n",
       "23   1      3     1        1       1        1.68021937     27      3       \n",
       "24   1      4     5        3       1       -0.58207031     23      3       \n",
       "25   1      4     2        2       2       -0.08715225     -1      1       \n",
       "26   4      4     4        2       2       -1.28833878     -1      1       \n",
       "27   2      2     3        2       2       -0.41128303     -1      1       \n",
       "28   1      3     1        1       1        1.92836889     18      3       \n",
       "29   2      4     5        1       4       -1.58954360     -1      2       \n",
       "30   1      4     4        1       1        0.91854975     19      2       \n",
       "...  ...    ...   ...      ...     ...     ...             ...     ...     \n",
       "3770 2      3     2        3       3       -0.22296822     -1      3       \n",
       "3771 3      3     8        3       3                NA     -1      1       \n",
       "3772 3      4     1        2       1       -0.09152930     -1      1       \n",
       "3773 4      3     2        2       2       -0.12543473     -1      1       \n",
       "3774 4      3     2        1       1       -0.09080243     19      1       \n",
       "3775 1      4     2        2       1        0.83215516     -1      1       \n",
       "3776 9      9     9        9       9                NA     99      1       \n",
       "3777 4      4     2        3       2       -1.70243155     26      1       \n",
       "3778 1      1     5        4       1                NA     -1      1       \n",
       "3779 2      4     4        3       2       -1.04241256     24      1       \n",
       "3780 3      3     8        3       3                NA     -1      1       \n",
       "3781 2      4     4        2       2       -0.92498607     -1      1       \n",
       "3782 3      4     2        3       1       -0.47262127     -1      2       \n",
       "3783 3      2     2        3       2       -0.22884170     32      1       \n",
       "3784 1      3     4        2       1        0.84184161     -1      3       \n",
       "3785 2      4     4        8       2                NA     -1      1       \n",
       "3786 3      4     1        2       1        0.74197144     -1      1       \n",
       "3787 3      3     3        3       2       -0.95947942     20      3       \n",
       "3788 2      2     2        2       2        0.35818500     -1      1       \n",
       "3789 3      3     3        3       2       -0.03692649     -1      1       \n",
       "3790 2      4     4        2       2                NA     -1      3       \n",
       "3791 1      2     4        2       2        0.79675330     23      1       \n",
       "3792 2      3     4        2       1        0.20364055     -1      1       \n",
       "3793 3      5     5        4       1       -2.18521813     -1      1       \n",
       "3794 3      2     4        1       1        0.55708508     28      2       \n",
       "3795 3      2     2        3       2        0.18790867     19      1       \n",
       "3796 2      4     1        3       2       -0.82726385     17      1       \n",
       "3797 1      3     3        3       3       -0.26518300     -1      1       \n",
       "3798 1      1     3        1       1        0.80807125     -1      1       \n",
       "3799 2      4     3        5       3       -2.34965785     25      3       \n",
       "     depscr religimp relstatr total_wt \n",
       "1     0     2         7       0.4605145\n",
       "2     0     4         2       1.9239441\n",
       "3     0     3         3       1.0208558\n",
       "4     1     1        NA       0.8074293\n",
       "5     0     1         1       1.0390816\n",
       "6    -1     1         7       0.5381795\n",
       "7     0     1         7       0.6600991\n",
       "8     0     3         3       0.2707254\n",
       "9     0     2         1       0.5255896\n",
       "10    0     2         5       0.6261719\n",
       "11    0     3         1       2.2711294\n",
       "12    0     4         3       0.2627948\n",
       "13    1     2         7       0.3553329\n",
       "14    1     3         5       1.5793088\n",
       "15    0     3         3       0.3294124\n",
       "16    1     2         2       0.6588249\n",
       "17    0     3         7       0.8336976\n",
       "18    0     3         7       0.5605258\n",
       "19    1     1         7       1.3666587\n",
       "20    0     3         7       0.4828903\n",
       "21    0     4         1       0.5944510\n",
       "22    0     4         2       1.2085095\n",
       "23    0     4         1       0.5883367\n",
       "24    0     4         1       2.3937372\n",
       "25    0     3         7       0.6838787\n",
       "26    0     4         7       0.3601234\n",
       "27    0     1         7       2.2808898\n",
       "28    1     1         1       2.0981660\n",
       "29    0     2         2       0.5094311\n",
       "30    0     4         4       0.6828188\n",
       "...  ...    ...      ...      ...      \n",
       "3770  1     4         7       0.5265444\n",
       "3771  0     3         7       0.9760806\n",
       "3772  0     1         2       0.9887621\n",
       "3773  0     4         3       0.3553329\n",
       "3774  1     4         1       0.6939590\n",
       "3775  0     1         7       0.5083501\n",
       "3776  9     9        NA       0.7418323\n",
       "3777  0     4         2       1.5279322\n",
       "3778  1     2         1       1.3606155\n",
       "3779  0     3         5       0.5992544\n",
       "3780  0     3         6       2.0948214\n",
       "3781  0     3         7       0.2941683\n",
       "3782  0     4         7       0.5883367\n",
       "3783  0     1         6       0.9325413\n",
       "3784  1     4         3       0.5874917\n",
       "3785 -1     1         7       0.9342192\n",
       "3786  0     4         7       0.3950788\n",
       "3787  1     3         3       0.6663694\n",
       "3788  0     2         7       0.8117174\n",
       "3789  0     1         3       0.8074293\n",
       "3790  0     3         2       1.2589507\n",
       "3791  1     1         3       0.8623893\n",
       "3792  0     2         7       0.6703258\n",
       "3793  0     4         2       0.5913510\n",
       "3794  0     2         3       0.8074293\n",
       "3795  0     2         1       0.4868764\n",
       "3796  1     3         6       0.3080621\n",
       "3797  0     2         7       0.4455148\n",
       "3798  1     4         6       0.5265444\n",
       "3799  1     4         5       0.6619873"
      ]
     },
     "metadata": {},
     "output_type": "display_data"
    }
   ],
   "source": [
    "natsal"
   ]
  },
  {
   "cell_type": "markdown",
   "id": "solid-jenny",
   "metadata": {},
   "source": [
    "Doing so returns some useful output:\n",
    "* A description of the dataset (`data.frame` containing 3799 observations and 20 variables).\n",
    "* A truncated list of the observations in the dataset - by default *R* and other languages do not display the full dataset."
   ]
  },
  {
   "cell_type": "code",
   "execution_count": 7,
   "id": "postal-apparel",
   "metadata": {},
   "outputs": [
    {
     "data": {
      "text/html": [
       "<table class=\"dataframe\">\n",
       "<caption>A data.frame: 6 × 20</caption>\n",
       "<thead>\n",
       "\t<tr><th></th><th scope=col>agrp</th><th scope=col>rsex</th><th scope=col>ethnicgrpr</th><th scope=col>sexidr</th><th scope=col>rnssecgp_6</th><th scope=col>adj_imd_quintile</th><th scope=col>rwcasual</th><th scope=col>snnolov</th><th scope=col>snpres</th><th scope=col>snold</th><th scope=col>snsexdrv</th><th scope=col>snmedia</th><th scope=col>snearly</th><th scope=col>attconservative</th><th scope=col>dage1ch</th><th scope=col>disabil2</th><th scope=col>depscr</th><th scope=col>religimp</th><th scope=col>relstatr</th><th scope=col>total_wt</th></tr>\n",
       "\t<tr><th></th><th scope=col>&lt;int&gt;</th><th scope=col>&lt;int&gt;</th><th scope=col>&lt;int&gt;</th><th scope=col>&lt;int&gt;</th><th scope=col>&lt;int&gt;</th><th scope=col>&lt;int&gt;</th><th scope=col>&lt;int&gt;</th><th scope=col>&lt;int&gt;</th><th scope=col>&lt;int&gt;</th><th scope=col>&lt;int&gt;</th><th scope=col>&lt;int&gt;</th><th scope=col>&lt;int&gt;</th><th scope=col>&lt;int&gt;</th><th scope=col>&lt;dbl&gt;</th><th scope=col>&lt;int&gt;</th><th scope=col>&lt;int&gt;</th><th scope=col>&lt;int&gt;</th><th scope=col>&lt;int&gt;</th><th scope=col>&lt;int&gt;</th><th scope=col>&lt;dbl&gt;</th></tr>\n",
       "</thead>\n",
       "<tbody>\n",
       "\t<tr><th scope=row>1</th><td>2</td><td>1</td><td>1</td><td>1</td><td>4</td><td>3</td><td>1</td><td>4</td><td>2</td><td>2</td><td>2</td><td>2</td><td>1</td><td> 1.3665446</td><td>-1</td><td>1</td><td> 0</td><td>2</td><td> 7</td><td>0.4605145</td></tr>\n",
       "\t<tr><th scope=row>2</th><td>3</td><td>2</td><td>1</td><td>1</td><td>5</td><td>3</td><td>5</td><td>2</td><td>3</td><td>4</td><td>4</td><td>4</td><td>3</td><td>-2.3896493</td><td>-1</td><td>1</td><td> 0</td><td>4</td><td> 2</td><td>1.9239441</td></tr>\n",
       "\t<tr><th scope=row>3</th><td>1</td><td>2</td><td>1</td><td>1</td><td>8</td><td>4</td><td>3</td><td>2</td><td>4</td><td>4</td><td>2</td><td>2</td><td>2</td><td>-0.7515043</td><td>-1</td><td>1</td><td> 0</td><td>3</td><td> 3</td><td>1.0208558</td></tr>\n",
       "\t<tr><th scope=row>4</th><td>4</td><td>2</td><td>2</td><td>2</td><td>5</td><td>5</td><td>1</td><td>5</td><td>4</td><td>8</td><td>3</td><td>1</td><td>1</td><td>        NA</td><td>28</td><td>1</td><td> 1</td><td>1</td><td>NA</td><td>0.8074293</td></tr>\n",
       "\t<tr><th scope=row>5</th><td>2</td><td>1</td><td>2</td><td>2</td><td>1</td><td>5</td><td>1</td><td>5</td><td>8</td><td>8</td><td>4</td><td>8</td><td>1</td><td>        NA</td><td>23</td><td>1</td><td> 0</td><td>1</td><td> 1</td><td>1.0390816</td></tr>\n",
       "\t<tr><th scope=row>6</th><td>1</td><td>2</td><td>2</td><td>1</td><td>8</td><td>4</td><td>1</td><td>5</td><td>1</td><td>4</td><td>2</td><td>2</td><td>2</td><td> 0.9944980</td><td>-1</td><td>1</td><td>-1</td><td>1</td><td> 7</td><td>0.5381795</td></tr>\n",
       "</tbody>\n",
       "</table>\n"
      ],
      "text/latex": [
       "A data.frame: 6 × 20\n",
       "\\begin{tabular}{r|llllllllllllllllllll}\n",
       "  & agrp & rsex & ethnicgrpr & sexidr & rnssecgp\\_6 & adj\\_imd\\_quintile & rwcasual & snnolov & snpres & snold & snsexdrv & snmedia & snearly & attconservative & dage1ch & disabil2 & depscr & religimp & relstatr & total\\_wt\\\\\n",
       "  & <int> & <int> & <int> & <int> & <int> & <int> & <int> & <int> & <int> & <int> & <int> & <int> & <int> & <dbl> & <int> & <int> & <int> & <int> & <int> & <dbl>\\\\\n",
       "\\hline\n",
       "\t1 & 2 & 1 & 1 & 1 & 4 & 3 & 1 & 4 & 2 & 2 & 2 & 2 & 1 &  1.3665446 & -1 & 1 &  0 & 2 &  7 & 0.4605145\\\\\n",
       "\t2 & 3 & 2 & 1 & 1 & 5 & 3 & 5 & 2 & 3 & 4 & 4 & 4 & 3 & -2.3896493 & -1 & 1 &  0 & 4 &  2 & 1.9239441\\\\\n",
       "\t3 & 1 & 2 & 1 & 1 & 8 & 4 & 3 & 2 & 4 & 4 & 2 & 2 & 2 & -0.7515043 & -1 & 1 &  0 & 3 &  3 & 1.0208558\\\\\n",
       "\t4 & 4 & 2 & 2 & 2 & 5 & 5 & 1 & 5 & 4 & 8 & 3 & 1 & 1 &         NA & 28 & 1 &  1 & 1 & NA & 0.8074293\\\\\n",
       "\t5 & 2 & 1 & 2 & 2 & 1 & 5 & 1 & 5 & 8 & 8 & 4 & 8 & 1 &         NA & 23 & 1 &  0 & 1 &  1 & 1.0390816\\\\\n",
       "\t6 & 1 & 2 & 2 & 1 & 8 & 4 & 1 & 5 & 1 & 4 & 2 & 2 & 2 &  0.9944980 & -1 & 1 & -1 & 1 &  7 & 0.5381795\\\\\n",
       "\\end{tabular}\n"
      ],
      "text/markdown": [
       "\n",
       "A data.frame: 6 × 20\n",
       "\n",
       "| <!--/--> | agrp &lt;int&gt; | rsex &lt;int&gt; | ethnicgrpr &lt;int&gt; | sexidr &lt;int&gt; | rnssecgp_6 &lt;int&gt; | adj_imd_quintile &lt;int&gt; | rwcasual &lt;int&gt; | snnolov &lt;int&gt; | snpres &lt;int&gt; | snold &lt;int&gt; | snsexdrv &lt;int&gt; | snmedia &lt;int&gt; | snearly &lt;int&gt; | attconservative &lt;dbl&gt; | dage1ch &lt;int&gt; | disabil2 &lt;int&gt; | depscr &lt;int&gt; | religimp &lt;int&gt; | relstatr &lt;int&gt; | total_wt &lt;dbl&gt; |\n",
       "|---|---|---|---|---|---|---|---|---|---|---|---|---|---|---|---|---|---|---|---|---|\n",
       "| 1 | 2 | 1 | 1 | 1 | 4 | 3 | 1 | 4 | 2 | 2 | 2 | 2 | 1 |  1.3665446 | -1 | 1 |  0 | 2 |  7 | 0.4605145 |\n",
       "| 2 | 3 | 2 | 1 | 1 | 5 | 3 | 5 | 2 | 3 | 4 | 4 | 4 | 3 | -2.3896493 | -1 | 1 |  0 | 4 |  2 | 1.9239441 |\n",
       "| 3 | 1 | 2 | 1 | 1 | 8 | 4 | 3 | 2 | 4 | 4 | 2 | 2 | 2 | -0.7515043 | -1 | 1 |  0 | 3 |  3 | 1.0208558 |\n",
       "| 4 | 4 | 2 | 2 | 2 | 5 | 5 | 1 | 5 | 4 | 8 | 3 | 1 | 1 |         NA | 28 | 1 |  1 | 1 | NA | 0.8074293 |\n",
       "| 5 | 2 | 1 | 2 | 2 | 1 | 5 | 1 | 5 | 8 | 8 | 4 | 8 | 1 |         NA | 23 | 1 |  0 | 1 |  1 | 1.0390816 |\n",
       "| 6 | 1 | 2 | 2 | 1 | 8 | 4 | 1 | 5 | 1 | 4 | 2 | 2 | 2 |  0.9944980 | -1 | 1 | -1 | 1 |  7 | 0.5381795 |\n",
       "\n"
      ],
      "text/plain": [
       "  agrp rsex ethnicgrpr sexidr rnssecgp_6 adj_imd_quintile rwcasual snnolov\n",
       "1 2    1    1          1      4          3                1        4      \n",
       "2 3    2    1          1      5          3                5        2      \n",
       "3 1    2    1          1      8          4                3        2      \n",
       "4 4    2    2          2      5          5                1        5      \n",
       "5 2    1    2          2      1          5                1        5      \n",
       "6 1    2    2          1      8          4                1        5      \n",
       "  snpres snold snsexdrv snmedia snearly attconservative dage1ch disabil2 depscr\n",
       "1 2      2     2        2       1        1.3665446      -1      1         0    \n",
       "2 3      4     4        4       3       -2.3896493      -1      1         0    \n",
       "3 4      4     2        2       2       -0.7515043      -1      1         0    \n",
       "4 4      8     3        1       1               NA      28      1         1    \n",
       "5 8      8     4        8       1               NA      23      1         0    \n",
       "6 1      4     2        2       2        0.9944980      -1      1        -1    \n",
       "  religimp relstatr total_wt \n",
       "1 2         7       0.4605145\n",
       "2 4         2       1.9239441\n",
       "3 3         3       1.0208558\n",
       "4 1        NA       0.8074293\n",
       "5 1         1       1.0390816\n",
       "6 1         7       0.5381795"
      ]
     },
     "metadata": {},
     "output_type": "display_data"
    }
   ],
   "source": [
    "head(natsal)"
   ]
  },
  {
   "cell_type": "code",
   "execution_count": 8,
   "id": "flexible-blues",
   "metadata": {},
   "outputs": [
    {
     "data": {
      "text/html": [
       "<table class=\"dataframe\">\n",
       "<caption>A data.frame: 6 × 20</caption>\n",
       "<thead>\n",
       "\t<tr><th></th><th scope=col>agrp</th><th scope=col>rsex</th><th scope=col>ethnicgrpr</th><th scope=col>sexidr</th><th scope=col>rnssecgp_6</th><th scope=col>adj_imd_quintile</th><th scope=col>rwcasual</th><th scope=col>snnolov</th><th scope=col>snpres</th><th scope=col>snold</th><th scope=col>snsexdrv</th><th scope=col>snmedia</th><th scope=col>snearly</th><th scope=col>attconservative</th><th scope=col>dage1ch</th><th scope=col>disabil2</th><th scope=col>depscr</th><th scope=col>religimp</th><th scope=col>relstatr</th><th scope=col>total_wt</th></tr>\n",
       "\t<tr><th></th><th scope=col>&lt;int&gt;</th><th scope=col>&lt;int&gt;</th><th scope=col>&lt;int&gt;</th><th scope=col>&lt;int&gt;</th><th scope=col>&lt;int&gt;</th><th scope=col>&lt;int&gt;</th><th scope=col>&lt;int&gt;</th><th scope=col>&lt;int&gt;</th><th scope=col>&lt;int&gt;</th><th scope=col>&lt;int&gt;</th><th scope=col>&lt;int&gt;</th><th scope=col>&lt;int&gt;</th><th scope=col>&lt;int&gt;</th><th scope=col>&lt;dbl&gt;</th><th scope=col>&lt;int&gt;</th><th scope=col>&lt;int&gt;</th><th scope=col>&lt;int&gt;</th><th scope=col>&lt;int&gt;</th><th scope=col>&lt;int&gt;</th><th scope=col>&lt;dbl&gt;</th></tr>\n",
       "</thead>\n",
       "<tbody>\n",
       "\t<tr><th scope=row>3794</th><td>4</td><td>2</td><td>2</td><td>1</td><td>1</td><td>3</td><td>3</td><td>3</td><td>3</td><td>2</td><td>4</td><td>1</td><td>1</td><td> 0.5570851</td><td>28</td><td>2</td><td>0</td><td>2</td><td>3</td><td>0.8074293</td></tr>\n",
       "\t<tr><th scope=row>3795</th><td>2</td><td>2</td><td>1</td><td>1</td><td>3</td><td>3</td><td>2</td><td>4</td><td>3</td><td>2</td><td>2</td><td>3</td><td>2</td><td> 0.1879087</td><td>19</td><td>1</td><td>0</td><td>2</td><td>1</td><td>0.4868764</td></tr>\n",
       "\t<tr><th scope=row>3796</th><td>1</td><td>2</td><td>1</td><td>1</td><td>6</td><td>5</td><td>5</td><td>2</td><td>2</td><td>4</td><td>1</td><td>3</td><td>2</td><td>-0.8272638</td><td>17</td><td>1</td><td>1</td><td>3</td><td>6</td><td>0.3080621</td></tr>\n",
       "\t<tr><th scope=row>3797</th><td>1</td><td>2</td><td>1</td><td>1</td><td>5</td><td>1</td><td>1</td><td>3</td><td>1</td><td>3</td><td>3</td><td>3</td><td>3</td><td>-0.2651830</td><td>-1</td><td>1</td><td>0</td><td>2</td><td>7</td><td>0.4455148</td></tr>\n",
       "\t<tr><th scope=row>3798</th><td>2</td><td>1</td><td>1</td><td>1</td><td>1</td><td>1</td><td>5</td><td>2</td><td>1</td><td>1</td><td>3</td><td>1</td><td>1</td><td> 0.8080713</td><td>-1</td><td>1</td><td>1</td><td>4</td><td>6</td><td>0.5265444</td></tr>\n",
       "\t<tr><th scope=row>3799</th><td>6</td><td>1</td><td>1</td><td>1</td><td>5</td><td>5</td><td>5</td><td>2</td><td>2</td><td>4</td><td>3</td><td>5</td><td>3</td><td>-2.3496579</td><td>25</td><td>3</td><td>1</td><td>4</td><td>5</td><td>0.6619873</td></tr>\n",
       "</tbody>\n",
       "</table>\n"
      ],
      "text/latex": [
       "A data.frame: 6 × 20\n",
       "\\begin{tabular}{r|llllllllllllllllllll}\n",
       "  & agrp & rsex & ethnicgrpr & sexidr & rnssecgp\\_6 & adj\\_imd\\_quintile & rwcasual & snnolov & snpres & snold & snsexdrv & snmedia & snearly & attconservative & dage1ch & disabil2 & depscr & religimp & relstatr & total\\_wt\\\\\n",
       "  & <int> & <int> & <int> & <int> & <int> & <int> & <int> & <int> & <int> & <int> & <int> & <int> & <int> & <dbl> & <int> & <int> & <int> & <int> & <int> & <dbl>\\\\\n",
       "\\hline\n",
       "\t3794 & 4 & 2 & 2 & 1 & 1 & 3 & 3 & 3 & 3 & 2 & 4 & 1 & 1 &  0.5570851 & 28 & 2 & 0 & 2 & 3 & 0.8074293\\\\\n",
       "\t3795 & 2 & 2 & 1 & 1 & 3 & 3 & 2 & 4 & 3 & 2 & 2 & 3 & 2 &  0.1879087 & 19 & 1 & 0 & 2 & 1 & 0.4868764\\\\\n",
       "\t3796 & 1 & 2 & 1 & 1 & 6 & 5 & 5 & 2 & 2 & 4 & 1 & 3 & 2 & -0.8272638 & 17 & 1 & 1 & 3 & 6 & 0.3080621\\\\\n",
       "\t3797 & 1 & 2 & 1 & 1 & 5 & 1 & 1 & 3 & 1 & 3 & 3 & 3 & 3 & -0.2651830 & -1 & 1 & 0 & 2 & 7 & 0.4455148\\\\\n",
       "\t3798 & 2 & 1 & 1 & 1 & 1 & 1 & 5 & 2 & 1 & 1 & 3 & 1 & 1 &  0.8080713 & -1 & 1 & 1 & 4 & 6 & 0.5265444\\\\\n",
       "\t3799 & 6 & 1 & 1 & 1 & 5 & 5 & 5 & 2 & 2 & 4 & 3 & 5 & 3 & -2.3496579 & 25 & 3 & 1 & 4 & 5 & 0.6619873\\\\\n",
       "\\end{tabular}\n"
      ],
      "text/markdown": [
       "\n",
       "A data.frame: 6 × 20\n",
       "\n",
       "| <!--/--> | agrp &lt;int&gt; | rsex &lt;int&gt; | ethnicgrpr &lt;int&gt; | sexidr &lt;int&gt; | rnssecgp_6 &lt;int&gt; | adj_imd_quintile &lt;int&gt; | rwcasual &lt;int&gt; | snnolov &lt;int&gt; | snpres &lt;int&gt; | snold &lt;int&gt; | snsexdrv &lt;int&gt; | snmedia &lt;int&gt; | snearly &lt;int&gt; | attconservative &lt;dbl&gt; | dage1ch &lt;int&gt; | disabil2 &lt;int&gt; | depscr &lt;int&gt; | religimp &lt;int&gt; | relstatr &lt;int&gt; | total_wt &lt;dbl&gt; |\n",
       "|---|---|---|---|---|---|---|---|---|---|---|---|---|---|---|---|---|---|---|---|---|\n",
       "| 3794 | 4 | 2 | 2 | 1 | 1 | 3 | 3 | 3 | 3 | 2 | 4 | 1 | 1 |  0.5570851 | 28 | 2 | 0 | 2 | 3 | 0.8074293 |\n",
       "| 3795 | 2 | 2 | 1 | 1 | 3 | 3 | 2 | 4 | 3 | 2 | 2 | 3 | 2 |  0.1879087 | 19 | 1 | 0 | 2 | 1 | 0.4868764 |\n",
       "| 3796 | 1 | 2 | 1 | 1 | 6 | 5 | 5 | 2 | 2 | 4 | 1 | 3 | 2 | -0.8272638 | 17 | 1 | 1 | 3 | 6 | 0.3080621 |\n",
       "| 3797 | 1 | 2 | 1 | 1 | 5 | 1 | 1 | 3 | 1 | 3 | 3 | 3 | 3 | -0.2651830 | -1 | 1 | 0 | 2 | 7 | 0.4455148 |\n",
       "| 3798 | 2 | 1 | 1 | 1 | 1 | 1 | 5 | 2 | 1 | 1 | 3 | 1 | 1 |  0.8080713 | -1 | 1 | 1 | 4 | 6 | 0.5265444 |\n",
       "| 3799 | 6 | 1 | 1 | 1 | 5 | 5 | 5 | 2 | 2 | 4 | 3 | 5 | 3 | -2.3496579 | 25 | 3 | 1 | 4 | 5 | 0.6619873 |\n",
       "\n"
      ],
      "text/plain": [
       "     agrp rsex ethnicgrpr sexidr rnssecgp_6 adj_imd_quintile rwcasual snnolov\n",
       "3794 4    2    2          1      1          3                3        3      \n",
       "3795 2    2    1          1      3          3                2        4      \n",
       "3796 1    2    1          1      6          5                5        2      \n",
       "3797 1    2    1          1      5          1                1        3      \n",
       "3798 2    1    1          1      1          1                5        2      \n",
       "3799 6    1    1          1      5          5                5        2      \n",
       "     snpres snold snsexdrv snmedia snearly attconservative dage1ch disabil2\n",
       "3794 3      2     4        1       1        0.5570851      28      2       \n",
       "3795 3      2     2        3       2        0.1879087      19      1       \n",
       "3796 2      4     1        3       2       -0.8272638      17      1       \n",
       "3797 1      3     3        3       3       -0.2651830      -1      1       \n",
       "3798 1      1     3        1       1        0.8080713      -1      1       \n",
       "3799 2      4     3        5       3       -2.3496579      25      3       \n",
       "     depscr religimp relstatr total_wt \n",
       "3794 0      2        3        0.8074293\n",
       "3795 0      2        1        0.4868764\n",
       "3796 1      3        6        0.3080621\n",
       "3797 0      2        7        0.4455148\n",
       "3798 1      4        6        0.5265444\n",
       "3799 1      4        5        0.6619873"
      ]
     },
     "metadata": {},
     "output_type": "display_data"
    }
   ],
   "source": [
    "tail(natsal)"
   ]
  },
  {
   "cell_type": "markdown",
   "id": "confidential-negative",
   "metadata": {},
   "source": [
    "**QUESTION:** What do you think the `head()` and `tail()` commands do?"
   ]
  },
  {
   "cell_type": "markdown",
   "id": "sexual-gates",
   "metadata": {},
   "source": [
    "We can view a list of all of the variables in the dataset:"
   ]
  },
  {
   "cell_type": "code",
   "execution_count": 9,
   "id": "wrapped-final",
   "metadata": {},
   "outputs": [
    {
     "data": {
      "text/html": [
       "<style>\n",
       ".list-inline {list-style: none; margin:0; padding: 0}\n",
       ".list-inline>li {display: inline-block}\n",
       ".list-inline>li:not(:last-child)::after {content: \"\\00b7\"; padding: 0 .5ex}\n",
       "</style>\n",
       "<ol class=list-inline><li>'agrp'</li><li>'rsex'</li><li>'ethnicgrpr'</li><li>'sexidr'</li><li>'rnssecgp_6'</li><li>'adj_imd_quintile'</li><li>'rwcasual'</li><li>'snnolov'</li><li>'snpres'</li><li>'snold'</li><li>'snsexdrv'</li><li>'snmedia'</li><li>'snearly'</li><li>'attconservative'</li><li>'dage1ch'</li><li>'disabil2'</li><li>'depscr'</li><li>'religimp'</li><li>'relstatr'</li><li>'total_wt'</li></ol>\n"
      ],
      "text/latex": [
       "\\begin{enumerate*}\n",
       "\\item 'agrp'\n",
       "\\item 'rsex'\n",
       "\\item 'ethnicgrpr'\n",
       "\\item 'sexidr'\n",
       "\\item 'rnssecgp\\_6'\n",
       "\\item 'adj\\_imd\\_quintile'\n",
       "\\item 'rwcasual'\n",
       "\\item 'snnolov'\n",
       "\\item 'snpres'\n",
       "\\item 'snold'\n",
       "\\item 'snsexdrv'\n",
       "\\item 'snmedia'\n",
       "\\item 'snearly'\n",
       "\\item 'attconservative'\n",
       "\\item 'dage1ch'\n",
       "\\item 'disabil2'\n",
       "\\item 'depscr'\n",
       "\\item 'religimp'\n",
       "\\item 'relstatr'\n",
       "\\item 'total\\_wt'\n",
       "\\end{enumerate*}\n"
      ],
      "text/markdown": [
       "1. 'agrp'\n",
       "2. 'rsex'\n",
       "3. 'ethnicgrpr'\n",
       "4. 'sexidr'\n",
       "5. 'rnssecgp_6'\n",
       "6. 'adj_imd_quintile'\n",
       "7. 'rwcasual'\n",
       "8. 'snnolov'\n",
       "9. 'snpres'\n",
       "10. 'snold'\n",
       "11. 'snsexdrv'\n",
       "12. 'snmedia'\n",
       "13. 'snearly'\n",
       "14. 'attconservative'\n",
       "15. 'dage1ch'\n",
       "16. 'disabil2'\n",
       "17. 'depscr'\n",
       "18. 'religimp'\n",
       "19. 'relstatr'\n",
       "20. 'total_wt'\n",
       "\n",
       "\n"
      ],
      "text/plain": [
       " [1] \"agrp\"             \"rsex\"             \"ethnicgrpr\"       \"sexidr\"          \n",
       " [5] \"rnssecgp_6\"       \"adj_imd_quintile\" \"rwcasual\"         \"snnolov\"         \n",
       " [9] \"snpres\"           \"snold\"            \"snsexdrv\"         \"snmedia\"         \n",
       "[13] \"snearly\"          \"attconservative\"  \"dage1ch\"          \"disabil2\"        \n",
       "[17] \"depscr\"           \"religimp\"         \"relstatr\"         \"total_wt\"        "
      ]
     },
     "metadata": {},
     "output_type": "display_data"
    }
   ],
   "source": [
    "names(natsal)"
   ]
  },
  {
   "cell_type": "markdown",
   "id": "broken-coupon",
   "metadata": {},
   "source": [
    "And get a sense of each variable's contents like so:"
   ]
  },
  {
   "cell_type": "code",
   "execution_count": 10,
   "id": "breathing-liberal",
   "metadata": {},
   "outputs": [
    {
     "name": "stdout",
     "output_type": "stream",
     "text": [
      "'data.frame':\t3799 obs. of  20 variables:\n",
      " $ agrp            : int  2 3 1 4 2 1 2 1 2 3 ...\n",
      " $ rsex            : int  1 2 2 2 1 2 2 2 2 2 ...\n",
      " $ ethnicgrpr      : int  1 1 1 2 2 2 2 1 1 1 ...\n",
      " $ sexidr          : int  1 1 1 2 2 1 1 1 1 1 ...\n",
      " $ rnssecgp_6      : int  4 5 8 5 1 8 4 5 2 5 ...\n",
      " $ adj_imd_quintile: int  3 3 4 5 5 4 5 5 5 3 ...\n",
      " $ rwcasual        : int  1 5 3 1 1 1 1 2 2 1 ...\n",
      " $ snnolov         : int  4 2 2 5 5 5 5 2 3 2 ...\n",
      " $ snpres          : int  2 3 4 4 8 1 2 2 2 4 ...\n",
      " $ snold           : int  2 4 4 8 8 4 2 3 3 2 ...\n",
      " $ snsexdrv        : int  2 4 2 3 4 2 3 1 3 2 ...\n",
      " $ snmedia         : int  2 4 2 1 8 2 1 1 3 2 ...\n",
      " $ snearly         : int  1 3 2 1 1 2 1 2 2 1 ...\n",
      " $ attconservative : num  1.367 -2.39 -0.752 NA NA ...\n",
      " $ dage1ch         : int  -1 -1 -1 28 23 -1 -1 -1 25 25 ...\n",
      " $ disabil2        : int  1 1 1 1 1 1 1 3 1 1 ...\n",
      " $ depscr          : int  0 0 0 1 0 -1 0 0 0 0 ...\n",
      " $ religimp        : int  2 4 3 1 1 1 1 3 2 2 ...\n",
      " $ relstatr        : int  7 2 3 NA 1 7 7 3 1 5 ...\n",
      " $ total_wt        : num  0.461 1.924 1.021 0.807 1.039 ...\n"
     ]
    }
   ],
   "source": [
    "str(natsal)"
   ]
  },
  {
   "cell_type": "markdown",
   "id": "supposed-generation",
   "metadata": {},
   "source": [
    "We can see that each variable contains numeric values, however this does not mean there are no categorical variables in the dataset. Slightly confusing, I know: but remember that all quantitative data must be represented numerically, otherwise we have no way of counting or performing calculations. Therefore we need to know what the numbers **represent**. Let's do this using some obvious examples:\n",
    "* `rsex` is a binary measure of whether a respondent is male or female. As is common in quantitative social science, the male category is coded \"1\" and the female category \"2\". Therefore this is a categorical variable, specifically a nominal variable.\n",
    "* `agrp` is measure of which age group a respondent belongs to e.g., 16-24, 25-34. The youngest age group is coded \"1\" and subsequent groups are coded sequentially. Therefore this is a categorical variable, specifically an ordinal variable.\n",
    "* `attconservative` is a measure of how conservative a respondent's attitudes to sex are: higher scores indicate more conservative attitudes. Therefore this is a numeric variable, specifically an interval variable.\n",
    "\n",
    "How do we know what the numeric values represent? Helpfully, the UK Data Service has provided a description of each variable and its contents (known as a *codebook*): [Natsal Open Data Codebook](./codebook/8786_natsal_open_codebook_feb21.pdf)"
   ]
  },
  {
   "cell_type": "markdown",
   "id": "lucky-simon",
   "metadata": {},
   "source": [
    "#### Summarising variables"
   ]
  },
  {
   "cell_type": "markdown",
   "id": "handled-liverpool",
   "metadata": {},
   "source": [
    "Once we have an understanding of the data at a macro level (i.e., number of observations and variables, variable names and types), we can start to explore specific variables in more detail. Let's do this for three variables relevant to our research question:\n",
    "* `rsex`\n",
    "* `agrp`\n",
    "* `attconservative`"
   ]
  },
  {
   "cell_type": "code",
   "execution_count": 11,
   "id": "ongoing-sewing",
   "metadata": {},
   "outputs": [
    {
     "data": {
      "text/plain": [
       "   Min. 1st Qu.  Median    Mean 3rd Qu.    Max. \n",
       "  1.000   1.000   2.000   1.596   2.000   2.000 "
      ]
     },
     "metadata": {},
     "output_type": "display_data"
    }
   ],
   "source": [
    "summary(natsal$rsex)"
   ]
  },
  {
   "cell_type": "code",
   "execution_count": 12,
   "id": "constant-cookie",
   "metadata": {},
   "outputs": [
    {
     "data": {
      "text/plain": [
       "   Min. 1st Qu.  Median    Mean 3rd Qu.    Max. \n",
       "  1.000   1.000   2.000   2.869   4.000   6.000 "
      ]
     },
     "metadata": {},
     "output_type": "display_data"
    }
   ],
   "source": [
    "summary(natsal$agrp)"
   ]
  },
  {
   "cell_type": "code",
   "execution_count": 13,
   "id": "treated-answer",
   "metadata": {},
   "outputs": [
    {
     "data": {
      "text/plain": [
       "    Min.  1st Qu.   Median     Mean  3rd Qu.     Max.     NA's \n",
       "-3.88938 -0.67900 -0.02177 -0.01728  0.71396  2.59516      299 "
      ]
     },
     "metadata": {},
     "output_type": "display_data"
    }
   ],
   "source": [
    "summary(natsal$attconservative)"
   ]
  },
  {
   "cell_type": "markdown",
   "id": "downtown-authority",
   "metadata": {},
   "source": [
    "The `summary()` command produces a range of summary statistics for numeric variables, including the mean, median and some measures of the range of values (e.g., minimum and maximum). Note how we refer to the variables by listing the dataset first (`natsal$rsex`). This is because we may have multiple datasets loaded in to R at one time and there may be variables in different datasets with the same name.\n",
    "\n",
    "As we learned earlier however, some of our variables are categorical and thus are not well described using these summary statistics: for example, what does it mean to say a respondent's average sex is 1.596? We know this is a binary measure of whether somebody is male or female and thus it would be better to know how many respondents fall into each category.\n",
    "\n",
    "In Week 9 we will learn how to select and apply the correct summary statistics."
   ]
  },
  {
   "cell_type": "markdown",
   "id": "posted-impact",
   "metadata": {},
   "source": [
    "**TASK:** Produce a summary of the `ethnicgrpr` (ethnic group) and `dage1ch` (age at having first child) variables. Can you learn anything useful about the values of these variables using the `summary()` command? Consult the codebook if you need help understanding the values of these variables.\n",
    "\n",
    "Use the cell below to insert your code."
   ]
  },
  {
   "cell_type": "code",
   "execution_count": 14,
   "id": "underlying-monitor",
   "metadata": {},
   "outputs": [],
   "source": [
    "# INSERT CODE HERE"
   ]
  },
  {
   "cell_type": "markdown",
   "id": "indian-constitution",
   "metadata": {},
   "source": [
    "## Analysing Data"
   ]
  },
  {
   "cell_type": "markdown",
   "id": "covered-assistant",
   "metadata": {},
   "source": [
    "In weeks 9-12 we will learn how to conduct a range of insightful, accurate analyses of the *Natsal* dataset. To whet your appetite, here is a mini-analysis of the following research question:\n",
    "\n",
    "<p><center><i>Is a person's attitude towards sex associated with the age at which they have their first child?</i></center></p>"
   ]
  },
  {
   "cell_type": "markdown",
   "id": "interesting-tiffany",
   "metadata": {},
   "source": [
    "### Import the data"
   ]
  },
  {
   "cell_type": "code",
   "execution_count": 15,
   "id": "shared-painting",
   "metadata": {},
   "outputs": [],
   "source": [
    "natsal <- read.table(\"./data/natsal_3_teaching_open.tab\", header=TRUE, na=\"NA\", sep=\"\\t\")"
   ]
  },
  {
   "cell_type": "markdown",
   "id": "interracial-belfast",
   "metadata": {},
   "source": [
    "### View the data"
   ]
  },
  {
   "cell_type": "code",
   "execution_count": 16,
   "id": "incoming-elite",
   "metadata": {},
   "outputs": [
    {
     "data": {
      "text/html": [
       "<table class=\"dataframe\">\n",
       "<caption>A data.frame: 6 × 20</caption>\n",
       "<thead>\n",
       "\t<tr><th></th><th scope=col>agrp</th><th scope=col>rsex</th><th scope=col>ethnicgrpr</th><th scope=col>sexidr</th><th scope=col>rnssecgp_6</th><th scope=col>adj_imd_quintile</th><th scope=col>rwcasual</th><th scope=col>snnolov</th><th scope=col>snpres</th><th scope=col>snold</th><th scope=col>snsexdrv</th><th scope=col>snmedia</th><th scope=col>snearly</th><th scope=col>attconservative</th><th scope=col>dage1ch</th><th scope=col>disabil2</th><th scope=col>depscr</th><th scope=col>religimp</th><th scope=col>relstatr</th><th scope=col>total_wt</th></tr>\n",
       "\t<tr><th></th><th scope=col>&lt;int&gt;</th><th scope=col>&lt;int&gt;</th><th scope=col>&lt;int&gt;</th><th scope=col>&lt;int&gt;</th><th scope=col>&lt;int&gt;</th><th scope=col>&lt;int&gt;</th><th scope=col>&lt;int&gt;</th><th scope=col>&lt;int&gt;</th><th scope=col>&lt;int&gt;</th><th scope=col>&lt;int&gt;</th><th scope=col>&lt;int&gt;</th><th scope=col>&lt;int&gt;</th><th scope=col>&lt;int&gt;</th><th scope=col>&lt;dbl&gt;</th><th scope=col>&lt;int&gt;</th><th scope=col>&lt;int&gt;</th><th scope=col>&lt;int&gt;</th><th scope=col>&lt;int&gt;</th><th scope=col>&lt;int&gt;</th><th scope=col>&lt;dbl&gt;</th></tr>\n",
       "</thead>\n",
       "<tbody>\n",
       "\t<tr><th scope=row>1</th><td>2</td><td>1</td><td>1</td><td>1</td><td>4</td><td>3</td><td>1</td><td>4</td><td>2</td><td>2</td><td>2</td><td>2</td><td>1</td><td> 1.3665446</td><td>-1</td><td>1</td><td> 0</td><td>2</td><td> 7</td><td>0.4605145</td></tr>\n",
       "\t<tr><th scope=row>2</th><td>3</td><td>2</td><td>1</td><td>1</td><td>5</td><td>3</td><td>5</td><td>2</td><td>3</td><td>4</td><td>4</td><td>4</td><td>3</td><td>-2.3896493</td><td>-1</td><td>1</td><td> 0</td><td>4</td><td> 2</td><td>1.9239441</td></tr>\n",
       "\t<tr><th scope=row>3</th><td>1</td><td>2</td><td>1</td><td>1</td><td>8</td><td>4</td><td>3</td><td>2</td><td>4</td><td>4</td><td>2</td><td>2</td><td>2</td><td>-0.7515043</td><td>-1</td><td>1</td><td> 0</td><td>3</td><td> 3</td><td>1.0208558</td></tr>\n",
       "\t<tr><th scope=row>4</th><td>4</td><td>2</td><td>2</td><td>2</td><td>5</td><td>5</td><td>1</td><td>5</td><td>4</td><td>8</td><td>3</td><td>1</td><td>1</td><td>        NA</td><td>28</td><td>1</td><td> 1</td><td>1</td><td>NA</td><td>0.8074293</td></tr>\n",
       "\t<tr><th scope=row>5</th><td>2</td><td>1</td><td>2</td><td>2</td><td>1</td><td>5</td><td>1</td><td>5</td><td>8</td><td>8</td><td>4</td><td>8</td><td>1</td><td>        NA</td><td>23</td><td>1</td><td> 0</td><td>1</td><td> 1</td><td>1.0390816</td></tr>\n",
       "\t<tr><th scope=row>6</th><td>1</td><td>2</td><td>2</td><td>1</td><td>8</td><td>4</td><td>1</td><td>5</td><td>1</td><td>4</td><td>2</td><td>2</td><td>2</td><td> 0.9944980</td><td>-1</td><td>1</td><td>-1</td><td>1</td><td> 7</td><td>0.5381795</td></tr>\n",
       "</tbody>\n",
       "</table>\n"
      ],
      "text/latex": [
       "A data.frame: 6 × 20\n",
       "\\begin{tabular}{r|llllllllllllllllllll}\n",
       "  & agrp & rsex & ethnicgrpr & sexidr & rnssecgp\\_6 & adj\\_imd\\_quintile & rwcasual & snnolov & snpres & snold & snsexdrv & snmedia & snearly & attconservative & dage1ch & disabil2 & depscr & religimp & relstatr & total\\_wt\\\\\n",
       "  & <int> & <int> & <int> & <int> & <int> & <int> & <int> & <int> & <int> & <int> & <int> & <int> & <int> & <dbl> & <int> & <int> & <int> & <int> & <int> & <dbl>\\\\\n",
       "\\hline\n",
       "\t1 & 2 & 1 & 1 & 1 & 4 & 3 & 1 & 4 & 2 & 2 & 2 & 2 & 1 &  1.3665446 & -1 & 1 &  0 & 2 &  7 & 0.4605145\\\\\n",
       "\t2 & 3 & 2 & 1 & 1 & 5 & 3 & 5 & 2 & 3 & 4 & 4 & 4 & 3 & -2.3896493 & -1 & 1 &  0 & 4 &  2 & 1.9239441\\\\\n",
       "\t3 & 1 & 2 & 1 & 1 & 8 & 4 & 3 & 2 & 4 & 4 & 2 & 2 & 2 & -0.7515043 & -1 & 1 &  0 & 3 &  3 & 1.0208558\\\\\n",
       "\t4 & 4 & 2 & 2 & 2 & 5 & 5 & 1 & 5 & 4 & 8 & 3 & 1 & 1 &         NA & 28 & 1 &  1 & 1 & NA & 0.8074293\\\\\n",
       "\t5 & 2 & 1 & 2 & 2 & 1 & 5 & 1 & 5 & 8 & 8 & 4 & 8 & 1 &         NA & 23 & 1 &  0 & 1 &  1 & 1.0390816\\\\\n",
       "\t6 & 1 & 2 & 2 & 1 & 8 & 4 & 1 & 5 & 1 & 4 & 2 & 2 & 2 &  0.9944980 & -1 & 1 & -1 & 1 &  7 & 0.5381795\\\\\n",
       "\\end{tabular}\n"
      ],
      "text/markdown": [
       "\n",
       "A data.frame: 6 × 20\n",
       "\n",
       "| <!--/--> | agrp &lt;int&gt; | rsex &lt;int&gt; | ethnicgrpr &lt;int&gt; | sexidr &lt;int&gt; | rnssecgp_6 &lt;int&gt; | adj_imd_quintile &lt;int&gt; | rwcasual &lt;int&gt; | snnolov &lt;int&gt; | snpres &lt;int&gt; | snold &lt;int&gt; | snsexdrv &lt;int&gt; | snmedia &lt;int&gt; | snearly &lt;int&gt; | attconservative &lt;dbl&gt; | dage1ch &lt;int&gt; | disabil2 &lt;int&gt; | depscr &lt;int&gt; | religimp &lt;int&gt; | relstatr &lt;int&gt; | total_wt &lt;dbl&gt; |\n",
       "|---|---|---|---|---|---|---|---|---|---|---|---|---|---|---|---|---|---|---|---|---|\n",
       "| 1 | 2 | 1 | 1 | 1 | 4 | 3 | 1 | 4 | 2 | 2 | 2 | 2 | 1 |  1.3665446 | -1 | 1 |  0 | 2 |  7 | 0.4605145 |\n",
       "| 2 | 3 | 2 | 1 | 1 | 5 | 3 | 5 | 2 | 3 | 4 | 4 | 4 | 3 | -2.3896493 | -1 | 1 |  0 | 4 |  2 | 1.9239441 |\n",
       "| 3 | 1 | 2 | 1 | 1 | 8 | 4 | 3 | 2 | 4 | 4 | 2 | 2 | 2 | -0.7515043 | -1 | 1 |  0 | 3 |  3 | 1.0208558 |\n",
       "| 4 | 4 | 2 | 2 | 2 | 5 | 5 | 1 | 5 | 4 | 8 | 3 | 1 | 1 |         NA | 28 | 1 |  1 | 1 | NA | 0.8074293 |\n",
       "| 5 | 2 | 1 | 2 | 2 | 1 | 5 | 1 | 5 | 8 | 8 | 4 | 8 | 1 |         NA | 23 | 1 |  0 | 1 |  1 | 1.0390816 |\n",
       "| 6 | 1 | 2 | 2 | 1 | 8 | 4 | 1 | 5 | 1 | 4 | 2 | 2 | 2 |  0.9944980 | -1 | 1 | -1 | 1 |  7 | 0.5381795 |\n",
       "\n"
      ],
      "text/plain": [
       "  agrp rsex ethnicgrpr sexidr rnssecgp_6 adj_imd_quintile rwcasual snnolov\n",
       "1 2    1    1          1      4          3                1        4      \n",
       "2 3    2    1          1      5          3                5        2      \n",
       "3 1    2    1          1      8          4                3        2      \n",
       "4 4    2    2          2      5          5                1        5      \n",
       "5 2    1    2          2      1          5                1        5      \n",
       "6 1    2    2          1      8          4                1        5      \n",
       "  snpres snold snsexdrv snmedia snearly attconservative dage1ch disabil2 depscr\n",
       "1 2      2     2        2       1        1.3665446      -1      1         0    \n",
       "2 3      4     4        4       3       -2.3896493      -1      1         0    \n",
       "3 4      4     2        2       2       -0.7515043      -1      1         0    \n",
       "4 4      8     3        1       1               NA      28      1         1    \n",
       "5 8      8     4        8       1               NA      23      1         0    \n",
       "6 1      4     2        2       2        0.9944980      -1      1        -1    \n",
       "  religimp relstatr total_wt \n",
       "1 2         7       0.4605145\n",
       "2 4         2       1.9239441\n",
       "3 3         3       1.0208558\n",
       "4 1        NA       0.8074293\n",
       "5 1         1       1.0390816\n",
       "6 1         7       0.5381795"
      ]
     },
     "metadata": {},
     "output_type": "display_data"
    }
   ],
   "source": [
    "head(natsal)"
   ]
  },
  {
   "cell_type": "markdown",
   "id": "naval-delivery",
   "metadata": {},
   "source": [
    "### Data cleaning"
   ]
  },
  {
   "cell_type": "markdown",
   "id": "comparative-architecture",
   "metadata": {},
   "source": [
    "As per our research question, we are only interested in respondents who have had at least one child. Therefore we need to drop observations for whom we do not have information on their age at birth of first child. "
   ]
  },
  {
   "cell_type": "code",
   "execution_count": 17,
   "id": "suspected-costume",
   "metadata": {},
   "outputs": [
    {
     "data": {
      "text/plain": [
       "   Min. 1st Qu.  Median    Mean 3rd Qu.    Max. \n",
       "   -1.0    -1.0    18.0    15.2    25.0    99.0 "
      ]
     },
     "metadata": {},
     "output_type": "display_data"
    }
   ],
   "source": [
    "summary(natsal$dage1ch)"
   ]
  },
  {
   "cell_type": "markdown",
   "id": "current-citation",
   "metadata": {},
   "source": [
    "Having consulted the codebook, we know that the value \"-1\" indicates that that this question was not relevant to a respondent, and \"99\" that a respondent did not answer the question even though it was relevant. Therefore let's drop observations where `dage1ch` equals \"-1\" or \"99\"."
   ]
  },
  {
   "cell_type": "code",
   "execution_count": 18,
   "id": "neural-sunrise",
   "metadata": {},
   "outputs": [],
   "source": [
    "natsal_analysis <- subset(natsal, dage1ch > -1 & dage1ch < 99)"
   ]
  },
  {
   "cell_type": "code",
   "execution_count": 19,
   "id": "greatest-norwegian",
   "metadata": {},
   "outputs": [
    {
     "data": {
      "text/html": [
       "1925"
      ],
      "text/latex": [
       "1925"
      ],
      "text/markdown": [
       "1925"
      ],
      "text/plain": [
       "[1] 1925"
      ]
     },
     "metadata": {},
     "output_type": "display_data"
    }
   ],
   "source": [
    "nrow(natsal_analysis)"
   ]
  },
  {
   "cell_type": "code",
   "execution_count": 20,
   "id": "closed-ecuador",
   "metadata": {},
   "outputs": [
    {
     "data": {
      "text/html": [
       "3799"
      ],
      "text/latex": [
       "3799"
      ],
      "text/markdown": [
       "3799"
      ],
      "text/plain": [
       "[1] 3799"
      ]
     },
     "metadata": {},
     "output_type": "display_data"
    }
   ],
   "source": [
    "nrow(natsal)"
   ]
  },
  {
   "cell_type": "markdown",
   "id": "unexpected-tutorial",
   "metadata": {},
   "source": [
    "Note how we created a new dataset after we dropped the observations (`natsal_analysis`). It is always good practice to leave the original / raw dataset unaltered.\n",
    "\n",
    "Great, now we can continue with the analysis."
   ]
  },
  {
   "cell_type": "markdown",
   "id": "built-number",
   "metadata": {},
   "source": [
    "### Univariate analysis"
   ]
  },
  {
   "cell_type": "markdown",
   "id": "classified-capacity",
   "metadata": {},
   "source": [
    "Every analysis begins with a summary of individual variables."
   ]
  },
  {
   "cell_type": "code",
   "execution_count": 21,
   "id": "essential-software",
   "metadata": {},
   "outputs": [
    {
     "data": {
      "text/plain": [
       "   Min. 1st Qu.  Median    Mean 3rd Qu.    Max. \n",
       "  15.00   21.00   24.00   24.84   28.00   40.00 "
      ]
     },
     "metadata": {},
     "output_type": "display_data"
    },
    {
     "data": {
      "image/png": "[encoded data removed]",
      "text/plain": [
       "Plot with title \"Histogram of natsal_analysis$dage1ch\""
      ]
     },
     "metadata": {
      "image/png": {
       "height": 420,
       "width": 420
      }
     },
     "output_type": "display_data"
    }
   ],
   "source": [
    "summary(natsal_analysis$dage1ch)\n",
    "hist(natsal_analysis$dage1ch)"
   ]
  },
  {
   "cell_type": "markdown",
   "id": "ranging-holiday",
   "metadata": {},
   "source": [
    "We see that the average age at birth of first child is 24 years old, and that some respondents have their first child relatively young (15) or old (40), though most are between 18 and 26 according to the histogram."
   ]
  },
  {
   "cell_type": "code",
   "execution_count": 22,
   "id": "interested-remove",
   "metadata": {},
   "outputs": [
    {
     "data": {
      "text/plain": [
       "   Min. 1st Qu.  Median    Mean 3rd Qu.    Max.    NA's \n",
       "-3.8894 -0.5274  0.1222  0.1209  0.8702  2.5952     142 "
      ]
     },
     "metadata": {},
     "output_type": "display_data"
    },
    {
     "data": {
      "image/png": "[encoded data removed]",
      "text/plain": [
       "Plot with title \"Histogram of natsal_analysis$attconservative\""
      ]
     },
     "metadata": {
      "image/png": {
       "height": 420,
       "width": 420
      }
     },
     "output_type": "display_data"
    }
   ],
   "source": [
    "summary(natsal_analysis$attconservative)\n",
    "hist(natsal_analysis$attconservative)"
   ]
  },
  {
   "cell_type": "markdown",
   "id": "copyrighted-victor",
   "metadata": {},
   "source": [
    "Postive values of this variable indicate conservative attitudes to sex, negative values liberal attitudes. The average respondent is slightly conservative in their attitudes to sex, though most respondents have a score slightly below or above 0."
   ]
  },
  {
   "cell_type": "markdown",
   "id": "aerial-smith",
   "metadata": {},
   "source": [
    "### Bivariate analysis"
   ]
  },
  {
   "cell_type": "markdown",
   "id": "painful-tracker",
   "metadata": {},
   "source": [
    "The next step in our analysis is to see if our two variables are associated or not. That is, does knowing somebody's attitude towards sex help us predict what age they had their first child at? Or vice versa: does knowing the age at which somebody had their first child tell you something about their attitude to sex?\n",
    "\n",
    "We have two numeric (interval) variables, therefore we can calculate the Pearson correlation coefficient (r) to measure the strength and direction of the association. However the first step is to visualise the joint distribution of two variables."
   ]
  },
  {
   "cell_type": "code",
   "execution_count": 23,
   "id": "endless-glance",
   "metadata": {},
   "outputs": [
    {
     "data": {
      "image/png": "[encoded data removed]",
      "text/plain": [
       "plot without title"
      ]
     },
     "metadata": {
      "image/png": {
       "height": 420,
       "width": 420
      }
     },
     "output_type": "display_data"
    }
   ],
   "source": [
    "plot(natsal_analysis$attconservative,natsal_analysis$dage1ch)"
   ]
  },
  {
   "cell_type": "markdown",
   "id": "parallel-least",
   "metadata": {},
   "source": [
    "There does not appear to be any association between attitude to sex and age at birth of first child: there is no diagonal pattern in the joint distribution e.g., as sexual attitude becomes more conservative (move along the x / horizontal axis), age at birth of first child does not increase (move up the y / vertical axis).\n",
    "\n",
    "We can confirm this using the Pearson correlation coefficient, which is close to 0 in value:"
   ]
  },
  {
   "cell_type": "code",
   "execution_count": 24,
   "id": "professional-fitness",
   "metadata": {},
   "outputs": [
    {
     "data": {
      "text/html": [
       "-0.114928079969294"
      ],
      "text/latex": [
       "-0.114928079969294"
      ],
      "text/markdown": [
       "-0.114928079969294"
      ],
      "text/plain": [
       "[1] -0.1149281"
      ]
     },
     "metadata": {},
     "output_type": "display_data"
    }
   ],
   "source": [
    "cor(natsal_analysis$attconservative, natsal_analysis$dage1ch, use = \"complete.obs\")"
   ]
  },
  {
   "cell_type": "markdown",
   "id": "soviet-michael",
   "metadata": {},
   "source": [
    "### Multivariate analysis"
   ]
  },
  {
   "cell_type": "markdown",
   "id": "junior-mapping",
   "metadata": {},
   "source": [
    "There may be no apparant association between attitude to sex and age at birth of first child, however is this true for males and females alike? What about different ethnic groups?\n",
    "\n",
    "Multivariate analysis allows us to see if the patterns we find are consistent across values of other variables."
   ]
  },
  {
   "cell_type": "markdown",
   "id": "vietnamese-shooting",
   "metadata": {},
   "source": [
    "### By sex"
   ]
  },
  {
   "cell_type": "code",
   "execution_count": 25,
   "id": "altered-class",
   "metadata": {},
   "outputs": [
    {
     "data": {
      "text/html": [
       "-0.0807618112187694"
      ],
      "text/latex": [
       "-0.0807618112187694"
      ],
      "text/markdown": [
       "-0.0807618112187694"
      ],
      "text/plain": [
       "[1] -0.08076181"
      ]
     },
     "metadata": {},
     "output_type": "display_data"
    }
   ],
   "source": [
    "natsal_males <- subset(natsal_analysis, rsex==1) # create a subset of observations containing only male respondents\n",
    "cor(natsal_males$attconservative, natsal_males$dage1ch, use = \"complete.obs\")"
   ]
  },
  {
   "cell_type": "code",
   "execution_count": 26,
   "id": "intellectual-advertiser",
   "metadata": {},
   "outputs": [
    {
     "data": {
      "text/html": [
       "-0.0621402443065002"
      ],
      "text/latex": [
       "-0.0621402443065002"
      ],
      "text/markdown": [
       "-0.0621402443065002"
      ],
      "text/plain": [
       "[1] -0.06214024"
      ]
     },
     "metadata": {},
     "output_type": "display_data"
    }
   ],
   "source": [
    "natsal_females <- subset(natsal_analysis, rsex==2) # create a subset of observations containing only female respondents\n",
    "cor(natsal_females$attconservative, natsal_females$dage1ch, use = \"complete.obs\")"
   ]
  },
  {
   "cell_type": "markdown",
   "id": "executive-medicaid",
   "metadata": {},
   "source": [
    "The correlation coefficient is effectively the same for males and females, suggesting that the association between attitude to sex and age at birth of first child does not vary by natal sex."
   ]
  },
  {
   "cell_type": "markdown",
   "id": "smaller-carry",
   "metadata": {},
   "source": [
    "### By ethnic group"
   ]
  },
  {
   "cell_type": "code",
   "execution_count": 27,
   "id": "introductory-leadership",
   "metadata": {},
   "outputs": [
    {
     "data": {
      "text/html": [
       "-0.138858404617603"
      ],
      "text/latex": [
       "-0.138858404617603"
      ],
      "text/markdown": [
       "-0.138858404617603"
      ],
      "text/plain": [
       "[1] -0.1388584"
      ]
     },
     "metadata": {},
     "output_type": "display_data"
    }
   ],
   "source": [
    "natsal_white <- subset(natsal_analysis, ethnicgrpr==1) # create a subset of observations containing only white respondents\n",
    "cor(natsal_white$attconservative, natsal_white$dage1ch, use = \"complete.obs\")"
   ]
  },
  {
   "cell_type": "code",
   "execution_count": 28,
   "id": "favorite-return",
   "metadata": {},
   "outputs": [
    {
     "data": {
      "text/html": [
       "0.112144119761218"
      ],
      "text/latex": [
       "0.112144119761218"
      ],
      "text/markdown": [
       "0.112144119761218"
      ],
      "text/plain": [
       "[1] 0.1121441"
      ]
     },
     "metadata": {},
     "output_type": "display_data"
    }
   ],
   "source": [
    "natsal_nonwhite <- subset(natsal_analysis, ethnicgrpr==2) # create a subset of observations containing only non-white respondents\n",
    "cor(natsal_nonwhite$attconservative, natsal_nonwhite$dage1ch, use = \"complete.obs\")"
   ]
  },
  {
   "cell_type": "markdown",
   "id": "identical-complex",
   "metadata": {},
   "source": [
    "The correlation coefficient does vary by ethnic group: though the association remains small, for white respondents there is a negative association, and for non-whites there is a positive association. For non-white respondents, this can be interpreted as follows: more conservative sexual attitudes are correlated with being older when first child is born."
   ]
  },
  {
   "cell_type": "markdown",
   "id": "colored-plate",
   "metadata": {},
   "source": [
    "## Conclusion"
   ]
  },
  {
   "cell_type": "markdown",
   "id": "corresponding-cowboy",
   "metadata": {},
   "source": [
    "Hopefully this notebook has given you a sense of what quantitative data analysis entails:\n",
    "* Importing datasets\n",
    "* Exploring observations\n",
    "* Summarising variables\n",
    "* Writing syntax\n",
    "\n",
    "We will follow much the same process over weeks 9-12 as we attempt to answer our research question."
   ]
  }
 ],
 "metadata": {
  "kernelspec": {
   "display_name": "R",
   "language": "R",
   "name": "ir"
  },
  "language_info": {
   "codemirror_mode": "r",
   "file_extension": ".r",
   "mimetype": "text/x-r-source",
   "name": "R",
   "pygments_lexer": "r",
   "version": "4.1.1"
  }
 },
 "nbformat": 4,
 "nbformat_minor": 5
}
