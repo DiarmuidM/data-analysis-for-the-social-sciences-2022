{
 "cells": [
  {
   "cell_type": "markdown",
   "id": "otherwise-cache",
   "metadata": {},
   "source": [
    "<p align=\"right\"><i>Data Analysis for the Social Sciences - Part II - 2022-11-21</i></p>"
   ]
  },
  {
   "cell_type": "markdown",
   "id": "dynamic-conjunction",
   "metadata": {},
   "source": [
    "# Week 11 - Inferential Analysis"
   ]
  },
  {
   "cell_type": "markdown",
   "id": "exclusive-methodology",
   "metadata": {},
   "source": [
    "Welcome to Part II of Data Analysis for the Social Sciences. In this lab session we will learn how to make inferences from our descriptive analyses."
   ]
  },
  {
   "cell_type": "markdown",
   "id": "48153ff5",
   "metadata": {},
   "source": [
    "We will use real data from the *National Survey of Sexual Attitudes and Lifestyles, 2010-2012 (Natsal-3)*, specifically the open dataset available from the UK Data Service: https://doi.org/10.5255/UKDA-SN-8786-1"
   ]
  },
  {
   "cell_type": "markdown",
   "id": "efe0742a",
   "metadata": {},
   "source": [
    "**Please note for Assessment 2 you are required to use the larger, richer version of *Natsal-3*, which is available on Aula.**"
   ]
  },
  {
   "cell_type": "markdown",
   "id": "scenic-silly",
   "metadata": {},
   "source": [
    "### Aims\n",
    "\n",
    "This lesson - **Inferential Analysis** - has two aims:\n",
    "1. Demonstrate how to calculate and communicate measures of uncertainty relating to your quantitative findings.\n",
    "2. Cultivate your computational skills through the use of the statistical programming langauge *R*. For example, there are a number of opportunities for you to amend or write R syntax (code)."
   ]
  },
  {
   "cell_type": "markdown",
   "id": "judicial-prediction",
   "metadata": {},
   "source": [
    "### Lesson details\n",
    "\n",
    "* **Level**: Introductory, for individuals with minimal prior knowledge or experience of quantitative data analysis.\n",
    "* **Duration**: 45-60 minutes.\n",
    "* **Pre-requisites**: Completed [*Univariate Data Analysis*](./dass-week-9-univariate-analysis-2022-11-07.ipynb), [*Bivariate Data Analysis*](./dass-week-10-bivariate-analysis-2022-11-14.ipynb) and [*Multivariate Data Analysis*](./dass-week-11-multivariate-analysis-2022-11-14.ipynb) lessons.\n",
    "* **Programming language**: R.\n",
    "* **Learning outcomes**:\n",
    "\t1. Understand how to use R for conducting inferential analyses.\n",
    "\t2. Understand how to select and apply common data analysis techniques for categorical and numeric variables."
   ]
  },
  {
   "cell_type": "markdown",
   "id": "terminal-agenda",
   "metadata": {},
   "source": [
    "## Guide to using this resource\n",
    "\n",
    "This learning resource was built using <a href=\"https://jupyter.org/\" target=_blank>Jupyter Notebook</a>, an open-source software application that allows you to mix code, results and narrative in a single document. As <a href=\"https://jupyter4edu.github.io/jupyter-edu-book/\" target=_blank>Barba et al. (2019)</a> espouse:\n",
    "> In a world where every subject matter can have a data-supported treatment, where computational devices are omnipresent and pervasive, the union of natural language and computation creates compelling communication and learning opportunities.\n",
    "\n",
    "If you are familiar with Jupyter notebooks then skip ahead to the main content (*Introduction to Inferential Analysis*). Otherwise, the following is a quick guide to navigating and interacting with the notebook."
   ]
  },
  {
   "cell_type": "markdown",
   "id": "interested-radar",
   "metadata": {},
   "source": [
    "### Interaction\n",
    "\n",
    "**You only need to execute the code that is contained in sections which are marked by `[]`.**\n",
    "\n",
    "To execute a cell, click or double-click the cell and press the `Play` button next to the cell or select the `Run` button on the top toolbar (*Runtime > Run the focused cell*); you can also use the keyboard shortcuts `Shift + Enter` or `Ctrl + Enter`).\n",
    "\n",
    "Try it for yourself:"
   ]
  },
  {
   "cell_type": "code",
   "execution_count": null,
   "id": "dominican-hardware",
   "metadata": {},
   "outputs": [],
   "source": [
    "name <- readline(prompt=\"Enter name: \")\n",
    "print(paste(\"Hi,\", name, \"enjoy learning more about R and inferential analysis!\"))"
   ]
  },
  {
   "cell_type": "markdown",
   "id": "through-storm",
   "metadata": {},
   "source": [
    "Notebooks are sequential, meaning code should be executed in order (top to bottom). For example, the following code won't work:"
   ]
  },
  {
   "cell_type": "code",
   "execution_count": null,
   "id": "outstanding-bulgaria",
   "metadata": {},
   "outputs": [],
   "source": [
    "x * 5"
   ]
  },
  {
   "cell_type": "markdown",
   "id": "handmade-madagascar",
   "metadata": {},
   "source": [
    "As the error message suggests, there is no object (variable) called `x`, therefore we cannot do any calculations with it. \n",
    "\n",
    "Let's try a sequential approach:"
   ]
  },
  {
   "cell_type": "code",
   "execution_count": null,
   "id": "addressed-assumption",
   "metadata": {},
   "outputs": [],
   "source": [
    "x <- 10 # create an object called 'x' and give it the value '10'"
   ]
  },
  {
   "cell_type": "code",
   "execution_count": null,
   "id": "crucial-implement",
   "metadata": {},
   "outputs": [],
   "source": [
    "x * 5 # multiply 'x' by 5"
   ]
  },
  {
   "cell_type": "markdown",
   "id": "covered-round",
   "metadata": {},
   "source": [
    "### Learn more\n",
    "\n",
    "Jupyter notebooks provide rich, flexible features for conducting and documenting your data analysis workflow. To learn more about additional notebook features, we recommend working through some of the <a href=\"https://github.com/darribas/gds19/blob/master/content/labs/lab_00.ipynb\" target=_blank>materials</a> provided by Dani Arribas-Bel at the University of Liverpool. "
   ]
  },
  {
   "cell_type": "markdown",
   "id": "floppy-escape",
   "metadata": {},
   "source": [
    "### Learner input\n",
    "\n",
    "Throughout the lessons there are times when you need to do the following activities:\n",
    "* **TASK:** A coding task for you to complete (e.g. analyse different variables).\n",
    "* **QUESTION:** A question regarding your interpretation of some code or a technique (e.g. what is the piece of code doing?).\n",
    "* **EXERCISE:** A data analysis challenge for you to complete."
   ]
  },
  {
   "cell_type": "markdown",
   "id": "democratic-office",
   "metadata": {},
   "source": [
    "## Introduction to Inferential Analysis"
   ]
  },
  {
   "cell_type": "markdown",
   "id": "respected-comedy",
   "metadata": {},
   "source": [
    "In the [**previous lessons**](https://github.com/DiarmuidM/data-analysis-for-the-social-sciences-2022/blob/main/lessons), we learned how to conduct a range of univariate, bivariate and multivariate analyses. The results of these analyses are often quite precise and accurate:\n",
    "* The exact proportion of respondents who claim that religion is 'Very important' to them (14%).\n",
    "* The average conservative attitude score for different age groups (16-24 year olds = -0.14817995).\n",
    "\n",
    "However the ability to produce such exact summaries ignores the great deal of **uncertainty** associated with any piece of quantitative data analysis. For example, how confident are we that 14% of all British adults would claim that religion is very important to them? If it isn't 14%, then how much larger or smaller is the 'true' percentage? \n",
    "\n",
    "Remember, our estimate of 14% comes from the **sample** of people who happened to participate in the *Natsal* wave 3 survey (2010-12). Is this group perfectly representative of the wider **population** from which it was drawn (16-74 year olds in Britain)?\n",
    "\n",
    "The short answer is this:"
   ]
  },
  {
   "cell_type": "markdown",
   "id": "signal-expert",
   "metadata": {},
   "source": [
    "<p><center><i>Samples will always differ from the population they were drawn from due to random chance</i></center></p>"
   ]
  },
  {
   "cell_type": "markdown",
   "id": "agricultural-virtue",
   "metadata": {},
   "source": [
    "Thus in this lesson we will focus on expressing the inherent uncertainty in our quantitative analyses. There are a variety of measures of uncertainty but all are united by trying to answer the following question:\n",
    "* Can we generalise our result to the wider population from which we drew our sample?\n",
    "\n",
    "That is, can we make inferences about units of analysis that were **not included** in our sample i.e., those in the wider population?"
   ]
  },
  {
   "cell_type": "markdown",
   "id": "standing-welding",
   "metadata": {},
   "source": [
    "## Making Inferences"
   ]
  },
  {
   "cell_type": "markdown",
   "id": "coordinate-jonathan",
   "metadata": {},
   "source": [
    "### Importing data"
   ]
  },
  {
   "cell_type": "markdown",
   "id": "square-knife",
   "metadata": {},
   "source": [
    "The first step is to import the *Natsal-3* data for analysis."
   ]
  },
  {
   "cell_type": "code",
   "execution_count": null,
   "id": "agreed-future",
   "metadata": {},
   "outputs": [],
   "source": [
    "natsal <- read.table(\"https://raw.githubusercontent.com/DiarmuidM/data-analysis-for-the-social-sciences-2022/main/lessons/data/natsal_3_teaching_open.tab\", header=TRUE, na=\"NA\", sep=\"\\t\")\n",
    "head(natsal) # view the first six observations"
   ]
  },
  {
   "cell_type": "markdown",
   "id": "c43ee4ce",
   "metadata": {},
   "source": [
    "### Data cleaning"
   ]
  },
  {
   "cell_type": "markdown",
   "id": "cd78cb2b",
   "metadata": {},
   "source": [
    "There are a number of important steps that need to be executed before proceeding with the analysis:\n",
    "* Handling missing values\n",
    "* Labelling values of categorical variables\n",
    "\n",
    "We cover these techniques in a separate notebook: [Data Cleaning](./dass-natsal-data-cleaning-2022-09-28.ipynb) \n",
    "\n",
    "**Please note that you will be expected to perform these tasks for your own analysis.**"
   ]
  },
  {
   "cell_type": "code",
   "execution_count": null,
   "id": "c069ed87",
   "metadata": {},
   "outputs": [],
   "source": [
    "natsal$religimp <- factor(natsal$religimp, levels = c(1,2,3,4), labels = c(\"Very important\", \"Fairly important\", \n",
    "                                                                            \"Not very important\", \"Not important at all\"))"
   ]
  },
  {
   "cell_type": "code",
   "execution_count": null,
   "id": "7ebf73f4",
   "metadata": {},
   "outputs": [],
   "source": [
    "natsal$agrp <- factor(natsal$agrp, levels = c(1,2,3,4,5,6), labels = c(\"16-24\", \"25-34\", \"35-44\", \"45-54\", \"55-64\", \"65-74\"))"
   ]
  },
  {
   "cell_type": "code",
   "execution_count": null,
   "id": "95f950e4",
   "metadata": {},
   "outputs": [],
   "source": [
    "natsal$rsex <- factor(natsal$rsex, levels = c(1,2), labels = c(\"Male\", \"Female\"))"
   ]
  },
  {
   "cell_type": "code",
   "execution_count": null,
   "id": "neural-shark",
   "metadata": {},
   "outputs": [],
   "source": [
    "natsal$ethnicgrp <- factor(natsal$ethnicgrp, levels = c(1,2), labels = c(\"White\", \"Non-white\"))"
   ]
  },
  {
   "cell_type": "code",
   "execution_count": null,
   "id": "fa5035ef",
   "metadata": {},
   "outputs": [],
   "source": [
    "natsal$dage1ch[natsal$dage1ch==-1 | natsal$dage1ch==99] <- NA # convert \"-1\" and \"99\" to missing"
   ]
  },
  {
   "cell_type": "markdown",
   "id": "f002ecf9",
   "metadata": {},
   "source": [
    "### Univariate analysis"
   ]
  },
  {
   "cell_type": "markdown",
   "id": "complicated-ebony",
   "metadata": {},
   "source": [
    "Univariate analysis produces statistical summaries of numeric and categorical variables e.g., average attitude to sex; proportion of respondents in the 16-24 age group etc. However these single numbers give an inflated sense of accuracy and precision. Thus we need some way of expressing the **range** of plausible values for a given statistical summary. You may have heard of this range referred to as **confidence intervals**, **margins of error**, **polling error** etc."
   ]
  },
  {
   "cell_type": "markdown",
   "id": "streaming-ticket",
   "metadata": {},
   "source": [
    "#### Numeric variables"
   ]
  },
  {
   "cell_type": "markdown",
   "id": "sensitive-victory",
   "metadata": {},
   "source": [
    "Let's look at an example for our measure of attitude to sex (`attconservative`)."
   ]
  },
  {
   "cell_type": "code",
   "execution_count": null,
   "id": "equal-shuttle",
   "metadata": {},
   "outputs": [],
   "source": [
    "summary(natsal$attconservative)"
   ]
  },
  {
   "cell_type": "markdown",
   "id": "junior-recognition",
   "metadata": {},
   "source": [
    "We see that the average attitude is slightly liberal (less than zero). However this finding was generated by using data on our current sample of 16-74 year olds in Britain. What if we had a different sample of respondents? Would we also expect the average score for this variable to be '-0.01728'? And if we had a different sample again?\n",
    "\n",
    "Thanks to sampling theory, we can produce a range or interval of plausible values for average (mean) attitude (or any mean of a numeric variable)."
   ]
  },
  {
   "cell_type": "code",
   "execution_count": null,
   "id": "convinced-landscape",
   "metadata": {},
   "outputs": [],
   "source": [
    "t.test(natsal$attconservative, na.rm = TRUE)$conf.int # calculate 95% confidence intervals for the mean of `attconservative`"
   ]
  },
  {
   "cell_type": "markdown",
   "id": "convinced-telephone",
   "metadata": {},
   "source": [
    "The one-line summary is this: the mean attitude score is very probably between '-0.05066760' and '0.01610798' in the population of British adults from which the sample was drawn. The figure of '-0.01727981' remains our best estimate but we now acknowledge that the score in the population could actually be between '-0.05066760' and '0.01610798'."
   ]
  },
  {
   "cell_type": "markdown",
   "id": "developing-emphasis",
   "metadata": {},
   "source": [
    "This can be tricky to get your head around, so let's look at another example: age at birth of first child (`dage1ch`)."
   ]
  },
  {
   "cell_type": "code",
   "execution_count": null,
   "id": "45159aba",
   "metadata": {},
   "outputs": [],
   "source": [
    "mean(natsal$dage1ch, na.rm = TRUE)"
   ]
  },
  {
   "cell_type": "code",
   "execution_count": null,
   "id": "superb-vegetation",
   "metadata": {},
   "outputs": [],
   "source": [
    "t.test(natsal$dage1ch, na.rm = TRUE)$conf.int # calculate 95% confidence intervals for the mean of `dage1ch`"
   ]
  },
  {
   "cell_type": "markdown",
   "id": "greater-tactics",
   "metadata": {},
   "source": [
    "The mean age at which our respondents have their first child is '24.8' years old, but we acknowledge that the mean age in the population could actually be between '24.6' and '25.1'. Therefore the range of the confidence interval is very tight around the mean, providing confidence that '24.8' is a good estimate of the average age at which adults in Britain have their first child.\n",
    "\n",
    "Imagine our mean was still '24.8' but the confidence interval ranged from '19.5' to '31.2'. Now the mean does not look like a good estimate of the average age at which adults in Britain have their first child?\n",
    "\n",
    "Calculating a confidence interval does not invalidate your estimate of the mean of a numeric variable, it simply provides some caution when making claims about a **population** based on a **sample**."
   ]
  },
  {
   "cell_type": "markdown",
   "id": "compressed-steps",
   "metadata": {},
   "source": [
    "#### Categorical variables"
   ]
  },
  {
   "cell_type": "markdown",
   "id": "logical-sherman",
   "metadata": {},
   "source": [
    "We can also calculate a range of uncertainty for categories of a categorical variable."
   ]
  },
  {
   "cell_type": "code",
   "execution_count": null,
   "id": "changing-librarian",
   "metadata": {},
   "outputs": [],
   "source": [
    "round(prop.table(table(natsal$religimp)) * 100, 0)"
   ]
  },
  {
   "cell_type": "markdown",
   "id": "banned-austria",
   "metadata": {},
   "source": [
    "We observe that 15% of respondents claim that religion is very important to them, 25% that it is fairly important etc. Are these good estimates of how the population of adults in Britain feel about religion?"
   ]
  },
  {
   "cell_type": "code",
   "execution_count": null,
   "id": "6c181013",
   "metadata": {},
   "outputs": [],
   "source": [
    "install.packages(\"DescTools\") # install the necessary package - only needs to be done once"
   ]
  },
  {
   "cell_type": "code",
   "execution_count": null,
   "id": "dental-details",
   "metadata": {},
   "outputs": [],
   "source": [
    "library(DescTools) # import the package containing the `MultinomCI` command"
   ]
  },
  {
   "cell_type": "code",
   "execution_count": null,
   "id": "hearing-netscape",
   "metadata": {},
   "outputs": [],
   "source": [
    "MultinomCI(table(natsal$religimp)) # 95% confidence interval is the default"
   ]
  },
  {
   "cell_type": "markdown",
   "id": "brilliant-genealogy",
   "metadata": {},
   "source": [
    "We are 95% confident that the true proportion of adults in Britain who claim religion is very important is between 13% and 16% (lwr.ci = lower end of the interval, upr.ci = upper end of the interval)."
   ]
  },
  {
   "cell_type": "markdown",
   "id": "lonely-certificate",
   "metadata": {},
   "source": [
    "**TASK**: Calculate confidence intervals for the `snearly` variable. Look at the [codebook](./codebook/8786_natsal_open_codebook_feb21.pdf) to see what this variable measures."
   ]
  },
  {
   "cell_type": "code",
   "execution_count": null,
   "id": "bound-endorsement",
   "metadata": {},
   "outputs": [],
   "source": [
    "# INSERT CODE HERE"
   ]
  },
  {
   "cell_type": "markdown",
   "id": "vietnamese-tongue",
   "metadata": {},
   "source": [
    "#### A note on confidence"
   ]
  },
  {
   "cell_type": "markdown",
   "id": "retired-bunny",
   "metadata": {},
   "source": [
    "You'll have seen reference to '95% confidence interval' and rightly wondered what it meant.\n",
    "\n",
    "Let's imagine that the *Natsal* survey was completed by 100 different samples of respondents (obviously this would be wildly expensive, impractical and unnecessary). The sampling procedure is the same (i.e., random sampling) and the sample sizes are the same (i.e., 15,000). And for each sample we calculate the mean of some numeric variable - let's say age at birth of first child.\n",
    "\n",
    "In such a scenario, a 95% confidence interval represents the following:\n",
    "* 95 of the 100 samples have a mean that falls into the range between '24.6' and 25.1'\n",
    "* 5 of the 100 samples have a mean that falls outside of the range between '24.6' and 25.1'\n",
    "\n",
    "The intractable problem is that we have no way telling whether the **actual** sample we observed (i.e., the people who completed the *Natsal* survey) is one of the 95 or one of the 5. \n",
    "\n",
    "All we know is that 95 times out of 100 the mean falls between a given range of values."
   ]
  },
  {
   "cell_type": "markdown",
   "id": "breathing-france",
   "metadata": {},
   "source": [
    "### Bivariate Analysis"
   ]
  },
  {
   "cell_type": "markdown",
   "id": "reliable-lemon",
   "metadata": {},
   "source": [
    "A key aspect of bivariate analysis is producing a **measure of association** that summarises the strength / direction of a relationship between two variables. In this instance our uncertainty is not related to the exact value of a measure of association, **but in how confident we are that the relationship is present in the population from which the sample was drawn**.\n",
    "\n",
    "For example, we find a moderate association between ethnicity and importance of religion:"
   ]
  },
  {
   "cell_type": "code",
   "execution_count": null,
   "id": "stainless-drove",
   "metadata": {},
   "outputs": [],
   "source": [
    "CramerV(natsal$religimp, natsal$ethnicgrp)"
   ]
  },
  {
   "cell_type": "markdown",
   "id": "boolean-dialogue",
   "metadata": {},
   "source": [
    "How confident are we that this association exists in the population of British adults and not just in our sample? We can answer this question by calculating what are known as measures of **statistical significance**. \n",
    "\n",
    "A common measure of statistical significance is a **p-value**. This can be interpreted as a proportion, ranging from 0 to 1. In contrast to measures of association, we are interested in values close to 0, as these indicate a low chance of your association **NOT** being found in the population from which your sample was drawn. Put another way:\n",
    "* a p-value < 0.05 indicates a high probability that the association is found in the wider population and not just in the sample.\n",
    "* an association with a p-value < 0.05 is therefore said to be **statistically significant**. \n",
    "\n",
    "Therefore a p-value &mdash; and other measures of statistical significance &mdash; provides a summary of our confidence in the **generalisability** of the association / pattern we observe in the data."
   ]
  },
  {
   "cell_type": "markdown",
   "id": "valued-league",
   "metadata": {},
   "source": [
    "#### Categorical vs Categorical"
   ]
  },
  {
   "cell_type": "markdown",
   "id": "golden-devil",
   "metadata": {},
   "source": [
    "Let's return to the association between importance of religion and respondent's ethnicity:"
   ]
  },
  {
   "cell_type": "code",
   "execution_count": null,
   "id": "coordinated-fireplace",
   "metadata": {},
   "outputs": [],
   "source": [
    "CramerV(natsal$religimp, natsal$ethnicgrp)"
   ]
  },
  {
   "cell_type": "code",
   "execution_count": null,
   "id": "addressed-creek",
   "metadata": {},
   "outputs": [],
   "source": [
    "#options(scipen = 999) # surpress display of scientific notation\n",
    "\n",
    "chisq.test(natsal$religimp, natsal$ethnicgrp)"
   ]
  },
  {
   "cell_type": "markdown",
   "id": "administrative-providence",
   "metadata": {},
   "source": [
    "We observe that the p-value is well below the 0.05 threshold, therefore we conclude that the association is statistically significant. That is, the association is very likely present in the population from which the sample was drawn."
   ]
  },
  {
   "cell_type": "markdown",
   "id": "ef643e95",
   "metadata": {},
   "source": [
    "Even weak associations are likely to generate small p-values if the sample is large enough."
   ]
  },
  {
   "cell_type": "code",
   "execution_count": null,
   "id": "79c9340f",
   "metadata": {},
   "outputs": [],
   "source": [
    "chisq.test(natsal$religimp, natsal$rsex)"
   ]
  },
  {
   "cell_type": "markdown",
   "id": "d226debf",
   "metadata": {},
   "source": [
    "What if we had a smaller sample of respondents?"
   ]
  },
  {
   "cell_type": "code",
   "execution_count": null,
   "id": "db2eb417",
   "metadata": {},
   "outputs": [],
   "source": [
    "natsal_samp <- natsal[sample(nrow(natsal), 100), ] # randomly sample 100 observations from the dataset"
   ]
  },
  {
   "cell_type": "code",
   "execution_count": null,
   "id": "de9ec61f",
   "metadata": {
    "scrolled": true
   },
   "outputs": [],
   "source": [
    "CramerV(natsal_samp$religimp, natsal_samp$ethnicgrp)"
   ]
  },
  {
   "cell_type": "code",
   "execution_count": null,
   "id": "c60c8e44",
   "metadata": {},
   "outputs": [],
   "source": [
    "chisq.test(natsal_samp$religimp, natsal_samp$rsex)"
   ]
  },
  {
   "cell_type": "markdown",
   "id": "28441618",
   "metadata": {},
   "source": [
    "**QUESTION:** Why is the p-value no longer below the 0.05 threshold?"
   ]
  },
  {
   "cell_type": "markdown",
   "id": "existing-wildlife",
   "metadata": {},
   "source": [
    "#### Categorical vs Numeric"
   ]
  },
  {
   "cell_type": "markdown",
   "id": "tracked-clinton",
   "metadata": {},
   "source": [
    "Recall that the appropriate summary statistic for a bivariate analysis of one categorical and one numeric variable is:\n",
    "* *Eta squared*\n",
    "\n",
    "This tells us the strength of the association but not the direction. *Eta squared* coefficient ranges from 0 to 1, with higher values representing stronger associations."
   ]
  },
  {
   "cell_type": "code",
   "execution_count": null,
   "id": "c9250623",
   "metadata": {},
   "outputs": [],
   "source": [
    "install.packages(\"lsr\") # install the necessary package - only needs to be done once"
   ]
  },
  {
   "cell_type": "code",
   "execution_count": null,
   "id": "molecular-current",
   "metadata": {},
   "outputs": [],
   "source": [
    "library(lsr) # import the package containing the `etaSquared()` command"
   ]
  },
  {
   "cell_type": "code",
   "execution_count": null,
   "id": "maritime-hybrid",
   "metadata": {},
   "outputs": [],
   "source": [
    "model <- aov(attconservative ~ agrp, data = natsal)\n",
    "etaSquared(model)"
   ]
  },
  {
   "cell_type": "markdown",
   "id": "endangered-contractor",
   "metadata": {},
   "source": [
    "We can recover the p-value for this association by summarising the results of the `aov(attconservative ~ agrp, data = natsal)` command:"
   ]
  },
  {
   "cell_type": "code",
   "execution_count": null,
   "id": "immune-teacher",
   "metadata": {},
   "outputs": [],
   "source": [
    "summary(model)"
   ]
  },
  {
   "cell_type": "markdown",
   "id": "usual-transparency",
   "metadata": {},
   "source": [
    "In this instance we are looking at the `Pr(>F)` statistic, which is another way of describing a p-value.\n",
    "\n",
    "Again this is considerably lower than the '0.05' threshold and this we would conclude that the very weak association is very likely to be present in the population from which the sample was drawn."
   ]
  },
  {
   "cell_type": "markdown",
   "id": "young-torture",
   "metadata": {},
   "source": [
    "#### Numeric vs Numeric"
   ]
  },
  {
   "cell_type": "markdown",
   "id": "essential-oliver",
   "metadata": {},
   "source": [
    "Recall that the appropriate measure of association for two numeric variables is:\n",
    "* *Pearson's correlation coefficient (r)*\n",
    "\n",
    "Similar to other measures of association, it tells us the strength and direction of the association between two variables. The coefficient ranges between -1 and 1, with negative values representing negative associations, and positive values positive associations. Values closer to -1 or 1 indicate stronger associations than those closer to 0."
   ]
  },
  {
   "cell_type": "code",
   "execution_count": null,
   "id": "environmental-powell",
   "metadata": {},
   "outputs": [],
   "source": [
    "plot(natsal$dage1ch, natsal$attconservative) # X variable (axis) is listed first, Y variable (axis) second"
   ]
  },
  {
   "cell_type": "markdown",
   "id": "7ebcffa4",
   "metadata": {},
   "source": [
    "A visual inspection of the joint distribution does not reveal any obvious pattern or relationship: as the age at which an individual had their first child increases, there does not seem to be any obvious change in attitude to sex. We can confirm our interpretation by calculating an appropriate measure of association (*Pearson's correlation coefficient (r)*)."
   ]
  },
  {
   "cell_type": "code",
   "execution_count": null,
   "id": "infinite-attack",
   "metadata": {},
   "outputs": [],
   "source": [
    "cor(natsal$dage1ch, natsal$attconservative, use = \"complete.obs\")"
   ]
  },
  {
   "cell_type": "markdown",
   "id": "going-thursday",
   "metadata": {},
   "source": [
    "To produce the p-value calculated for this association, we use the `cor.test()` command:"
   ]
  },
  {
   "cell_type": "code",
   "execution_count": null,
   "id": "single-timothy",
   "metadata": {},
   "outputs": [],
   "source": [
    "cor.test(natsal$dage1ch, natsal$attconservative, use = \"complete.obs\")"
   ]
  },
  {
   "cell_type": "markdown",
   "id": "certain-apartment",
   "metadata": {},
   "source": [
    "And once more, the p-value is below the '0.05' threshold and we conclude that the weak association is very likely present in the population from which the sample of respondents was drawn."
   ]
  },
  {
   "cell_type": "markdown",
   "id": "obvious-scale",
   "metadata": {},
   "source": [
    "#### A note on statistical significance"
   ]
  },
  {
   "cell_type": "markdown",
   "id": "radio-floor",
   "metadata": {},
   "source": [
    "Statistically significant **does not** mean a finding is important or of practical significance. The term comes from an older use of English (significant = signals). Therefore, statistically significant signals that a finding may be important and worth investigating further (MacInnes, 2019).\n",
    "\n",
    "To claim that a finding is of practical significance, we look at the **magnitude** of a statistic:\n",
    "* Whether an association is strong or not\n",
    "* Whether a proportion for one group is considerably different to a proportion for another group (e.g., differences between males and females in terms of importance of religion)\n",
    "* And so on\n",
    "\n",
    "Put simply:\n",
    "> Statistical significance tells us what we can infer about a target population from what we find in a sample. (MacInnes, 2019: 10)"
   ]
  },
  {
   "cell_type": "markdown",
   "id": "colored-plate",
   "metadata": {},
   "source": [
    "## Conclusion"
   ]
  },
  {
   "cell_type": "markdown",
   "id": "southeast-giving",
   "metadata": {},
   "source": [
    "In this lesson we encountered a range of techniques for expressing the uncertainty inherent in our quantitative analyses.\n",
    "\n",
    "In Week 12, we bring all our learning together to write a report based on a piece of quantitative data analysis."
   ]
  }
 ],
 "metadata": {
  "kernelspec": {
   "display_name": "R",
   "language": "R",
   "name": "ir"
  },
  "language_info": {
   "codemirror_mode": "r",
   "file_extension": ".r",
   "mimetype": "text/x-r-source",
   "name": "R",
   "pygments_lexer": "r",
   "version": "4.2.1"
  }
 },
 "nbformat": 4,
 "nbformat_minor": 5
}
