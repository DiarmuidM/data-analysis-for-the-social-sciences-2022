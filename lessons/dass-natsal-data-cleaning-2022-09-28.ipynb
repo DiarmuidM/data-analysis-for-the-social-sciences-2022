{
 "cells": [
  {
   "cell_type": "markdown",
   "id": "otherwise-cache",
   "metadata": {},
   "source": [
    "<p align=\"right\"><i>Data Analysis for the Social Sciences - Part II - 2022/23</i></p>"
   ]
  },
  {
   "cell_type": "markdown",
   "id": "dynamic-conjunction",
   "metadata": {},
   "source": [
    "# Quantitative Data Analysis"
   ]
  },
  {
   "cell_type": "markdown",
   "id": "exclusive-methodology",
   "metadata": {},
   "source": [
    "The purpose of this notebook is to demonstrate how to prepare the *National Survey of Sexual Attitudes and Lifestyles, 2010-2012: Teaching Dataset* for analysis in RStudio. Specifically it demonstrates how to:\n",
    "* Handle missing values \n",
    "* Create new variables\n",
    "* Label the values of categorical variables"
   ]
  },
  {
   "cell_type": "markdown",
   "id": "framed-privacy",
   "metadata": {},
   "source": [
    "### Importing data"
   ]
  },
  {
   "cell_type": "markdown",
   "id": "stone-qatar",
   "metadata": {},
   "source": [
    "The first step is to import the *Natsal-3* data."
   ]
  },
  {
   "cell_type": "code",
   "execution_count": 8,
   "id": "agreed-future",
   "metadata": {},
   "outputs": [
    {
     "data": {
      "text/html": [
       "<table class=\"dataframe\">\n",
       "<caption>A data.frame: 6 × 130</caption>\n",
       "<thead>\n",
       "\t<tr><th></th><th scope=col>sin2</th><th scope=col>dateyoi</th><th scope=col>total_wt</th><th scope=col>psu_scrm</th><th scope=col>strata</th><th scope=col>stratagrp</th><th scope=col>stratagrp2</th><th scope=col>stratagrp3</th><th scope=col>dage</th><th scope=col>rdoby</th><th scope=col>⋯</th><th scope=col>netacc</th><th scope=col>adj_imd_quintile</th><th scope=col>qimd</th><th scope=col>qwimd</th><th scope=col>qsimd</th><th scope=col>tenure</th><th scope=col>livehere</th><th scope=col>gor_l</th><th scope=col>urindew</th><th scope=col>urindsc</th></tr>\n",
       "\t<tr><th></th><th scope=col>&lt;int&gt;</th><th scope=col>&lt;int&gt;</th><th scope=col>&lt;dbl&gt;</th><th scope=col>&lt;int&gt;</th><th scope=col>&lt;int&gt;</th><th scope=col>&lt;int&gt;</th><th scope=col>&lt;int&gt;</th><th scope=col>&lt;int&gt;</th><th scope=col>&lt;int&gt;</th><th scope=col>&lt;int&gt;</th><th scope=col>⋯</th><th scope=col>&lt;int&gt;</th><th scope=col>&lt;int&gt;</th><th scope=col>&lt;int&gt;</th><th scope=col>&lt;int&gt;</th><th scope=col>&lt;int&gt;</th><th scope=col>&lt;int&gt;</th><th scope=col>&lt;int&gt;</th><th scope=col>&lt;int&gt;</th><th scope=col>&lt;int&gt;</th><th scope=col>&lt;int&gt;</th></tr>\n",
       "</thead>\n",
       "<tbody>\n",
       "\t<tr><th scope=row>1</th><td>9110103</td><td>2010</td><td>0.4605145</td><td>1636</td><td>763</td><td>332</td><td>221</td><td>166</td><td>25</td><td>1985</td><td>⋯</td><td>1</td><td>3</td><td>-1</td><td>2</td><td>-1</td><td>4</td><td>2</td><td>12</td><td>5</td><td>9</td></tr>\n",
       "\t<tr><th scope=row>2</th><td>9110105</td><td>2010</td><td>1.7889542</td><td>1636</td><td>763</td><td>332</td><td>221</td><td>166</td><td>30</td><td>1980</td><td>⋯</td><td>1</td><td>4</td><td>-1</td><td>4</td><td>-1</td><td>4</td><td>2</td><td>12</td><td>5</td><td>9</td></tr>\n",
       "\t<tr><th scope=row>3</th><td>9110109</td><td>2010</td><td>1.3815434</td><td>1636</td><td>763</td><td>332</td><td>221</td><td>166</td><td>29</td><td>1981</td><td>⋯</td><td>1</td><td>3</td><td>-1</td><td>2</td><td>-1</td><td>4</td><td>2</td><td>12</td><td>5</td><td>9</td></tr>\n",
       "\t<tr><th scope=row>4</th><td>9110110</td><td>2010</td><td>0.7390113</td><td>1636</td><td>763</td><td>332</td><td>221</td><td>166</td><td>27</td><td>1983</td><td>⋯</td><td>2</td><td>4</td><td>-1</td><td>4</td><td>-1</td><td>4</td><td>2</td><td>12</td><td>5</td><td>9</td></tr>\n",
       "\t<tr><th scope=row>5</th><td>9110112</td><td>2010</td><td>1.9239441</td><td>1636</td><td>763</td><td>332</td><td>221</td><td>166</td><td>41</td><td>1969</td><td>⋯</td><td>1</td><td>3</td><td>-1</td><td>2</td><td>-1</td><td>2</td><td>2</td><td>12</td><td>5</td><td>9</td></tr>\n",
       "\t<tr><th scope=row>6</th><td>9110115</td><td>2010</td><td>3.2954182</td><td>1636</td><td>763</td><td>332</td><td>221</td><td>166</td><td>43</td><td>1967</td><td>⋯</td><td>1</td><td>2</td><td>-1</td><td>1</td><td>-1</td><td>2</td><td>1</td><td>12</td><td>5</td><td>9</td></tr>\n",
       "</tbody>\n",
       "</table>\n"
      ],
      "text/latex": [
       "A data.frame: 6 × 130\n",
       "\\begin{tabular}{r|lllllllllllllllllllll}\n",
       "  & sin2 & dateyoi & total\\_wt & psu\\_scrm & strata & stratagrp & stratagrp2 & stratagrp3 & dage & rdoby & ⋯ & netacc & adj\\_imd\\_quintile & qimd & qwimd & qsimd & tenure & livehere & gor\\_l & urindew & urindsc\\\\\n",
       "  & <int> & <int> & <dbl> & <int> & <int> & <int> & <int> & <int> & <int> & <int> & ⋯ & <int> & <int> & <int> & <int> & <int> & <int> & <int> & <int> & <int> & <int>\\\\\n",
       "\\hline\n",
       "\t1 & 9110103 & 2010 & 0.4605145 & 1636 & 763 & 332 & 221 & 166 & 25 & 1985 & ⋯ & 1 & 3 & -1 & 2 & -1 & 4 & 2 & 12 & 5 & 9\\\\\n",
       "\t2 & 9110105 & 2010 & 1.7889542 & 1636 & 763 & 332 & 221 & 166 & 30 & 1980 & ⋯ & 1 & 4 & -1 & 4 & -1 & 4 & 2 & 12 & 5 & 9\\\\\n",
       "\t3 & 9110109 & 2010 & 1.3815434 & 1636 & 763 & 332 & 221 & 166 & 29 & 1981 & ⋯ & 1 & 3 & -1 & 2 & -1 & 4 & 2 & 12 & 5 & 9\\\\\n",
       "\t4 & 9110110 & 2010 & 0.7390113 & 1636 & 763 & 332 & 221 & 166 & 27 & 1983 & ⋯ & 2 & 4 & -1 & 4 & -1 & 4 & 2 & 12 & 5 & 9\\\\\n",
       "\t5 & 9110112 & 2010 & 1.9239441 & 1636 & 763 & 332 & 221 & 166 & 41 & 1969 & ⋯ & 1 & 3 & -1 & 2 & -1 & 2 & 2 & 12 & 5 & 9\\\\\n",
       "\t6 & 9110115 & 2010 & 3.2954182 & 1636 & 763 & 332 & 221 & 166 & 43 & 1967 & ⋯ & 1 & 2 & -1 & 1 & -1 & 2 & 1 & 12 & 5 & 9\\\\\n",
       "\\end{tabular}\n"
      ],
      "text/markdown": [
       "\n",
       "A data.frame: 6 × 130\n",
       "\n",
       "| <!--/--> | sin2 &lt;int&gt; | dateyoi &lt;int&gt; | total_wt &lt;dbl&gt; | psu_scrm &lt;int&gt; | strata &lt;int&gt; | stratagrp &lt;int&gt; | stratagrp2 &lt;int&gt; | stratagrp3 &lt;int&gt; | dage &lt;int&gt; | rdoby &lt;int&gt; | ⋯ ⋯ | netacc &lt;int&gt; | adj_imd_quintile &lt;int&gt; | qimd &lt;int&gt; | qwimd &lt;int&gt; | qsimd &lt;int&gt; | tenure &lt;int&gt; | livehere &lt;int&gt; | gor_l &lt;int&gt; | urindew &lt;int&gt; | urindsc &lt;int&gt; |\n",
       "|---|---|---|---|---|---|---|---|---|---|---|---|---|---|---|---|---|---|---|---|---|---|\n",
       "| 1 | 9110103 | 2010 | 0.4605145 | 1636 | 763 | 332 | 221 | 166 | 25 | 1985 | ⋯ | 1 | 3 | -1 | 2 | -1 | 4 | 2 | 12 | 5 | 9 |\n",
       "| 2 | 9110105 | 2010 | 1.7889542 | 1636 | 763 | 332 | 221 | 166 | 30 | 1980 | ⋯ | 1 | 4 | -1 | 4 | -1 | 4 | 2 | 12 | 5 | 9 |\n",
       "| 3 | 9110109 | 2010 | 1.3815434 | 1636 | 763 | 332 | 221 | 166 | 29 | 1981 | ⋯ | 1 | 3 | -1 | 2 | -1 | 4 | 2 | 12 | 5 | 9 |\n",
       "| 4 | 9110110 | 2010 | 0.7390113 | 1636 | 763 | 332 | 221 | 166 | 27 | 1983 | ⋯ | 2 | 4 | -1 | 4 | -1 | 4 | 2 | 12 | 5 | 9 |\n",
       "| 5 | 9110112 | 2010 | 1.9239441 | 1636 | 763 | 332 | 221 | 166 | 41 | 1969 | ⋯ | 1 | 3 | -1 | 2 | -1 | 2 | 2 | 12 | 5 | 9 |\n",
       "| 6 | 9110115 | 2010 | 3.2954182 | 1636 | 763 | 332 | 221 | 166 | 43 | 1967 | ⋯ | 1 | 2 | -1 | 1 | -1 | 2 | 1 | 12 | 5 | 9 |\n",
       "\n"
      ],
      "text/plain": [
       "  sin2    dateyoi total_wt  psu_scrm strata stratagrp stratagrp2 stratagrp3\n",
       "1 9110103 2010    0.4605145 1636     763    332       221        166       \n",
       "2 9110105 2010    1.7889542 1636     763    332       221        166       \n",
       "3 9110109 2010    1.3815434 1636     763    332       221        166       \n",
       "4 9110110 2010    0.7390113 1636     763    332       221        166       \n",
       "5 9110112 2010    1.9239441 1636     763    332       221        166       \n",
       "6 9110115 2010    3.2954182 1636     763    332       221        166       \n",
       "  dage rdoby ⋯ netacc adj_imd_quintile qimd qwimd qsimd tenure livehere gor_l\n",
       "1 25   1985  ⋯ 1      3                -1   2     -1    4      2        12   \n",
       "2 30   1980  ⋯ 1      4                -1   4     -1    4      2        12   \n",
       "3 29   1981  ⋯ 1      3                -1   2     -1    4      2        12   \n",
       "4 27   1983  ⋯ 2      4                -1   4     -1    4      2        12   \n",
       "5 41   1969  ⋯ 1      3                -1   2     -1    2      2        12   \n",
       "6 43   1967  ⋯ 1      2                -1   1     -1    2      1        12   \n",
       "  urindew urindsc\n",
       "1 5       9      \n",
       "2 5       9      \n",
       "3 5       9      \n",
       "4 5       9      \n",
       "5 5       9      \n",
       "6 5       9      "
      ]
     },
     "metadata": {},
     "output_type": "display_data"
    }
   ],
   "source": [
    "natsal <- read.table(\"C:/Users/77901764/Dropbox/uws/teaching/dass/datasets/natsal/UKDA-8735-tab/tab/natsal_3_teaching.tab\", \n",
    "                     header=TRUE, strip.white = TRUE, stringsAsFactors = FALSE,\n",
    "                     na.strings = c(\"NA\", \"\"), sep=\"\\t\")\n",
    "head(natsal) # view the first six observations"
   ]
  },
  {
   "cell_type": "markdown",
   "id": "based-thousand",
   "metadata": {},
   "source": [
    "Let's get a list of variable names."
   ]
  },
  {
   "cell_type": "code",
   "execution_count": 2,
   "id": "greek-result",
   "metadata": {},
   "outputs": [
    {
     "data": {
      "text/html": [
       "<style>\n",
       ".list-inline {list-style: none; margin:0; padding: 0}\n",
       ".list-inline>li {display: inline-block}\n",
       ".list-inline>li:not(:last-child)::after {content: \"\\00b7\"; padding: 0 .5ex}\n",
       "</style>\n",
       "<ol class=list-inline><li>'sin2'</li><li>'dateyoi'</li><li>'total_wt'</li><li>'psu_scrm'</li><li>'strata'</li><li>'stratagrp'</li><li>'stratagrp2'</li><li>'stratagrp3'</li><li>'dage'</li><li>'rdoby'</li><li>'rsex'</li><li>'ethnicgrp'</li><li>'sexid'</li><li>'health'</li><li>'disabil2'</li><li>'bodymass'</li><li>'drink'</li><li>'alcohol2'</li><li>'smoking'</li><li>'drcannabis'</li><li>'drampheta'</li><li>'drcocaine'</li><li>'drcrack'</li><li>'drecstasy'</li><li>'drnonihero'</li><li>'dracidlsd'</li><li>'drcrysmeth'</li><li>'dramylnit'</li><li>'drothnonpre'</li><li>'inject2'</li><li>'drugsyr2'</li><li>'mscore'</li><li>'depscr'</li><li>'attscale'</li><li>'expscale'</li><li>'hetlife'</li><li>'samlife'</li><li>'marstat'</li><li>'relstat'</li><li>'relstatgp'</li><li>'relstatgp2'</li><li>'relsat'</li><li>'nochall'</li><li>'dage1ch'</li><li>'age1ch'</li><li>'child18'</li><li>'nochb435'</li><li>'adopchld'</li><li>'stepchld'</li><li>'fpsorcg'</li><li>'fppref2'</li><li>'usfsteril'</li><li>'usmsteril'</li><li>'usconpill'</li><li>'uscondom'</li><li>'usfemidom'</li><li>'usemcypill'</li><li>'usemcyiud'</li><li>'uscoil'</li><li>'usmirena'</li><li>'uscap'</li><li>'usinjectn'</li><li>'usgels'</li><li>'usrhythm'</li><li>'uswithdrw'</li><li>'usimplant'</li><li>'usother'</li><li>'usconptch'</li><li>'usnotused'</li><li>'parents4'</li><li>'sibpos2'</li><li>'siblive'</li><li>'talkmapa'</li><li>'sexedudoc'</li><li>'sexeduintad'</li><li>'sexedusch'</li><li>'sexeduinto'</li><li>'sexedubmn'</li><li>'sexedufrn'</li><li>'sexedutvid'</li><li>'sexedumum'</li><li>'sexedudad'</li><li>'sexedufsp'</li><li>'sexeduintpn'</li><li>'sexedupor'</li><li>'sexedubsis'</li><li>'sexeduoth'</li><li>'sexeduani'</li><li>'sexedurel'</li><li>'sexeduofri'</li><li>'sexeduofrn'</li><li>'sexeduexp'</li><li>'sexedufil'</li><li>'sexeduedc'</li><li>'rwadult'</li><li>'rwcasual'</li><li>'rwsamm'</li><li>'rwsamf'</li><li>'snnolov'</li><li>'snpres'</li><li>'snold'</li><li>'snsexdrv'</li><li>'snmedia'</li><li>'snearly'</li><li>'sngayadp'</li><li>'snlesadp'</li><li>'snsexed'</li><li>'uagesex'</li><li>'attconservative'</li><li>'religimp'</li><li>'whirel'</li><li>'oftrelig'</li><li>'ractivhi3'</li><li>'employed'</li><li>'rempstat'</li><li>'rnssecgp_6'</li><li>'rnssecgp_4'</li><li>'income'</li><li>'parsc3'</li><li>'educ3'</li><li>'netacc'</li><li>'adj_imd_quintile'</li><li>'qimd'</li><li>'qwimd'</li><li>'qsimd'</li><li>'tenure'</li><li>'livehere'</li><li>'gor_l'</li><li>'urindew'</li><li>'urindsc'</li></ol>\n"
      ],
      "text/latex": [
       "\\begin{enumerate*}\n",
       "\\item 'sin2'\n",
       "\\item 'dateyoi'\n",
       "\\item 'total\\_wt'\n",
       "\\item 'psu\\_scrm'\n",
       "\\item 'strata'\n",
       "\\item 'stratagrp'\n",
       "\\item 'stratagrp2'\n",
       "\\item 'stratagrp3'\n",
       "\\item 'dage'\n",
       "\\item 'rdoby'\n",
       "\\item 'rsex'\n",
       "\\item 'ethnicgrp'\n",
       "\\item 'sexid'\n",
       "\\item 'health'\n",
       "\\item 'disabil2'\n",
       "\\item 'bodymass'\n",
       "\\item 'drink'\n",
       "\\item 'alcohol2'\n",
       "\\item 'smoking'\n",
       "\\item 'drcannabis'\n",
       "\\item 'drampheta'\n",
       "\\item 'drcocaine'\n",
       "\\item 'drcrack'\n",
       "\\item 'drecstasy'\n",
       "\\item 'drnonihero'\n",
       "\\item 'dracidlsd'\n",
       "\\item 'drcrysmeth'\n",
       "\\item 'dramylnit'\n",
       "\\item 'drothnonpre'\n",
       "\\item 'inject2'\n",
       "\\item 'drugsyr2'\n",
       "\\item 'mscore'\n",
       "\\item 'depscr'\n",
       "\\item 'attscale'\n",
       "\\item 'expscale'\n",
       "\\item 'hetlife'\n",
       "\\item 'samlife'\n",
       "\\item 'marstat'\n",
       "\\item 'relstat'\n",
       "\\item 'relstatgp'\n",
       "\\item 'relstatgp2'\n",
       "\\item 'relsat'\n",
       "\\item 'nochall'\n",
       "\\item 'dage1ch'\n",
       "\\item 'age1ch'\n",
       "\\item 'child18'\n",
       "\\item 'nochb435'\n",
       "\\item 'adopchld'\n",
       "\\item 'stepchld'\n",
       "\\item 'fpsorcg'\n",
       "\\item 'fppref2'\n",
       "\\item 'usfsteril'\n",
       "\\item 'usmsteril'\n",
       "\\item 'usconpill'\n",
       "\\item 'uscondom'\n",
       "\\item 'usfemidom'\n",
       "\\item 'usemcypill'\n",
       "\\item 'usemcyiud'\n",
       "\\item 'uscoil'\n",
       "\\item 'usmirena'\n",
       "\\item 'uscap'\n",
       "\\item 'usinjectn'\n",
       "\\item 'usgels'\n",
       "\\item 'usrhythm'\n",
       "\\item 'uswithdrw'\n",
       "\\item 'usimplant'\n",
       "\\item 'usother'\n",
       "\\item 'usconptch'\n",
       "\\item 'usnotused'\n",
       "\\item 'parents4'\n",
       "\\item 'sibpos2'\n",
       "\\item 'siblive'\n",
       "\\item 'talkmapa'\n",
       "\\item 'sexedudoc'\n",
       "\\item 'sexeduintad'\n",
       "\\item 'sexedusch'\n",
       "\\item 'sexeduinto'\n",
       "\\item 'sexedubmn'\n",
       "\\item 'sexedufrn'\n",
       "\\item 'sexedutvid'\n",
       "\\item 'sexedumum'\n",
       "\\item 'sexedudad'\n",
       "\\item 'sexedufsp'\n",
       "\\item 'sexeduintpn'\n",
       "\\item 'sexedupor'\n",
       "\\item 'sexedubsis'\n",
       "\\item 'sexeduoth'\n",
       "\\item 'sexeduani'\n",
       "\\item 'sexedurel'\n",
       "\\item 'sexeduofri'\n",
       "\\item 'sexeduofrn'\n",
       "\\item 'sexeduexp'\n",
       "\\item 'sexedufil'\n",
       "\\item 'sexeduedc'\n",
       "\\item 'rwadult'\n",
       "\\item 'rwcasual'\n",
       "\\item 'rwsamm'\n",
       "\\item 'rwsamf'\n",
       "\\item 'snnolov'\n",
       "\\item 'snpres'\n",
       "\\item 'snold'\n",
       "\\item 'snsexdrv'\n",
       "\\item 'snmedia'\n",
       "\\item 'snearly'\n",
       "\\item 'sngayadp'\n",
       "\\item 'snlesadp'\n",
       "\\item 'snsexed'\n",
       "\\item 'uagesex'\n",
       "\\item 'attconservative'\n",
       "\\item 'religimp'\n",
       "\\item 'whirel'\n",
       "\\item 'oftrelig'\n",
       "\\item 'ractivhi3'\n",
       "\\item 'employed'\n",
       "\\item 'rempstat'\n",
       "\\item 'rnssecgp\\_6'\n",
       "\\item 'rnssecgp\\_4'\n",
       "\\item 'income'\n",
       "\\item 'parsc3'\n",
       "\\item 'educ3'\n",
       "\\item 'netacc'\n",
       "\\item 'adj\\_imd\\_quintile'\n",
       "\\item 'qimd'\n",
       "\\item 'qwimd'\n",
       "\\item 'qsimd'\n",
       "\\item 'tenure'\n",
       "\\item 'livehere'\n",
       "\\item 'gor\\_l'\n",
       "\\item 'urindew'\n",
       "\\item 'urindsc'\n",
       "\\end{enumerate*}\n"
      ],
      "text/markdown": [
       "1. 'sin2'\n",
       "2. 'dateyoi'\n",
       "3. 'total_wt'\n",
       "4. 'psu_scrm'\n",
       "5. 'strata'\n",
       "6. 'stratagrp'\n",
       "7. 'stratagrp2'\n",
       "8. 'stratagrp3'\n",
       "9. 'dage'\n",
       "10. 'rdoby'\n",
       "11. 'rsex'\n",
       "12. 'ethnicgrp'\n",
       "13. 'sexid'\n",
       "14. 'health'\n",
       "15. 'disabil2'\n",
       "16. 'bodymass'\n",
       "17. 'drink'\n",
       "18. 'alcohol2'\n",
       "19. 'smoking'\n",
       "20. 'drcannabis'\n",
       "21. 'drampheta'\n",
       "22. 'drcocaine'\n",
       "23. 'drcrack'\n",
       "24. 'drecstasy'\n",
       "25. 'drnonihero'\n",
       "26. 'dracidlsd'\n",
       "27. 'drcrysmeth'\n",
       "28. 'dramylnit'\n",
       "29. 'drothnonpre'\n",
       "30. 'inject2'\n",
       "31. 'drugsyr2'\n",
       "32. 'mscore'\n",
       "33. 'depscr'\n",
       "34. 'attscale'\n",
       "35. 'expscale'\n",
       "36. 'hetlife'\n",
       "37. 'samlife'\n",
       "38. 'marstat'\n",
       "39. 'relstat'\n",
       "40. 'relstatgp'\n",
       "41. 'relstatgp2'\n",
       "42. 'relsat'\n",
       "43. 'nochall'\n",
       "44. 'dage1ch'\n",
       "45. 'age1ch'\n",
       "46. 'child18'\n",
       "47. 'nochb435'\n",
       "48. 'adopchld'\n",
       "49. 'stepchld'\n",
       "50. 'fpsorcg'\n",
       "51. 'fppref2'\n",
       "52. 'usfsteril'\n",
       "53. 'usmsteril'\n",
       "54. 'usconpill'\n",
       "55. 'uscondom'\n",
       "56. 'usfemidom'\n",
       "57. 'usemcypill'\n",
       "58. 'usemcyiud'\n",
       "59. 'uscoil'\n",
       "60. 'usmirena'\n",
       "61. 'uscap'\n",
       "62. 'usinjectn'\n",
       "63. 'usgels'\n",
       "64. 'usrhythm'\n",
       "65. 'uswithdrw'\n",
       "66. 'usimplant'\n",
       "67. 'usother'\n",
       "68. 'usconptch'\n",
       "69. 'usnotused'\n",
       "70. 'parents4'\n",
       "71. 'sibpos2'\n",
       "72. 'siblive'\n",
       "73. 'talkmapa'\n",
       "74. 'sexedudoc'\n",
       "75. 'sexeduintad'\n",
       "76. 'sexedusch'\n",
       "77. 'sexeduinto'\n",
       "78. 'sexedubmn'\n",
       "79. 'sexedufrn'\n",
       "80. 'sexedutvid'\n",
       "81. 'sexedumum'\n",
       "82. 'sexedudad'\n",
       "83. 'sexedufsp'\n",
       "84. 'sexeduintpn'\n",
       "85. 'sexedupor'\n",
       "86. 'sexedubsis'\n",
       "87. 'sexeduoth'\n",
       "88. 'sexeduani'\n",
       "89. 'sexedurel'\n",
       "90. 'sexeduofri'\n",
       "91. 'sexeduofrn'\n",
       "92. 'sexeduexp'\n",
       "93. 'sexedufil'\n",
       "94. 'sexeduedc'\n",
       "95. 'rwadult'\n",
       "96. 'rwcasual'\n",
       "97. 'rwsamm'\n",
       "98. 'rwsamf'\n",
       "99. 'snnolov'\n",
       "100. 'snpres'\n",
       "101. 'snold'\n",
       "102. 'snsexdrv'\n",
       "103. 'snmedia'\n",
       "104. 'snearly'\n",
       "105. 'sngayadp'\n",
       "106. 'snlesadp'\n",
       "107. 'snsexed'\n",
       "108. 'uagesex'\n",
       "109. 'attconservative'\n",
       "110. 'religimp'\n",
       "111. 'whirel'\n",
       "112. 'oftrelig'\n",
       "113. 'ractivhi3'\n",
       "114. 'employed'\n",
       "115. 'rempstat'\n",
       "116. 'rnssecgp_6'\n",
       "117. 'rnssecgp_4'\n",
       "118. 'income'\n",
       "119. 'parsc3'\n",
       "120. 'educ3'\n",
       "121. 'netacc'\n",
       "122. 'adj_imd_quintile'\n",
       "123. 'qimd'\n",
       "124. 'qwimd'\n",
       "125. 'qsimd'\n",
       "126. 'tenure'\n",
       "127. 'livehere'\n",
       "128. 'gor_l'\n",
       "129. 'urindew'\n",
       "130. 'urindsc'\n",
       "\n",
       "\n"
      ],
      "text/plain": [
       "  [1] \"sin2\"             \"dateyoi\"          \"total_wt\"        \n",
       "  [4] \"psu_scrm\"         \"strata\"           \"stratagrp\"       \n",
       "  [7] \"stratagrp2\"       \"stratagrp3\"       \"dage\"            \n",
       " [10] \"rdoby\"            \"rsex\"             \"ethnicgrp\"       \n",
       " [13] \"sexid\"            \"health\"           \"disabil2\"        \n",
       " [16] \"bodymass\"         \"drink\"            \"alcohol2\"        \n",
       " [19] \"smoking\"          \"drcannabis\"       \"drampheta\"       \n",
       " [22] \"drcocaine\"        \"drcrack\"          \"drecstasy\"       \n",
       " [25] \"drnonihero\"       \"dracidlsd\"        \"drcrysmeth\"      \n",
       " [28] \"dramylnit\"        \"drothnonpre\"      \"inject2\"         \n",
       " [31] \"drugsyr2\"         \"mscore\"           \"depscr\"          \n",
       " [34] \"attscale\"         \"expscale\"         \"hetlife\"         \n",
       " [37] \"samlife\"          \"marstat\"          \"relstat\"         \n",
       " [40] \"relstatgp\"        \"relstatgp2\"       \"relsat\"          \n",
       " [43] \"nochall\"          \"dage1ch\"          \"age1ch\"          \n",
       " [46] \"child18\"          \"nochb435\"         \"adopchld\"        \n",
       " [49] \"stepchld\"         \"fpsorcg\"          \"fppref2\"         \n",
       " [52] \"usfsteril\"        \"usmsteril\"        \"usconpill\"       \n",
       " [55] \"uscondom\"         \"usfemidom\"        \"usemcypill\"      \n",
       " [58] \"usemcyiud\"        \"uscoil\"           \"usmirena\"        \n",
       " [61] \"uscap\"            \"usinjectn\"        \"usgels\"          \n",
       " [64] \"usrhythm\"         \"uswithdrw\"        \"usimplant\"       \n",
       " [67] \"usother\"          \"usconptch\"        \"usnotused\"       \n",
       " [70] \"parents4\"         \"sibpos2\"          \"siblive\"         \n",
       " [73] \"talkmapa\"         \"sexedudoc\"        \"sexeduintad\"     \n",
       " [76] \"sexedusch\"        \"sexeduinto\"       \"sexedubmn\"       \n",
       " [79] \"sexedufrn\"        \"sexedutvid\"       \"sexedumum\"       \n",
       " [82] \"sexedudad\"        \"sexedufsp\"        \"sexeduintpn\"     \n",
       " [85] \"sexedupor\"        \"sexedubsis\"       \"sexeduoth\"       \n",
       " [88] \"sexeduani\"        \"sexedurel\"        \"sexeduofri\"      \n",
       " [91] \"sexeduofrn\"       \"sexeduexp\"        \"sexedufil\"       \n",
       " [94] \"sexeduedc\"        \"rwadult\"          \"rwcasual\"        \n",
       " [97] \"rwsamm\"           \"rwsamf\"           \"snnolov\"         \n",
       "[100] \"snpres\"           \"snold\"            \"snsexdrv\"        \n",
       "[103] \"snmedia\"          \"snearly\"          \"sngayadp\"        \n",
       "[106] \"snlesadp\"         \"snsexed\"          \"uagesex\"         \n",
       "[109] \"attconservative\"  \"religimp\"         \"whirel\"          \n",
       "[112] \"oftrelig\"         \"ractivhi3\"        \"employed\"        \n",
       "[115] \"rempstat\"         \"rnssecgp_6\"       \"rnssecgp_4\"      \n",
       "[118] \"income\"           \"parsc3\"           \"educ3\"           \n",
       "[121] \"netacc\"           \"adj_imd_quintile\" \"qimd\"            \n",
       "[124] \"qwimd\"            \"qsimd\"            \"tenure\"          \n",
       "[127] \"livehere\"         \"gor_l\"            \"urindew\"         \n",
       "[130] \"urindsc\"         "
      ]
     },
     "metadata": {},
     "output_type": "display_data"
    }
   ],
   "source": [
    "names(natsal)"
   ]
  },
  {
   "cell_type": "markdown",
   "id": "8b4f54dd",
   "metadata": {},
   "source": [
    "### Drop unnecessary variables"
   ]
  },
  {
   "cell_type": "markdown",
   "id": "fb3332f6",
   "metadata": {},
   "source": [
    "We do not need survey methodology variables or other miscellaneous variables in the final dataset."
   ]
  },
  {
   "cell_type": "raw",
   "id": "58a5624b",
   "metadata": {},
   "source": [
    "drops <- c('sin2','dateyoi','total_wt','psu_scrm','strata','stratagrp','stratagrp2','stratagrp3', 'gor_l', 'urindew',\n",
    "          'tenure', 'livehere', 'adj_imd_quintile', 'qimd', 'qwimd', 'qsimd')"
   ]
  },
  {
   "cell_type": "raw",
   "id": "b5e265ac",
   "metadata": {},
   "source": [
    "natsal_subset <- natsal[ , !(names(natsal) %in% drops)]"
   ]
  },
  {
   "cell_type": "raw",
   "id": "7d007dc8",
   "metadata": {},
   "source": [
    "names(natsal_subset)"
   ]
  },
  {
   "cell_type": "markdown",
   "id": "08e77ecf",
   "metadata": {},
   "source": [
    "### Missing values"
   ]
  },
  {
   "cell_type": "markdown",
   "id": "50536a2f",
   "metadata": {},
   "source": [
    "It is important that missing values are clearly identified in datasets: it is not good practice to simply leave a cell blank in a spreadsheet for example. That is why you will see specific codes used to represent missing values in social surveys. \n",
    "\n",
    "For instance, consider the `dage1ch` variable in the *Natsal* dataset, which captures the age at which an individual had their first child. Clearly this question is not relevant to people without a child, and it is also plausible that individuals will not want to answer this question for a number of reasons. Therefore we need a consistent and sensible way of identifying the individuals that did not provide / have information for this variable."
   ]
  },
  {
   "cell_type": "code",
   "execution_count": 14,
   "id": "d74c2e32",
   "metadata": {},
   "outputs": [
    {
     "data": {
      "text/plain": [
       "   Min. 1st Qu.  Median    Mean 3rd Qu.    Max. \n",
       "   -1.0    -1.0    18.0    15.3    25.0    99.0 "
      ]
     },
     "metadata": {},
     "output_type": "display_data"
    }
   ],
   "source": [
    "summary(natsal$dage1ch)"
   ]
  },
  {
   "cell_type": "markdown",
   "id": "b5727cad",
   "metadata": {},
   "source": [
    "Note the values `-1` and `99`: after consulting the [codebook](./codebook/8735_natsal_teaching_codebook_v1.pdf) we see that these values represent the \"Not applicable\" and \"Not answered\" respectively."
   ]
  },
  {
   "cell_type": "markdown",
   "id": "9a3fbb1b",
   "metadata": {},
   "source": [
    "You may wonder why I'm labouring this point. Well the crux of the matter is this: while we know that `-1` and `99` represent missing values, *R* does not! Therefore these values are included in any analyses we perform using this variable i.e., the median age is 18. Watch what happens when we tell *R* how to handle missing values:"
   ]
  },
  {
   "cell_type": "code",
   "execution_count": 16,
   "id": "e9a445dc",
   "metadata": {},
   "outputs": [],
   "source": [
    "natsal$dage1ch[natsal$dage1ch==-1 | natsal$dage1ch==99] <- NA # convert \"-1\" and \"99\" to missing"
   ]
  },
  {
   "cell_type": "code",
   "execution_count": 18,
   "id": "dbc5d2ae",
   "metadata": {},
   "outputs": [
    {
     "data": {
      "text/plain": [
       "   Min. 1st Qu.  Median    Mean 3rd Qu.    Max.    NA's \n",
       "  15.00   21.00   24.00   24.88   28.00   40.00    7361 "
      ]
     },
     "metadata": {},
     "output_type": "display_data"
    }
   ],
   "source": [
    "summary(natsal$dage1ch)"
   ]
  },
  {
   "cell_type": "markdown",
   "id": "225543bc",
   "metadata": {},
   "source": [
    "The median age (and the other summaries) are now more accurate as these exclude the invalid values."
   ]
  },
  {
   "cell_type": "markdown",
   "id": "12258a44",
   "metadata": {},
   "source": [
    "In *R* missing values are recorded as `NA`."
   ]
  },
  {
   "cell_type": "markdown",
   "id": "6170efd5",
   "metadata": {},
   "source": [
    "### Creating variables"
   ]
  },
  {
   "cell_type": "markdown",
   "id": "a9f87b6d",
   "metadata": {},
   "source": [
    "Often we may want to create new variables so that we do not overwrite existing variables. Or we may want to create a new variable that is a derivation of an existing variable e.g., age groups based on specific age values."
   ]
  },
  {
   "cell_type": "markdown",
   "id": "b106b478",
   "metadata": {},
   "source": [
    "#### Creating a copy of an existing variable"
   ]
  },
  {
   "cell_type": "code",
   "execution_count": 19,
   "id": "d9732855",
   "metadata": {},
   "outputs": [],
   "source": [
    "natsal$dage1ch_copy <- natsal$dage1ch"
   ]
  },
  {
   "cell_type": "code",
   "execution_count": 20,
   "id": "de74403d",
   "metadata": {},
   "outputs": [
    {
     "data": {
      "text/plain": [
       "   Min. 1st Qu.  Median    Mean 3rd Qu.    Max.    NA's \n",
       "  15.00   21.00   24.00   24.88   28.00   40.00    7361 "
      ]
     },
     "metadata": {},
     "output_type": "display_data"
    }
   ],
   "source": [
    "summary(natsal$dage1ch_copy)"
   ]
  },
  {
   "cell_type": "code",
   "execution_count": 21,
   "id": "aa5231db",
   "metadata": {},
   "outputs": [
    {
     "data": {
      "text/plain": [
       "   Min. 1st Qu.  Median    Mean 3rd Qu.    Max.    NA's \n",
       "  15.00   21.00   24.00   24.88   28.00   40.00    7361 "
      ]
     },
     "metadata": {},
     "output_type": "display_data"
    }
   ],
   "source": [
    "summary(natsal$dage1ch)"
   ]
  },
  {
   "cell_type": "markdown",
   "id": "92057ff2",
   "metadata": {},
   "source": [
    "#### Create a derived variable"
   ]
  },
  {
   "cell_type": "code",
   "execution_count": 22,
   "id": "c838b590",
   "metadata": {},
   "outputs": [],
   "source": [
    "natsal$dage1ch_grp <- natsal$dage1ch"
   ]
  },
  {
   "cell_type": "code",
   "execution_count": null,
   "id": "baa43991",
   "metadata": {},
   "outputs": [],
   "source": [
    "natsal$dage1ch_grp[]"
   ]
  },
  {
   "cell_type": "markdown",
   "id": "thermal-valve",
   "metadata": {},
   "source": [
    "### Labelling variables"
   ]
  },
  {
   "cell_type": "markdown",
   "id": "faced-dietary",
   "metadata": {},
   "source": [
    "This dataset is in good shape as it has been prepared with teaching in mind. However one way it can be improved is by labelling values of the categorical variables.\n",
    "\n",
    "There are two ways that categorical variables can be labelled:\n",
    "* Including missing values\n",
    "* Excluding missing values"
   ]
  },
  {
   "cell_type": "markdown",
   "id": "bfb12ec0",
   "metadata": {},
   "source": [
    "Let's say we're interested in the `religimp` variable. The values of this variable are stored as numbers like so:"
   ]
  },
  {
   "cell_type": "code",
   "execution_count": 3,
   "id": "e2f24f32",
   "metadata": {},
   "outputs": [
    {
     "data": {
      "text/plain": [
       "\n",
       "   1    2    3    4    9 \n",
       "2163 3773 4414 4755   57 "
      ]
     },
     "metadata": {},
     "output_type": "display_data"
    }
   ],
   "source": [
    "table(natsal$religimp)"
   ]
  },
  {
   "cell_type": "markdown",
   "id": "ea4d9fe3",
   "metadata": {},
   "source": [
    "While the [codebook](./codebook/8735_natsal_teaching_codebook_v1.pdf) tells us what categories these numbers represent, it would be more efficient and legible if we attached labels to these numbers in *R*."
   ]
  },
  {
   "cell_type": "markdown",
   "id": "5d48efa9",
   "metadata": {},
   "source": [
    "#### Including missing values"
   ]
  },
  {
   "cell_type": "code",
   "execution_count": 9,
   "id": "429828d3",
   "metadata": {},
   "outputs": [],
   "source": [
    "natsal$religimp_miss <- factor(natsal$religimp, levels = c(1,2,3,4, 9), labels = c(\"Very important\", \"Fairly important\", \n",
    "                                                                                         \"Not very important\", \"Not important at all\",\n",
    "                                                                                          \"Not answered\"))"
   ]
  },
  {
   "cell_type": "code",
   "execution_count": 10,
   "id": "fc4d465a",
   "metadata": {},
   "outputs": [
    {
     "data": {
      "text/plain": [
       "\n",
       "      Very important     Fairly important   Not very important \n",
       "                2163                 3773                 4414 \n",
       "Not important at all         Not answered \n",
       "                4755                   57 "
      ]
     },
     "metadata": {},
     "output_type": "display_data"
    }
   ],
   "source": [
    "table(natsal$religimp_miss)"
   ]
  },
  {
   "cell_type": "markdown",
   "id": "dad83740",
   "metadata": {},
   "source": [
    "In general it is better to present analyses that **exclude** missing values (e.g., \"Not answered\" / \"Not applicable\" etc), while making a note of how many missing values there are in case you want to report this when writing up."
   ]
  },
  {
   "cell_type": "markdown",
   "id": "8b1e9550",
   "metadata": {},
   "source": [
    "#### Excluding missing values"
   ]
  },
  {
   "cell_type": "code",
   "execution_count": 12,
   "id": "sweet-vertex",
   "metadata": {},
   "outputs": [],
   "source": [
    "natsal$religimp <- factor(natsal$religimp, levels = c(1,2,3,4), labels = c(\"Very important\", \"Fairly important\", \n",
    "                                                                                         \"Not very important\", \"Not important at all\"))"
   ]
  },
  {
   "cell_type": "code",
   "execution_count": 13,
   "id": "breathing-portable",
   "metadata": {},
   "outputs": [
    {
     "data": {
      "text/plain": [
       "\n",
       "      Very important     Fairly important   Not very important \n",
       "                2163                 3773                 4414 \n",
       "Not important at all \n",
       "                4755 "
      ]
     },
     "metadata": {},
     "output_type": "display_data"
    }
   ],
   "source": [
    "table(natsal$religimp)"
   ]
  },
  {
   "cell_type": "markdown",
   "id": "90c88a7f",
   "metadata": {},
   "source": [
    "#### `agrp`"
   ]
  },
  {
   "cell_type": "code",
   "execution_count": null,
   "id": "impressive-occasions",
   "metadata": {},
   "outputs": [],
   "source": [
    "natsal_clean$agrp <- factor(natsal_clean$agrp, levels = c(1,2,3,4,5,6), labels = c(\"16-24\", \"25-34\", \"35-44\", \n",
    "                                                                                   \"45-54\", \"55-64\", \"65-74\"))"
   ]
  },
  {
   "cell_type": "code",
   "execution_count": null,
   "id": "postal-apparel",
   "metadata": {},
   "outputs": [],
   "source": [
    "table(natsal_clean$agrp)"
   ]
  },
  {
   "cell_type": "markdown",
   "id": "36e3692c",
   "metadata": {},
   "source": [
    "#### `rsex`"
   ]
  },
  {
   "cell_type": "code",
   "execution_count": null,
   "id": "flexible-blues",
   "metadata": {},
   "outputs": [],
   "source": [
    "natsal_clean$rsex <- factor(natsal_clean$rsex, levels = c(1,2), labels = c(\"Male\", \"Female\"))"
   ]
  },
  {
   "cell_type": "code",
   "execution_count": null,
   "id": "effective-standing",
   "metadata": {},
   "outputs": [],
   "source": [
    "table(natsal_clean$rsex)"
   ]
  },
  {
   "cell_type": "markdown",
   "id": "c6dc13af",
   "metadata": {},
   "source": [
    "#### `ethnicgrp`"
   ]
  },
  {
   "cell_type": "code",
   "execution_count": null,
   "id": "absolute-sussex",
   "metadata": {},
   "outputs": [],
   "source": [
    "natsal_clean$ethnicgrp <- factor(natsal_clean$ethnicgrp, levels = c(1,2,9), labels = c(\"White\", \"Non-white\", \"Not answered\"))"
   ]
  },
  {
   "cell_type": "code",
   "execution_count": null,
   "id": "educational-democrat",
   "metadata": {},
   "outputs": [],
   "source": [
    "table(natsal_clean$ethnicgrp)"
   ]
  },
  {
   "cell_type": "markdown",
   "id": "039d9ce8",
   "metadata": {},
   "source": [
    "#### `sexid`"
   ]
  },
  {
   "cell_type": "code",
   "execution_count": null,
   "id": "04f8bcd2",
   "metadata": {},
   "outputs": [],
   "source": [
    "natsal_clean$sexid <- factor(natsal_clean$sexid, levels = c(1,2,3,4,9), labels = c(\"Heterosexual/straight\", \"Gay/lesbian\", \n",
    "                                                                                   \"Bisexual\", \"Other\", \"Not answered\"))"
   ]
  },
  {
   "cell_type": "code",
   "execution_count": null,
   "id": "9182309b",
   "metadata": {},
   "outputs": [],
   "source": [
    "table(natsal_clean$sexid)"
   ]
  },
  {
   "cell_type": "markdown",
   "id": "12bea62a",
   "metadata": {},
   "source": [
    "### Health and Disability"
   ]
  },
  {
   "cell_type": "markdown",
   "id": "524d6217",
   "metadata": {},
   "source": [
    "#### `health`"
   ]
  },
  {
   "cell_type": "code",
   "execution_count": null,
   "id": "6e002273",
   "metadata": {},
   "outputs": [],
   "source": [
    "natsal_clean$health <- factor(natsal_clean$health, levels = c(1,2,3,4,5,9), labels = c(\"Very good\", \"Good\", \n",
    "                                                                                   \"Fair\", \"Bad\", \"Very bad\", \"Not answered\"))"
   ]
  },
  {
   "cell_type": "code",
   "execution_count": null,
   "id": "5c745f52",
   "metadata": {},
   "outputs": [],
   "source": [
    "table(natsal_clean$health)"
   ]
  },
  {
   "cell_type": "markdown",
   "id": "5ff48501",
   "metadata": {},
   "source": [
    "#### `disabil2`"
   ]
  },
  {
   "cell_type": "code",
   "execution_count": null,
   "id": "1ca21a69",
   "metadata": {},
   "outputs": [],
   "source": [
    "natsal_clean$disabil2 <- factor(natsal_clean$disabil2, levels = c(1,2,3,9), labels = c(\"None\", \"Non-limiting\", \n",
    "                                                                                   \"Limiting\", \"Not answered\"))"
   ]
  },
  {
   "cell_type": "code",
   "execution_count": null,
   "id": "c136f94e",
   "metadata": {},
   "outputs": [],
   "source": [
    "table(natsal_clean$disabil2)"
   ]
  },
  {
   "cell_type": "markdown",
   "id": "2e47d55c",
   "metadata": {},
   "source": [
    "### Alcohol and smoking"
   ]
  },
  {
   "cell_type": "markdown",
   "id": "7f50c2fd",
   "metadata": {},
   "source": [
    "#### `drink`"
   ]
  },
  {
   "cell_type": "code",
   "execution_count": null,
   "id": "abad28bf",
   "metadata": {},
   "outputs": [],
   "source": [
    "natsal_clean$drink <- factor(natsal_clean$drink, levels = c(1,2,9), labels = c(\"Yes\", \"No\", \"Not answered\"))"
   ]
  },
  {
   "cell_type": "code",
   "execution_count": null,
   "id": "68236ec3",
   "metadata": {},
   "outputs": [],
   "source": [
    "table(natsal_clean$drink)"
   ]
  },
  {
   "cell_type": "markdown",
   "id": "f57dd244",
   "metadata": {},
   "source": [
    "#### `alcohol2`"
   ]
  },
  {
   "cell_type": "code",
   "execution_count": null,
   "id": "ce683257",
   "metadata": {},
   "outputs": [],
   "source": [
    "natsal_clean$alcohol2 <- factor(natsal_clean$alcohol2, levels = c(0,1,2,9), labels = c(\"None\", \"Not more than recommended\", \n",
    "                                                                                       \"More than recommended\", \"Not answered\"))"
   ]
  },
  {
   "cell_type": "code",
   "execution_count": null,
   "id": "3984c9ea",
   "metadata": {},
   "outputs": [],
   "source": [
    "table(natsal_clean$alcohol2)"
   ]
  },
  {
   "cell_type": "markdown",
   "id": "7a16f1a2",
   "metadata": {},
   "source": [
    "#### `smoking`"
   ]
  },
  {
   "cell_type": "code",
   "execution_count": null,
   "id": "42eb688a",
   "metadata": {},
   "outputs": [],
   "source": [
    "natsal_clean$smoking <- factor(natsal_clean$smoking, levels = c(1,2,3,4,9), labels = c(\"Non-smoker\", \"Ex-smoker\", \n",
    "                                                                                       \"Light smoker\", \"Heavy smoker\", \"Not answered\"))"
   ]
  },
  {
   "cell_type": "code",
   "execution_count": null,
   "id": "d741c1c5",
   "metadata": {},
   "outputs": [],
   "source": [
    "table(natsal_clean$smoking)"
   ]
  },
  {
   "cell_type": "markdown",
   "id": "b0db6fa7",
   "metadata": {},
   "source": [
    "### Drugs"
   ]
  },
  {
   "cell_type": "markdown",
   "id": "7e59546a",
   "metadata": {},
   "source": [
    "#### `drcannabis`"
   ]
  },
  {
   "cell_type": "code",
   "execution_count": null,
   "id": "bde296d4",
   "metadata": {},
   "outputs": [],
   "source": [
    "natsal_clean$drcannabis <- factor(natsal_clean$drcannabis, levels = c(0,1,-1,9), labels = c(\"No\", \"Yes\", \n",
    "                                                                                            \"Not applicable\", \"Not answered\"))"
   ]
  },
  {
   "cell_type": "code",
   "execution_count": null,
   "id": "5541b76b",
   "metadata": {},
   "outputs": [],
   "source": [
    "table(natsal_clean$drcannabis)"
   ]
  },
  {
   "cell_type": "markdown",
   "id": "06cfc99a",
   "metadata": {},
   "source": [
    "#### `drampheta`"
   ]
  },
  {
   "cell_type": "code",
   "execution_count": null,
   "id": "856e9b63",
   "metadata": {},
   "outputs": [],
   "source": [
    "natsal_clean$drampheta <- factor(natsal_clean$drampheta, levels = c(0,1,-1,9), labels = c(\"No\", \"Yes\", \n",
    "                                                                                            \"Not applicable\", \"Not answered\"))"
   ]
  },
  {
   "cell_type": "code",
   "execution_count": null,
   "id": "9cd85f4c",
   "metadata": {},
   "outputs": [],
   "source": [
    "table(natsal_clean$drampheta)"
   ]
  },
  {
   "cell_type": "markdown",
   "id": "17f29dbf",
   "metadata": {},
   "source": [
    "#### `drcocaine`"
   ]
  },
  {
   "cell_type": "code",
   "execution_count": null,
   "id": "48db0295",
   "metadata": {},
   "outputs": [],
   "source": [
    "natsal_clean$drcocaine <- factor(natsal_clean$drcocaine, levels = c(0,1,-1,9), labels = c(\"No\", \"Yes\", \n",
    "                                                                                            \"Not applicable\", \"Not answered\"))"
   ]
  },
  {
   "cell_type": "code",
   "execution_count": null,
   "id": "a43d8019",
   "metadata": {},
   "outputs": [],
   "source": [
    "table(natsal_clean$drcocaine)"
   ]
  },
  {
   "cell_type": "markdown",
   "id": "31d4a7b6",
   "metadata": {},
   "source": [
    "#### `drcrack`"
   ]
  },
  {
   "cell_type": "code",
   "execution_count": null,
   "id": "16fc267c",
   "metadata": {},
   "outputs": [],
   "source": [
    "natsal_clean$drcrack <- factor(natsal_clean$drcrack, levels = c(0,1,-1,9), labels = c(\"No\", \"Yes\", \n",
    "                                                                                            \"Not applicable\", \"Not answered\"))"
   ]
  },
  {
   "cell_type": "code",
   "execution_count": null,
   "id": "76a165e9",
   "metadata": {},
   "outputs": [],
   "source": [
    "table(natsal_clean$drcrack)"
   ]
  },
  {
   "cell_type": "markdown",
   "id": "a441a9bd",
   "metadata": {},
   "source": [
    "#### `drecstasy`"
   ]
  },
  {
   "cell_type": "code",
   "execution_count": null,
   "id": "2eb70700",
   "metadata": {},
   "outputs": [],
   "source": [
    "natsal_clean$drecstasy <- factor(natsal_clean$drecstasy, levels = c(0,1,-1,9), labels = c(\"No\", \"Yes\", \n",
    "                                                                                            \"Not applicable\", \"Not answered\"))"
   ]
  },
  {
   "cell_type": "code",
   "execution_count": null,
   "id": "23bde7eb",
   "metadata": {},
   "outputs": [],
   "source": [
    "table(natsal_clean$drecstasy)"
   ]
  },
  {
   "cell_type": "markdown",
   "id": "de58efd1",
   "metadata": {},
   "source": [
    "#### `drnonihero`"
   ]
  },
  {
   "cell_type": "code",
   "execution_count": null,
   "id": "c4eac19e",
   "metadata": {},
   "outputs": [],
   "source": [
    "natsal_clean$drnonihero <- factor(natsal_clean$drnonihero, levels = c(0,1,-1,9), labels = c(\"No\", \"Yes\", \n",
    "                                                                                            \"Not applicable\", \"Not answered\"))"
   ]
  },
  {
   "cell_type": "code",
   "execution_count": null,
   "id": "8a04a10c",
   "metadata": {},
   "outputs": [],
   "source": [
    "table(natsal_clean$drnonihero)"
   ]
  },
  {
   "cell_type": "markdown",
   "id": "a889aa3c",
   "metadata": {},
   "source": [
    "#### `dracidlsd`"
   ]
  },
  {
   "cell_type": "code",
   "execution_count": null,
   "id": "0d12ac05",
   "metadata": {},
   "outputs": [],
   "source": [
    "natsal_clean$dracidlsd <- factor(natsal_clean$dracidlsd, levels = c(0,1,-1,9), labels = c(\"No\", \"Yes\", \n",
    "                                                                                            \"Not applicable\", \"Not answered\"))"
   ]
  },
  {
   "cell_type": "code",
   "execution_count": null,
   "id": "113ac613",
   "metadata": {},
   "outputs": [],
   "source": [
    "table(natsal_clean$dracidlsd)"
   ]
  },
  {
   "cell_type": "markdown",
   "id": "ebf67fdd",
   "metadata": {},
   "source": [
    "#### `drcrysmeth`"
   ]
  },
  {
   "cell_type": "code",
   "execution_count": null,
   "id": "c9f8420a",
   "metadata": {},
   "outputs": [],
   "source": [
    "natsal_clean$drcrysmeth <- factor(natsal_clean$drcrysmeth, levels = c(0,1,-1,9), labels = c(\"No\", \"Yes\", \n",
    "                                                                                            \"Not applicable\", \"Not answered\"))"
   ]
  },
  {
   "cell_type": "code",
   "execution_count": null,
   "id": "0cdc7bb7",
   "metadata": {},
   "outputs": [],
   "source": [
    "table(natsal_clean$drcrysmeth)"
   ]
  },
  {
   "cell_type": "markdown",
   "id": "4d132c68",
   "metadata": {},
   "source": [
    "#### `dramylnit`"
   ]
  },
  {
   "cell_type": "code",
   "execution_count": null,
   "id": "00cc82a6",
   "metadata": {},
   "outputs": [],
   "source": [
    "natsal_clean$dramylnit <- factor(natsal_clean$dramylnit, levels = c(0,1,-1,9), labels = c(\"No\", \"Yes\", \n",
    "                                                                                            \"Not applicable\", \"Not answered\"))"
   ]
  },
  {
   "cell_type": "code",
   "execution_count": null,
   "id": "b698789c",
   "metadata": {},
   "outputs": [],
   "source": [
    "table(natsal_clean$dramylnit)"
   ]
  },
  {
   "cell_type": "markdown",
   "id": "c6283bcb",
   "metadata": {},
   "source": [
    "#### `drothnonpre`"
   ]
  },
  {
   "cell_type": "code",
   "execution_count": null,
   "id": "0027fd17",
   "metadata": {},
   "outputs": [],
   "source": [
    "natsal_clean$drothnonpre <- factor(natsal_clean$drothnonpre, levels = c(0,1,-1,9), labels = c(\"No\", \"Yes\", \n",
    "                                                                                            \"Not applicable\", \"Not answered\"))"
   ]
  },
  {
   "cell_type": "code",
   "execution_count": null,
   "id": "a0cdb4e3",
   "metadata": {},
   "outputs": [],
   "source": [
    "table(natsal_clean$drothnonpre)"
   ]
  },
  {
   "cell_type": "markdown",
   "id": "90f81200",
   "metadata": {},
   "source": [
    "#### `inject2`"
   ]
  },
  {
   "cell_type": "code",
   "execution_count": null,
   "id": "63cce338",
   "metadata": {},
   "outputs": [],
   "source": [
    "natsal_clean$inject2 <- factor(natsal_clean$inject2, levels = c(1,2,-1,9), labels = c(\"Yes\", \"No\", \n",
    "                                                                                            \"Not applicable\", \"Not answered\"))"
   ]
  },
  {
   "cell_type": "code",
   "execution_count": null,
   "id": "f2582366",
   "metadata": {},
   "outputs": [],
   "source": [
    "table(natsal_clean$inject2)"
   ]
  },
  {
   "cell_type": "markdown",
   "id": "8ec7072f",
   "metadata": {},
   "source": [
    "#### `drugsyr2`"
   ]
  },
  {
   "cell_type": "code",
   "execution_count": null,
   "id": "5c442633",
   "metadata": {},
   "outputs": [],
   "source": [
    "natsal_clean$drugsyr2 <- factor(natsal_clean$drugsyr2, levels = c(0,1,2,-1,9), labels = c(\"No\", \"Yes, cannabis only\",\n",
    "                                                                                          \"Yes, drugs other than cannabis\", \n",
    "                                                                                          \"Not applicable\", \"Not answered\"))"
   ]
  },
  {
   "cell_type": "code",
   "execution_count": null,
   "id": "9aab0c15",
   "metadata": {},
   "outputs": [],
   "source": [
    "table(natsal_clean$drugsyr2)"
   ]
  },
  {
   "cell_type": "markdown",
   "id": "e695da3c",
   "metadata": {},
   "source": [
    "### Depression"
   ]
  },
  {
   "cell_type": "markdown",
   "id": "8ded0c46",
   "metadata": {},
   "source": [
    "#### `mscore`"
   ]
  },
  {
   "cell_type": "code",
   "execution_count": 11,
   "id": "24cf571b",
   "metadata": {},
   "outputs": [],
   "source": [
    "natsal_clean$mscore[natsal_clean$mscore==-1 | natsal_clean$mscore==9] <- NA"
   ]
  },
  {
   "cell_type": "code",
   "execution_count": 12,
   "id": "64bf4954",
   "metadata": {},
   "outputs": [
    {
     "data": {
      "text/plain": [
       "   Min. 1st Qu.  Median    Mean 3rd Qu.    Max.    NA's \n",
       " 0.0000  0.0000  0.0000  0.9541  2.0000  6.0000     681 "
      ]
     },
     "metadata": {},
     "output_type": "display_data"
    }
   ],
   "source": [
    "summary(natsal_clean$mscore)"
   ]
  },
  {
   "cell_type": "markdown",
   "id": "9abc3bc3",
   "metadata": {},
   "source": [
    "#### `depscr`"
   ]
  },
  {
   "cell_type": "code",
   "execution_count": 13,
   "id": "95f75752",
   "metadata": {},
   "outputs": [],
   "source": [
    "natsal_clean$depscr <- factor(natsal_clean$depscr, levels = c(0,1), labels = c(\"Yes\", \"No\"))"
   ]
  },
  {
   "cell_type": "code",
   "execution_count": 14,
   "id": "57e118a6",
   "metadata": {},
   "outputs": [
    {
     "data": {
      "text/plain": [
       "\n",
       "  Yes    No \n",
       "12821  1660 "
      ]
     },
     "metadata": {},
     "output_type": "display_data"
    }
   ],
   "source": [
    "table(natsal_clean$depscr)"
   ]
  },
  {
   "cell_type": "markdown",
   "id": "2c1f125e",
   "metadata": {},
   "source": [
    "### Sexual attraction"
   ]
  },
  {
   "cell_type": "markdown",
   "id": "5a134bd4",
   "metadata": {},
   "source": [
    "#### `attscale`"
   ]
  },
  {
   "cell_type": "code",
   "execution_count": 15,
   "id": "9f7183e5",
   "metadata": {},
   "outputs": [],
   "source": [
    "natsal_clean$attscale <- factor(natsal_clean$attscale, levels = c(1,2,3,4,5,6), labels = c(\"Opposite sex only\", \n",
    "                                                                                           \"More often opposite sex, and at least once same sex\",\n",
    "                                                                                          \"About equally often to opposite sex and same sex\",\n",
    "                                                                                          \"More often same sex, and at least once opposite sex\",\n",
    "                                                                                          \"Same sex only\",\n",
    "                                                                                          \"Never felt sexually attracted to anyone at all\"))"
   ]
  },
  {
   "cell_type": "code",
   "execution_count": 16,
   "id": "b29740a5",
   "metadata": {},
   "outputs": [
    {
     "data": {
      "text/plain": [
       "\n",
       "                                  Opposite sex only \n",
       "                                              13405 \n",
       "More often opposite sex, and at least once same sex \n",
       "                                               1186 \n",
       "   About equally often to opposite sex and same sex \n",
       "                                                168 \n",
       "More often same sex, and at least once opposite sex \n",
       "                                                150 \n",
       "                                      Same sex only \n",
       "                                                104 \n",
       "     Never felt sexually attracted to anyone at all \n",
       "                                                114 "
      ]
     },
     "metadata": {},
     "output_type": "display_data"
    }
   ],
   "source": [
    "table(natsal_clean$attscale)"
   ]
  },
  {
   "cell_type": "markdown",
   "id": "756a520f",
   "metadata": {},
   "source": [
    "#### `expscale`"
   ]
  },
  {
   "cell_type": "code",
   "execution_count": 17,
   "id": "a264d70a",
   "metadata": {},
   "outputs": [],
   "source": [
    "natsal_clean$expscale <- factor(natsal_clean$expscale, levels = c(1,2,3,4,5,6), labels = c(\"Opposite sex only\", \n",
    "                                                                                           \"More often opposite sex, and at least once same sex\",\n",
    "                                                                                          \"About equally often to opposite sex and same sex\",\n",
    "                                                                                          \"More often same sex, and at least once opposite sex\",\n",
    "                                                                                          \"Same sex only\",\n",
    "                                                                                          \"Never felt sexually attracted to anyone at all\"))"
   ]
  },
  {
   "cell_type": "code",
   "execution_count": 18,
   "id": "e9e85c93",
   "metadata": {},
   "outputs": [
    {
     "data": {
      "text/plain": [
       "\n",
       "                                  Opposite sex only \n",
       "                                              13218 \n",
       "More often opposite sex, and at least once same sex \n",
       "                                               1296 \n",
       "   About equally often to opposite sex and same sex \n",
       "                                                 82 \n",
       "More often same sex, and at least once opposite sex \n",
       "                                                142 \n",
       "                                      Same sex only \n",
       "                                                 72 \n",
       "     Never felt sexually attracted to anyone at all \n",
       "                                                296 "
      ]
     },
     "metadata": {},
     "output_type": "display_data"
    }
   ],
   "source": [
    "table(natsal_clean$expscale)"
   ]
  },
  {
   "cell_type": "markdown",
   "id": "7d9b7953",
   "metadata": {},
   "source": [
    "### Number of partners"
   ]
  },
  {
   "cell_type": "markdown",
   "id": "bed65676",
   "metadata": {},
   "source": [
    "#### `hetlife`"
   ]
  },
  {
   "cell_type": "code",
   "execution_count": 21,
   "id": "6c6a14be",
   "metadata": {},
   "outputs": [],
   "source": [
    "natsal_clean$hetlife[natsal_clean$hetlife==-1 | natsal_clean$hetlife>=9995] <- NA"
   ]
  },
  {
   "cell_type": "code",
   "execution_count": 22,
   "id": "c13d2cb0",
   "metadata": {},
   "outputs": [
    {
     "data": {
      "text/plain": [
       "   Min. 1st Qu.  Median    Mean 3rd Qu.    Max.    NA's \n",
       "   0.00    2.00    5.00   10.32   10.00 3300.00     604 "
      ]
     },
     "metadata": {},
     "output_type": "display_data"
    }
   ],
   "source": [
    "summary(natsal_clean$hetlife)"
   ]
  },
  {
   "cell_type": "markdown",
   "id": "cffb8a61",
   "metadata": {},
   "source": [
    "#### `samlife`"
   ]
  },
  {
   "cell_type": "code",
   "execution_count": 23,
   "id": "adbbb07e",
   "metadata": {},
   "outputs": [],
   "source": [
    "natsal_clean$samlife[natsal_clean$samlife==-1 | natsal_clean$samlife>=9995] <- NA"
   ]
  },
  {
   "cell_type": "code",
   "execution_count": 24,
   "id": "f9d4687d",
   "metadata": {},
   "outputs": [
    {
     "data": {
      "text/plain": [
       "     Min.   1st Qu.    Median      Mean   3rd Qu.      Max.      NA's \n",
       "   0.0000    0.0000    0.0000    0.6564    0.0000 1000.0000        56 "
      ]
     },
     "metadata": {},
     "output_type": "display_data"
    }
   ],
   "source": [
    "summary(natsal_clean$samlife)"
   ]
  },
  {
   "cell_type": "markdown",
   "id": "71f261dd",
   "metadata": {},
   "source": [
    "### Marital and Relationship status"
   ]
  },
  {
   "cell_type": "markdown",
   "id": "8815a52d",
   "metadata": {},
   "source": [
    "#### `marstat`"
   ]
  },
  {
   "cell_type": "code",
   "execution_count": 25,
   "id": "82b7f065",
   "metadata": {},
   "outputs": [],
   "source": [
    "natsal_clean$marstat <- factor(natsal_clean$marstat, levels = c(1,2,3,4,5,6,7,8,9), labels = c(\"Single & never married\", \n",
    "                                                                                           \"Married & living with spouse\",\n",
    "                                                                                          \"In registered same-sex civil partnership & living with partner\",\n",
    "                                                                                          \"Separated but still legally married\",\n",
    "                                                                                          \"Divorced\",\n",
    "                                                                                          \"Widowed\",\n",
    "                                                                                              \"Separated but still legally in same-sex civil partnership\",\n",
    "                                                                                              \"Formerly a same-sex civil partner but now legally dissolved\",\n",
    "                                                                                              \"Surviving civil partner, partner having died\"))"
   ]
  },
  {
   "cell_type": "code",
   "execution_count": 26,
   "id": "11d8c068",
   "metadata": {},
   "outputs": [
    {
     "data": {
      "text/plain": [
       "\n",
       "                                        Single & never married \n",
       "                                                          7348 \n",
       "                                  Married & living with spouse \n",
       "                                                          5298 \n",
       "In registered same-sex civil partnership & living with partner \n",
       "                                                            48 \n",
       "                           Separated but still legally married \n",
       "                                                           445 \n",
       "                                                      Divorced \n",
       "                                                          1424 \n",
       "                                                       Widowed \n",
       "                                                           554 \n",
       "     Separated but still legally in same-sex civil partnership \n",
       "                                                             2 \n",
       "   Formerly a same-sex civil partner but now legally dissolved \n",
       "                                                             0 \n",
       "                  Surviving civil partner, partner having died \n",
       "                                                             3 "
      ]
     },
     "metadata": {},
     "output_type": "display_data"
    }
   ],
   "source": [
    "table(natsal_clean$marstat)"
   ]
  }
 ],
 "metadata": {
  "kernelspec": {
   "display_name": "R",
   "language": "R",
   "name": "ir"
  },
  "language_info": {
   "codemirror_mode": "r",
   "file_extension": ".r",
   "mimetype": "text/x-r-source",
   "name": "R",
   "pygments_lexer": "r",
   "version": "4.2.1"
  }
 },
 "nbformat": 4,
 "nbformat_minor": 5
}
