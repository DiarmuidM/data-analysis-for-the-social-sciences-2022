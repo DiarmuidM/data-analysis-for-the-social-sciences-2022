{
 "cells": [
  {
   "cell_type": "markdown",
   "id": "otherwise-cache",
   "metadata": {},
   "source": [
    "<p align=\"right\"><i>Data Analysis for the Social Sciences - Part II - 2022-11-21</i></p>"
   ]
  },
  {
   "cell_type": "markdown",
   "id": "dynamic-conjunction",
   "metadata": {},
   "source": [
    "# Week 11 - Multivariate Data Analysis"
   ]
  },
  {
   "cell_type": "markdown",
   "id": "exclusive-methodology",
   "metadata": {},
   "source": [
    "Welcome to Part II of Data Analysis for the Social Sciences. In this lab session we will conduct a range of multivariate analyses of combinations of categorical and numeric variables."
   ]
  },
  {
   "cell_type": "markdown",
   "id": "48153ff5",
   "metadata": {},
   "source": [
    "We will use real data from the *National Survey of Sexual Attitudes and Lifestyles, 2010-2012 (Natsal-3)*, specifically the open dataset available from the UK Data Service: https://doi.org/10.5255/UKDA-SN-8786-1"
   ]
  },
  {
   "cell_type": "markdown",
   "id": "efe0742a",
   "metadata": {},
   "source": [
    "**Please note for Assessment 2 you are required to use the larger, richer version of *Natsal-3*, which is available on Aula.**"
   ]
  },
  {
   "cell_type": "markdown",
   "id": "scenic-silly",
   "metadata": {},
   "source": [
    "### Aims\n",
    "\n",
    "This lesson - **Multivariate Data Analysis** - has two aims:\n",
    "1. Demonstrate how to analyse associations when there are three or more variables.\n",
    "2. Cultivate your computational skills through the use of the statistical programming langauge *R*. For example, there are a number of opportunities for you to amend or write R syntax (code)."
   ]
  },
  {
   "cell_type": "markdown",
   "id": "judicial-prediction",
   "metadata": {},
   "source": [
    "### Lesson details\n",
    "\n",
    "* **Level**: Introductory, for individuals with minimal prior knowledge or experience of quantitative data analysis.\n",
    "* **Duration**: 45-60 minutes.\n",
    "* **Pre-requisites**: Completed [*Univariate Data Analysis*](./dass-week-9-univariate-analysis-2022-11-07.ipynb) and [*Bivariate Data Analysis*](./dass-week-10-bivariate-analysis-2022-11-14.ipynb) lessons.\n",
    "* **Programming language**: R.\n",
    "* **Learning outcomes**:\n",
    "\t1. Understand how to use R for conducting multivariate data analysis.\n",
    "\t2. Understand how to select and apply common data analysis techniques for categorical and numeric variables."
   ]
  },
  {
   "cell_type": "markdown",
   "id": "terminal-agenda",
   "metadata": {},
   "source": [
    "## Guide to using this resource\n",
    "\n",
    "This learning resource was built using <a href=\"https://jupyter.org/\" target=_blank>Jupyter Notebook</a>, an open-source software application that allows you to mix code, results and narrative in a single document. As <a href=\"https://jupyter4edu.github.io/jupyter-edu-book/\" target=_blank>Barba et al. (2019)</a> espouse:\n",
    "> In a world where every subject matter can have a data-supported treatment, where computational devices are omnipresent and pervasive, the union of natural language and computation creates compelling communication and learning opportunities.\n",
    "\n",
    "If you are familiar with Jupyter notebooks then skip ahead to the main content (*Introduction to multivariate data analysis*). Otherwise, the following is a quick guide to navigating and interacting with the notebook."
   ]
  },
  {
   "cell_type": "markdown",
   "id": "interested-radar",
   "metadata": {},
   "source": [
    "### Interaction\n",
    "\n",
    "**You only need to execute the code that is contained in sections which are marked by `[]`.**\n",
    "\n",
    "To execute a cell, click or double-click the cell and press the `Play` button next to the cell or select the `Run` button on the top toolbar (*Runtime > Run the focused cell*); you can also use the keyboard shortcuts `Shift + Enter` or `Ctrl + Enter`).\n",
    "\n",
    "Try it for yourself:"
   ]
  },
  {
   "cell_type": "code",
   "execution_count": null,
   "id": "dominican-hardware",
   "metadata": {},
   "outputs": [],
   "source": [
    "name <- readline(prompt=\"Enter name: \")\n",
    "print(paste(\"Hi,\", name, \"enjoy learning more about R and multivariate analysis!\"))"
   ]
  },
  {
   "cell_type": "markdown",
   "id": "through-storm",
   "metadata": {},
   "source": [
    "Notebooks are sequential, meaning code should be executed in order (top to bottom). For example, the following code won't work:"
   ]
  },
  {
   "cell_type": "code",
   "execution_count": null,
   "id": "outstanding-bulgaria",
   "metadata": {},
   "outputs": [],
   "source": [
    "x * 5"
   ]
  },
  {
   "cell_type": "markdown",
   "id": "handmade-madagascar",
   "metadata": {},
   "source": [
    "As the error message suggests, there is no object (variable) called `x`, therefore we cannot do any calculations with it. \n",
    "\n",
    "Let's try a sequential approach:"
   ]
  },
  {
   "cell_type": "code",
   "execution_count": null,
   "id": "addressed-assumption",
   "metadata": {},
   "outputs": [],
   "source": [
    "x <- 10 # create an object called 'x' and give it the value '10'"
   ]
  },
  {
   "cell_type": "code",
   "execution_count": null,
   "id": "crucial-implement",
   "metadata": {},
   "outputs": [],
   "source": [
    "x * 5 # multiply 'x' by 5"
   ]
  },
  {
   "cell_type": "markdown",
   "id": "covered-round",
   "metadata": {},
   "source": [
    "### Learn more\n",
    "\n",
    "Jupyter notebooks provide rich, flexible features for conducting and documenting your data analysis workflow. To learn more about additional notebook features, we recommend working through some of the <a href=\"https://github.com/darribas/gds19/blob/master/content/labs/lab_00.ipynb\" target=_blank>materials</a> provided by Dani Arribas-Bel at the University of Liverpool. "
   ]
  },
  {
   "cell_type": "markdown",
   "id": "floppy-escape",
   "metadata": {},
   "source": [
    "### Learner input\n",
    "\n",
    "Throughout the lessons there are times when you need to do the following activities:\n",
    "* **TASK:** A coding task for you to complete (e.g. analyse different variables).\n",
    "* **QUESTION:** A question regarding your interpretation of some code or a technique (e.g. what is the piece of code doing?).\n",
    "* **EXERCISE:** A data analysis challenge for you to complete."
   ]
  },
  {
   "cell_type": "markdown",
   "id": "democratic-office",
   "metadata": {},
   "source": [
    "## Introduction to multivariate data analysis"
   ]
  },
  {
   "cell_type": "markdown",
   "id": "respected-comedy",
   "metadata": {},
   "source": [
    "In the [**Bivariate data analysis** lesson](https://github.com/DiarmuidM/data-analysis-for-the-social-sciences-2022/blob/main/lessons/dass-week-10-bivariate-analysis-2022-11-14.ipynb), we learned how to summarise more than one variable at a time, in particular how to assess whether two variables are related. However as quantitative social scientists are fond of saying: it's a multivariate world. That is, there are often many predictors of an outcome, and simply producing lots of bivariate analyses will not capture the complexity and nuance of a social phenomenon. For example, consider the following research question:\n",
    "* [Is there a difference in the earnings of men and women?](https://doi.org/10.1177%2F0095399716636928)\n",
    "\n",
    "We can produce an answer to this question by comparing data on hourly pay for men and women. Say we find a difference in earnings:\n",
    "* Is this the case for all age groups? Or is it really only older men who earn more than older women, and it is this difference that produces the association between earnings and sex?"
   ]
  },
  {
   "cell_type": "markdown",
   "id": "agricultural-virtue",
   "metadata": {},
   "source": [
    "Thus in this lesson we will focus on making comparisons using three or more variables of interest. This does not involve any new summary statistics or measures of association; instead we repeat our previous techniques but in the context of more variables: e.g., importance of religion across combinations of age group **and** sex."
   ]
  },
  {
   "cell_type": "markdown",
   "id": "conceptual-counter",
   "metadata": {},
   "source": [
    "Specifically, we will cover the following scenarios:\n",
    "1. When you have one numeric variable and two categorical variables.\n",
    "2. When you have two numeric variables and one categorical variable.\n",
    "3. When you have three categorical variables.\n",
    "\n",
    "Let's look at some multivariate techniques of analysis using the *Natsal* data."
   ]
  },
  {
   "cell_type": "markdown",
   "id": "standing-welding",
   "metadata": {},
   "source": [
    "## Multivariate Data Analysis"
   ]
  },
  {
   "cell_type": "markdown",
   "id": "coordinate-jonathan",
   "metadata": {},
   "source": [
    "### Importing data"
   ]
  },
  {
   "cell_type": "markdown",
   "id": "square-knife",
   "metadata": {},
   "source": [
    "The first step is to import the *Natsal-3* data for analysis."
   ]
  },
  {
   "cell_type": "code",
   "execution_count": null,
   "id": "agreed-future",
   "metadata": {},
   "outputs": [],
   "source": [
    "natsal <- read.table(\"https://raw.githubusercontent.com/DiarmuidM/data-analysis-for-the-social-sciences-2022/main/lessons/data/natsal_3_teaching_open.tab\", header=TRUE, na=\"NA\", sep=\"\\t\")\n",
    "head(natsal) # view the first six observations"
   ]
  },
  {
   "cell_type": "markdown",
   "id": "c43ee4ce",
   "metadata": {},
   "source": [
    "### Data cleaning"
   ]
  },
  {
   "cell_type": "markdown",
   "id": "cd78cb2b",
   "metadata": {},
   "source": [
    "There are a number of important steps that need to be executed before proceeding with the analysis:\n",
    "* Handling missing values\n",
    "* Labelling values of categorical variables\n",
    "\n",
    "We cover these techniques in a separate notebook: [Data Cleaning](./dass-natsal-data-cleaning-2022-09-28.ipynb) \n",
    "\n",
    "**Please note that you will be expected to perform these tasks for your own analysis.**"
   ]
  },
  {
   "cell_type": "code",
   "execution_count": null,
   "id": "c069ed87",
   "metadata": {},
   "outputs": [],
   "source": [
    "natsal$religimp <- factor(natsal$religimp, levels = c(1,2,3,4), labels = c(\"Very important\", \"Fairly important\", \n",
    "                                                                            \"Not very important\", \"Not important at all\"))"
   ]
  },
  {
   "cell_type": "code",
   "execution_count": null,
   "id": "7ebf73f4",
   "metadata": {},
   "outputs": [],
   "source": [
    "natsal$agrp <- factor(natsal$agrp, levels = c(1,2,3,4,5,6), labels = c(\"16-24\", \"25-34\", \"35-44\", \"45-54\", \"55-64\", \"65-74\"))"
   ]
  },
  {
   "cell_type": "code",
   "execution_count": null,
   "id": "95f950e4",
   "metadata": {},
   "outputs": [],
   "source": [
    "natsal$rsex <- factor(natsal$rsex, levels = c(1,2), labels = c(\"Male\", \"Female\"))"
   ]
  },
  {
   "cell_type": "code",
   "execution_count": null,
   "id": "neural-shark",
   "metadata": {},
   "outputs": [],
   "source": [
    "natsal$ethnicgrp <- factor(natsal$ethnicgrp, levels = c(1,2), labels = c(\"White\", \"Non-white\"))"
   ]
  },
  {
   "cell_type": "code",
   "execution_count": null,
   "id": "fa5035ef",
   "metadata": {},
   "outputs": [],
   "source": [
    "natsal$dage1ch[natsal$dage1ch==-1 | natsal$dage1ch==99] <- NA # convert \"-1\" and \"99\" to missing"
   ]
  },
  {
   "cell_type": "markdown",
   "id": "wired-found",
   "metadata": {},
   "source": [
    "### One Numeric and Two Categorical"
   ]
  },
  {
   "cell_type": "markdown",
   "id": "complicated-ebony",
   "metadata": {},
   "source": [
    "Let's build up to our multivariate analysis by first showing some univariate and bivariate analyses. Recall the `attconservative` variable is a measure of how conservative a person's attitudes to sex are: scores greater than zero are more conservative, less than zero are more liberal."
   ]
  },
  {
   "cell_type": "code",
   "execution_count": null,
   "id": "equal-shuttle",
   "metadata": {},
   "outputs": [],
   "source": [
    "summary(natsal$attconservative)"
   ]
  },
  {
   "cell_type": "code",
   "execution_count": null,
   "id": "spiritual-tunisia",
   "metadata": {},
   "outputs": [],
   "source": [
    "sd(natsal$attconservative, na.rm=TRUE)"
   ]
  },
  {
   "cell_type": "code",
   "execution_count": null,
   "id": "promotional-horror",
   "metadata": {},
   "outputs": [],
   "source": [
    "hist(natsal$attconservative)"
   ]
  },
  {
   "cell_type": "markdown",
   "id": "junior-recognition",
   "metadata": {},
   "source": [
    "We see that the average attitude is slightly liberal (less than zero) and that most people are within 1 point of this average.\n",
    "\n",
    "Now we want to examine whether the average attitude varies by age group or sex."
   ]
  },
  {
   "cell_type": "code",
   "execution_count": null,
   "id": "convinced-landscape",
   "metadata": {},
   "outputs": [],
   "source": [
    "aggregate(attconservative ~ agrp, data = natsal, mean)"
   ]
  },
  {
   "cell_type": "markdown",
   "id": "abstract-religious",
   "metadata": {},
   "source": [
    "Perhaps predictably, older respondents are more likely to hold conservative attitudes to sex than younger people, regardless of whether we use the mean or median as our measure of central tendency."
   ]
  },
  {
   "cell_type": "code",
   "execution_count": null,
   "id": "proprietary-redhead",
   "metadata": {},
   "outputs": [],
   "source": [
    "aggregate(attconservative ~ rsex, data = natsal, mean)"
   ]
  },
  {
   "cell_type": "markdown",
   "id": "convinced-telephone",
   "metadata": {},
   "source": [
    "It appears men are more liberal than women in the attitudes to sex. What might explain this difference? Well perhaps it is something to do with the age of each respondent: that is, perhaps the men who were surveyed are younger than the women, and we know from our previous analysis that younger people are more likely to hold liberal attitudes. \n",
    "\n",
    "We can test whether this is the case by examining whether the average attitude varies by age group **AND** sex."
   ]
  },
  {
   "cell_type": "code",
   "execution_count": null,
   "id": "equipped-albert",
   "metadata": {},
   "outputs": [],
   "source": [
    "aggregate(attconservative ~ agrp + rsex, data = natsal, mean)"
   ]
  },
  {
   "cell_type": "markdown",
   "id": "classical-maria",
   "metadata": {},
   "source": [
    "The above summary table allows us to compare differences between men and women of the same age group. For example, men aged 65-74 are less conservative (.20) than women aged 65-74 (.71). This is true for all age groups. \n",
    "\n",
    "This suggests that the difference between men and women is present even when we take into account (control for) age group.\n",
    "\n",
    "We can examine whether the association between a respondent's sex and their attitude is weaker or stronger across age groups. For example, looking at the summary table it appears that the difference between men and women is particularly stark in the 55-64 age group."
   ]
  },
  {
   "cell_type": "markdown",
   "id": "greater-tactics",
   "metadata": {},
   "source": [
    "Recall that the appropriate measure of association when you have one categorical and one numeric variable is:\n",
    "* *Eta squared*\n",
    "\n",
    "This tells us the strength of the association but not the direction (we need to infer this from the summary tables above). *Eta squared* coefficient ranges from 0 to 1, with higher values representing stronger associations."
   ]
  },
  {
   "cell_type": "markdown",
   "id": "banned-austria",
   "metadata": {},
   "source": [
    "First let's create separate datasets for each age group (I know, sorry, *R* is a lot of work in this regard):"
   ]
  },
  {
   "cell_type": "code",
   "execution_count": null,
   "id": "clinical-hanging",
   "metadata": {},
   "outputs": [],
   "source": [
    "natsal_16_24 <- natsal[natsal$agrp==\"16-24\",]\n",
    "natsal_25_34 <- natsal[natsal$agrp==\"25-34\",]\n",
    "natsal_35_44 <- natsal[natsal$agrp==\"35-44\",]\n",
    "natsal_45_54 <- natsal[natsal$agrp==\"45-54\",]\n",
    "natsal_55_64 <- natsal[natsal$agrp==\"55-64\",]\n",
    "natsal_65_74 <- natsal[natsal$agrp==\"65-74\",]"
   ]
  },
  {
   "cell_type": "markdown",
   "id": "brilliant-genealogy",
   "metadata": {},
   "source": [
    "And now let's calculate our measure of association for each age group."
   ]
  },
  {
   "cell_type": "code",
   "execution_count": null,
   "id": "c9250623",
   "metadata": {},
   "outputs": [],
   "source": [
    "install.packages(\"lsr\") # install the necessary package - only needs to be done once"
   ]
  },
  {
   "cell_type": "code",
   "execution_count": null,
   "id": "molecular-current",
   "metadata": {},
   "outputs": [],
   "source": [
    "library(lsr) # import the package containing the `etaSquared()` command"
   ]
  },
  {
   "cell_type": "code",
   "execution_count": null,
   "id": "successful-jordan",
   "metadata": {},
   "outputs": [],
   "source": [
    "model <- aov(attconservative ~ rsex, data = natsal_16_24)\n",
    "etaSquared(model)"
   ]
  },
  {
   "cell_type": "code",
   "execution_count": null,
   "id": "dutch-emergency",
   "metadata": {},
   "outputs": [],
   "source": [
    "model <- aov(attconservative ~ rsex, data = natsal_25_34)\n",
    "etaSquared(model)"
   ]
  },
  {
   "cell_type": "code",
   "execution_count": null,
   "id": "continent-hierarchy",
   "metadata": {},
   "outputs": [],
   "source": [
    "model <- aov(attconservative ~ rsex, data = natsal_35_44)\n",
    "etaSquared(model)"
   ]
  },
  {
   "cell_type": "code",
   "execution_count": null,
   "id": "stupid-supervision",
   "metadata": {},
   "outputs": [],
   "source": [
    "model <- aov(attconservative ~ rsex, data = natsal_45_54)\n",
    "etaSquared(model)"
   ]
  },
  {
   "cell_type": "code",
   "execution_count": null,
   "id": "superior-trustee",
   "metadata": {},
   "outputs": [],
   "source": [
    "model <- aov(attconservative ~ rsex, data = natsal_55_64)\n",
    "etaSquared(model)"
   ]
  },
  {
   "cell_type": "code",
   "execution_count": null,
   "id": "pleasant-spring",
   "metadata": {},
   "outputs": [],
   "source": [
    "model <- aov(attconservative ~ rsex, data = natsal_65_74)\n",
    "etaSquared(model)"
   ]
  },
  {
   "cell_type": "markdown",
   "id": "vietnamese-tongue",
   "metadata": {},
   "source": [
    "Just as we suspected: the association is strongest in the 55-64 age group."
   ]
  },
  {
   "cell_type": "markdown",
   "id": "harmful-visibility",
   "metadata": {},
   "source": [
    "**TASK**: conduct a multivariate analysis of attitude to sex (`attconservative`), respondent's sex (`rsex`) and respondent's ethnicity (`ethnicgrp`)."
   ]
  },
  {
   "cell_type": "code",
   "execution_count": null,
   "id": "binary-fusion",
   "metadata": {},
   "outputs": [],
   "source": [
    "# INSERT CODE HERE"
   ]
  },
  {
   "cell_type": "markdown",
   "id": "breathing-france",
   "metadata": {},
   "source": [
    "### Two Numeric and One Categorical"
   ]
  },
  {
   "cell_type": "markdown",
   "id": "reliable-lemon",
   "metadata": {},
   "source": [
    "We perform this type of multivariate analysis by considering whether bivariate association between the two numeric variables changes across values of a categorical variable. For example, is the association between age at birth of first child and attitude to sex the same for males and females?"
   ]
  },
  {
   "cell_type": "markdown",
   "id": "boolean-dialogue",
   "metadata": {},
   "source": [
    "First we describe and measure the bivariate association between the two numeric variables:"
   ]
  },
  {
   "cell_type": "code",
   "execution_count": null,
   "id": "environmental-powell",
   "metadata": {},
   "outputs": [],
   "source": [
    "plot(natsal$dage1ch, natsal$attconservative) # X variable (axis) is listed first, Y variable (axis) second"
   ]
  },
  {
   "cell_type": "markdown",
   "id": "tracked-clinton",
   "metadata": {},
   "source": [
    "A visual inspection of the joint distribution does not reveal any obvious pattern or relationship: as the age at which an individual had their first child increases, there does not seem to be any obvious change in attitude to sex. We can confirm our interpretation by calculating an appropriate measure of association (*Pearson's correlation coefficient (r)*)."
   ]
  },
  {
   "cell_type": "code",
   "execution_count": null,
   "id": "infinite-attack",
   "metadata": {},
   "outputs": [],
   "source": [
    "cor(natsal$dage1ch, natsal$attconservative, use = \"complete.obs\")"
   ]
  },
  {
   "cell_type": "markdown",
   "id": "going-thursday",
   "metadata": {},
   "source": [
    "The correlation coefficient confirms our interpretation: there is a weak-to-non-existent negative association. That is, individuals who had their first child at an older age are slightly less likely to hold conservative attitudes to sex."
   ]
  },
  {
   "cell_type": "markdown",
   "id": "young-torture",
   "metadata": {},
   "source": [
    "Do we find the same relationship between these variables for males and females?"
   ]
  },
  {
   "cell_type": "code",
   "execution_count": null,
   "id": "9cf1603f",
   "metadata": {},
   "outputs": [],
   "source": [
    "natsal_males <- natsal[natsal$rsex==\"Male\",] # create a dataset containing only males\n",
    "natsal_females <- natsal[natsal$rsex==\"Female\",] # create a dataset containing only females"
   ]
  },
  {
   "cell_type": "code",
   "execution_count": null,
   "id": "4896a61d",
   "metadata": {},
   "outputs": [],
   "source": [
    "plot(natsal_males$dage1ch, natsal_males$attconservative)"
   ]
  },
  {
   "cell_type": "code",
   "execution_count": null,
   "id": "d0ffb9b2",
   "metadata": {},
   "outputs": [],
   "source": [
    "plot(natsal_females$dage1ch, natsal_females$attconservative)"
   ]
  },
  {
   "cell_type": "markdown",
   "id": "1c54121e",
   "metadata": {},
   "source": [
    "It is difficult to tell by looking but it appears that the relationship between the two numeric variables is similar for males and females. We can confirm our intuition by calculating the correlation coefficient for males and females separately."
   ]
  },
  {
   "cell_type": "code",
   "execution_count": null,
   "id": "artificial-newton",
   "metadata": {},
   "outputs": [],
   "source": [
    "cor(natsal_males$dage1ch, natsal_males$attconservative, use = \"complete.obs\")\n",
    "cor(natsal_females$dage1ch, natsal_females$attconservative, use = \"complete.obs\")"
   ]
  },
  {
   "cell_type": "markdown",
   "id": "advanced-pioneer",
   "metadata": {},
   "source": [
    "The association remains negative and weak for both sexes."
   ]
  },
  {
   "cell_type": "markdown",
   "id": "c5ce7ff6",
   "metadata": {},
   "source": [
    "**TASK**: conduct a multivariate analysis of attitude to sex (`attconservative`), age at birth of first child (`dage1ch`) and respondent's ethnicity (`ethnicgrp`)."
   ]
  },
  {
   "cell_type": "code",
   "execution_count": null,
   "id": "8173af1f",
   "metadata": {},
   "outputs": [],
   "source": [
    "# INSERT CODE HERE"
   ]
  },
  {
   "cell_type": "markdown",
   "id": "controversial-teach",
   "metadata": {},
   "source": [
    "### Three Categorical"
   ]
  },
  {
   "cell_type": "markdown",
   "id": "thirty-version",
   "metadata": {},
   "source": [
    "Finally, we consider situations where we have three categorical variables. In this instance it is best to think of one of these variables as your outcome, and the other two as potential predictors / explanatory factors. This will aid your interpretation of the tables and graphs that we will produce.\n",
    "\n",
    "Let's start with our measure of religious importance (`religimp`) and consider whether the distribution of this variable varies across two other categorical variables: age group (`agrp`) and respondent's sex (`rsex`). "
   ]
  },
  {
   "cell_type": "code",
   "execution_count": null,
   "id": "varying-poultry",
   "metadata": {},
   "outputs": [],
   "source": [
    "table(natsal$religimp)"
   ]
  },
  {
   "cell_type": "markdown",
   "id": "patient-halloween",
   "metadata": {},
   "source": [
    "We can analyse the joint distribution with age group or sex as follows:"
   ]
  },
  {
   "cell_type": "code",
   "execution_count": null,
   "id": "stopped-astronomy",
   "metadata": {},
   "outputs": [],
   "source": [
    "relig_age_table <- table(natsal$agrp, natsal$religimp)\n",
    "round(prop.table(relig_age_table, 1)* 100, 0) # row percentages"
   ]
  },
  {
   "cell_type": "code",
   "execution_count": null,
   "id": "hairy-intent",
   "metadata": {},
   "outputs": [],
   "source": [
    "relig_sex_table <- table(natsal$rsex, natsal$religimp)\n",
    "round(prop.table(relig_sex_table, 1)* 100, 0) # row percentages"
   ]
  },
  {
   "cell_type": "markdown",
   "id": "respective-yacht",
   "metadata": {},
   "source": [
    "It is quite simple to add an extra categorical variable to a crosstabulation; again most of the work in *R* is focused on presenting the table in a readable manner.\n",
    "\n",
    "To help us when interpreting the table, we will define our analysis as follows:\n",
    "* Is there an association between importance of religion and respondent's sex?\n",
    "* Does this association vary across age groups?"
   ]
  },
  {
   "cell_type": "code",
   "execution_count": null,
   "id": "crude-update",
   "metadata": {},
   "outputs": [],
   "source": [
    "ras_table <- table(natsal$agrp, natsal$rsex, natsal$religimp) # create crosstabulation - variable 1 is the control variable,\n",
    "# variable 2 is the X (predictor) variable, variable 3 is the Y (outcome) variable.\n",
    "\n",
    "ras_prop_table <- addmargins(prop.table(ras_table, c(1,2)), 3) # calculate proportions\n",
    "\n",
    "ras_perc_table <- round(ftable(ras_prop_table) * 100, 0) # convert proportions to percentages\n",
    "\n",
    "ras_perc_table # display table"
   ]
  },
  {
   "cell_type": "markdown",
   "id": "floppy-premiere",
   "metadata": {},
   "source": [
    "Let's unpack the above table:\n",
    "* Each row represents a combination of age and sex e.g., 16-24 year old females.\n",
    "* Each column represents a category of the `religimp` variable, including a final column capturing the sum of the percentages in the table.\n",
    "* The numbers represent the percentage of respondents who fall into each category of the `religimp` variable, for a given combination of age and sex.\n",
    "\n",
    "Therefore we need to compare percentages over the rows of the table. For example, we observe that 46% of females in the 65-74 age group claim religion is 'Fairly important', compared to 34% of males in the same age group.\n",
    "\n",
    "We can compare any rows we wish, as long as it is substantively interesting of course: 20% of females in the 16-24 age group compared to 46% of females in the 65-74 age group - a difference of 26 percentage points. The difference is smaller for males of the same age groups (14 percentage points)."
   ]
  },
  {
   "cell_type": "markdown",
   "id": "sorted-father",
   "metadata": {},
   "source": [
    "Three-way crosstabulations are tricky to interpret, so be patient and careful when drawing conclusions from them."
   ]
  },
  {
   "cell_type": "markdown",
   "id": "spatial-front",
   "metadata": {},
   "source": [
    "**TASK**: Replace `agrp` with `ethnicgrp` in the above crosstabulation."
   ]
  },
  {
   "cell_type": "code",
   "execution_count": null,
   "id": "collected-radical",
   "metadata": {},
   "outputs": [],
   "source": [
    "# INSERT CODE HERE"
   ]
  },
  {
   "cell_type": "markdown",
   "id": "f5e8f671",
   "metadata": {},
   "source": [
    "Remember the point of adding a third variable (`agrp`): does the association between sex and religious importance vary across ages? Let's calculate the Cramer's V measure of association between `rsex` and `religimp` for each age group. Thankfully we have already created the individual datasets corresponding to each age group:"
   ]
  },
  {
   "cell_type": "code",
   "execution_count": null,
   "id": "404bcf11",
   "metadata": {},
   "outputs": [],
   "source": [
    "natsal_16_24 # dataset containing only 16-24 year olds"
   ]
  },
  {
   "cell_type": "code",
   "execution_count": null,
   "id": "6c181013",
   "metadata": {},
   "outputs": [],
   "source": [
    "install.packages(\"DescTools\") # install the necessary package - only needs to be done once"
   ]
  },
  {
   "cell_type": "code",
   "execution_count": null,
   "id": "dental-details",
   "metadata": {},
   "outputs": [],
   "source": [
    "library(DescTools) # import the package containing the `CramerV()` command"
   ]
  },
  {
   "cell_type": "code",
   "execution_count": null,
   "id": "dc782f8a",
   "metadata": {},
   "outputs": [],
   "source": [
    "CramerV(natsal_16_24$religimp, natsal_16_24$rsex)\n",
    "CramerV(natsal_25_34$religimp, natsal_25_34$rsex)\n",
    "CramerV(natsal_35_44$religimp, natsal_35_44$rsex)\n",
    "CramerV(natsal_45_54$religimp, natsal_45_54$rsex)\n",
    "CramerV(natsal_55_64$religimp, natsal_55_64$rsex)\n",
    "CramerV(natsal_65_74$religimp, natsal_65_74$rsex)"
   ]
  },
  {
   "cell_type": "markdown",
   "id": "6e577ce4",
   "metadata": {},
   "source": [
    "We see some variation in the strength of the association across age groups. Broadly, it appears that the association is strongest for the oldest age groups. Put another way: the differences between males and females with respect to religious importance are largest in the oldest age groups."
   ]
  },
  {
   "cell_type": "markdown",
   "id": "colored-plate",
   "metadata": {},
   "source": [
    "## Conclusion"
   ]
  },
  {
   "cell_type": "markdown",
   "id": "southeast-giving",
   "metadata": {},
   "source": [
    "In this lesson we encountered a range of techniques for summarising more than three or more variables at a time.\n",
    "\n",
    "There is another Week 11 lesson that focuses on a range of techniques for expressing the uncertainty inherent in our quantitative analyses.\n",
    "\n",
    "In Week 12, we bring all our learning together to write a report based on a piece of quantitative data analysis."
   ]
  }
 ],
 "metadata": {
  "kernelspec": {
   "display_name": "R",
   "language": "R",
   "name": "ir"
  },
  "language_info": {
   "codemirror_mode": "r",
   "file_extension": ".r",
   "mimetype": "text/x-r-source",
   "name": "R",
   "pygments_lexer": "r",
   "version": "4.2.1"
  }
 },
 "nbformat": 4,
 "nbformat_minor": 5
}
